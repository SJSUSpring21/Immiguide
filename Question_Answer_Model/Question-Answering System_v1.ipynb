{
 "cells": [
  {
   "cell_type": "markdown",
   "metadata": {},
   "source": [
    "### Gather the data "
   ]
  },
  {
   "cell_type": "code",
   "execution_count": 100,
   "metadata": {},
   "outputs": [
    {
     "name": "stdout",
     "output_type": "stream",
     "text": [
      "['Q : What is SEVP certification and do schools need it?\\n', '\\n', 'Student and Exchange Visitor Program (SEVP) certification authorizes schools to issue Forms I-20, \"Certificate of Eligibility for Nonimmigrant Student Status, \" to prospective international students after admitting them for a course of study. If certified, the school will gain access to the Student and Exchange Visitor Information System and may begin issuing Forms I-20. To maintain certification, the school must comply with SEVP policies as well as record keeping and reporting requirements stipulated in 8 CFR 214.3.\\n', '\\n', 'Schools only need SEVP certification if they wish to enroll F and M students, and SEVP is the only government entity that can certify a school to issue Forms I-20.\\n', '\\n', '\\n', 'Q : How does an international student know if a school is SEVP certified?\\n', '\\n', 'Use the School Search in Tools section of Study in the States to find Student and Exchange Visitor Program (SEVP)-certified schools and programs eligible to enroll F-1 and M-1 students. Use the tool to search by school name, location, education or visa type.\\n', '\\n', 'Q: How does an international student receive a Form I-20 and why do they need one?\\n', '\\n', 'After prospective students are accepted to a Student and Exchange Visitor Program (SEVP)-certified school, a designated school official from that school will send them a Form I-20, “Certificate of Eligibility for Nonimmigrant Student Status.” Students will receive a Form I-20 from every SEVP-certified school that accepts them. It is important that they only use the Form I-20 from the school they plan to attend when following the steps in the international student life cycle and entering the country.\\n', '\\n', 'The Form I-20 is an important document that international students will need to complete the following actions:\\n', '\\n', 'Pay the I-901 SEVIS Fee.\\n', 'Apply for a nonimmigrant visa from the U.S. Department of State.\\n', 'Seek admission at a port of entry from U.S. Customs and Border Protection.\\n', 'Change or extend status through U.S. Citizenship and Immigration Services.\\n', \"Apply for student benefits (e.g., driver's license, employment authorization, Social Security number).\\n\", '\\n', '\\n', '\\n', \"Q: What is the difference between a Form I-20, a visa and student's status?\\n\", '\\n', \"A student's Form I-20 is a document issued to accepted students by Student and Exchange Visitor Program (SEVP)-certified schools that indicates a student's primary purpose for coming to the United States. A student visa is a travel document you receive from a U.S. consulate or embassy before entering the United States. A student's status is what a person must maintain after they are granted entrance into the United States.\\n\", '\\n', \"Both a visa and a status reflect someone's primary purpose for coming to the United States. As an F-1 or M-1 student, this purpose is to complete a full course of study at an SEVP certified school.\\n\", '\\n', '\\n', 'Q: Can international students attend a K-12 school in the United States?\\n', '\\n', 'Yes, international students can attend a Student and Exchange Visitor Program (SEVP)-certified kindergarten through grade 12 (K-12) school. Regulations place no limit on the length of time an F-1 student may attend a private, SEVP-certified K-12 school.\\n', '\\n', 'However, international students cannot attend public elementary or middle schools and may only enroll in a public high school for a maximum of one year. SEVP does not certify programs of study below the kindergarten level, thus schools cannot issue Forms I-20, “Certificate of Eligibility for Nonimmigrant Student Status, ” for that level. Download the K-12 Public & Private Schools: Know the Difference infographic to learn more.\\n', '\\n', 'Note that minor F-2 and M-2 students (dependent children of F-1 or M-1 students) may attend school at the appropriate grade level without becoming F-1s or M-1s, or any additional permission or documentation from SEVP. State education laws may require that F-2 and M-2 students attend the appropriate grade level until a certain age. The elementary or secondary school an F-2 or M-2 student attends does not need to be SEVP certified.\\n', '\\n', '\\n', 'Q: Can international students bring their family members to the United States while they study?\\n', '\\n', 'F-1 and M-1 students may bring their spouses and children under the age of 21 with them to the United States for the duration of their course of study. These individuals are the only dependent family members eligible for admission into United States under the F-2 or M-2 nonimmigrant status.\\n', '\\n', 'Students must tell their designated school official about any dependents they will bring to the United States, as each dependent will need their own Form I-20, “Certificate of Eligibility for Nonimmigrant Student Status.” The status of F-2 or M-2 individuals depends on the status of their F-1 or M-1 spouse or parent. This means the United States cannot admit a person into the United States under an F-2 or M-2 category unless their parent or spouse is an F-1 or M-1 student.\\n', '\\n', 'Dependents are not allowed to work in the United States but under certain circumstances can enroll in school. State education laws may require that minor F-2 and M-2 dependents (i.e., children under the age of 18) attend the appropriate grade level until a certain age. The elementary or secondary school an F-2 or M-2 student attends does not need to be Student and Exchange Visitor Program certified.\\n', '\\n', '\\n', '\\n', 'Q: What is accreditation and how does the Accreditation Act apply to SEVP-certified schools?\\n', '\\n', 'Accreditation is the recognition from an accrediting agency that an institution maintains a certain level of educational standards. The U.S. Department of Education maintains a database of accrediting agencies it recognizes.\\n', '\\n', 'On Dec. 14, 2010, former President Barack Obama signed the Accreditation of English Language Training Programs Act (commonly referred to as the \"Accreditation Act\"), which amended Section 101(a)(15)(F)(i) of the Immigration and Nationality Act to state that F-1 nonimmigrant students intending to pursue an English language training course of study must enroll in an English language training program that has been accredited by a regional or national accrediting agency recognized by the Department of Education.\\n', '\\n', 'This means that while accreditation is not a requirement for most schools seeking Student and Exchange Visitor Program (SEVP) certification, it is a requirement for all English language training programs and stand-alone English language training schools seeking certification. Note that schools seeking SEVP certification that are not accredited must submit specific evidence in lieu of accreditation (read more about this requirement on ICE.gov).\\n', '\\n', '\\n', 'Q: What is the difference between a vocational school and an academic school?\\n', 'Vocational schools are institutions of learning that provide training and education for a particular skillset or occupation (culinary schools, cosmetology schools, flight training schools, etc.).\\n', '\\n', 'Academic schools are institutions of learning that provide scholarly courses like mathematics, sciences and the humanities (colleges, universities, seminaries, high schools, etc.).\\n', '\\n', '\\n', 'Q: Can international students study at both public and private schools in the United States?\\n', '\\n', 'Yes. F-1 and M-1 students may study at both public and private schools in the United States. The only requirement is that the school has and properly maintains its Student and Exchange Visitor Program certification.\\n', '\\n', 'However, there are some limitations for how long an international student can study at certain public institutions. Specifically, nonimmigrant students cannot attend public elementary or middle schools and may only enroll in a public high school (grades ninth through 12th) for a maximum of one year. download the K-12 Public & Private Schools: Know the Difference infographic to learn more.\\n', '\\n', '\\n', 'Q: Can international students enroll in online courses?\\n', '\\n', 'Only one online or distance learning class can count toward a full course of study for an F-1 student during each term or semester.\\n', '\\n', \"No online or distance learning classes may count toward an M-1 or ESL student's full course of study requirement.\\n\", '\\n', 'For more information about online courses, please visit the Full Course of Study page. \\n', '\\n', '\\n', '\\n', 'Q: Do different rules apply to international students depending on what type of school they attend?\\n', '\\n', 'Yes. Students who receive a Form I-20, “Certificate of Eligibility for Nonimmigrant Student Status, ” to enroll in a vocational school must maintain M-1 status, while students who receive a Form I-20 to attend an academic school must maintain F-1 status.\\n', '\\n', 'Specifically, M-1 and F-1 students:\\n', '\\n', 'Have different full course of study requirements.\\n', 'Are eligible for different working and training opportunities.\\n', 'Follow different rules for transferring and extending/changing their status.\\n', 'Have different time frames for departing the United States after completing their program.\\n', 'Download the F&M Student Status: Know the Difference infographic to learn more about the specific differences.\\n', '\\n', 'Additionally, F-1 students attending an English language training program must follow a unique set of rules. For more information about these rules, visit the English Language Training page.\\n', '\\n', 'For more general information about the rules F-1 and M-1 students must follow while they are in the United States, visit the Maintaining Status page.\\n', '\\n', '\\n', 'Q: How many classes make up a full course of study?\\n', '\\n', \"The definition of a full course of study varies depending on both a student's status (F-1 or M-1) and their program of study. For instance, U.S. government regulations define a full course of study at a Student and Exchange Visitor Program (SEVP)-certified kindergarten to grade 12 school differently than at an SEVP-certified college or university.\\n\", '\\n', \"For a complete breakdown of the full course of study requirements based on a student's status and programs of study, visit the Full Course of Study page.\\n\", '\\n', '\\n', '\\n', 'Q: What does it mean to maintain status?\\n', '\\n', 'Maintaining status means:\\n', '\\n', 'Fulfilling the purpose for why the U.S. Department of State issued a visa.\\n', 'Following the regulations associated with that purpose.\\n', 'This means if a student gains entry into the United States on an F-1 or M-1 visa, they are coming to the United States to study and cannot take any action that detracts from that purpose. It is the responsibility of the designated school official to ensure that a student properly understands and complies with the rules that apply to their student status. For more information, visit the Maintaining Status page.\\n', '\\n', '\\n', '\\n', 'Q: Do international students get vacation time?\\n', '\\n', 'F-1 students are eligible to take an annual vacation after they complete one full academic year at a Student and Exchange Visitor Program (SEVP)-certified school. M-1 students are not eligible for annual vacation.\\n', '\\n', 'However, some SEVP-certified schools may close for a short period of time, normally during a U.S. holiday or break from classes such as spring or winter break. Because classes are not in session during these breaks, these breaks do not adversely impact a student’s status. If a student has questions about breaks at school, they should talk to their designated school official.\\n', '\\n', 'For more information about the annual vacation requirements for F-1 students, please visit the Maintaining Status page.\\n', '\\n', '\\n', 'Q: Are international students allowed to transfer schools?\\n', '\\n', 'Yes, international students may be eligible to transfer to another Student and Exchange Visitor Program (SEVP)-certified school. Students must consistently maintain F or M status and follow the correct transfer procedures. In most cases, M-1 students may only transfer within the first six months of their program. For more detailed information about the transfer requirements and the procedures to follow, please visit the Transferring to Another School page.\\n', '\\n', 'Please note that since Student and Exchange Visitor Information System records are government property, federal rules and regulations govern how designated school officials (DSOs) must maintain and transfer them. These regulations explain that DSOs must transfer a SEVIS record to another SEVP-certified institution upon a student’s request, even if this request comes at the beginning of a student’s initial term.\\n', '\\n', '\\n', 'Q: If an international student needs more time to finish their program of study, what should they do?\\n', '\\n', 'A student who needs more time to finish their program of study should speak with their designated school official (DSO) as soon as possible to discuss their options. A student’s options for extending their stay and the process for doing so depends on whether that student is in F-1 or M-1 status.\\n', '\\n', 'M-1 students must work closely with their DSO to apply for an extension of stay with U.S. Citizenship and Immigration Services within the designated time frame. For more information about this process, please visit the M-1 Extension of Stay page.\\n', '\\n', 'F-1 students must speak with their DSO prior to the program end date listed on their Form I-20, “Certificate of Eligibility for Nonimmigrant Student Status.” The DSO will determine if the F-1 student qualifies for a program extension and can update SEVIS accordingly. \\n', '\\n', '\\n', 'Q: When does withdrawing from a class become a violation of status?\\n', '\\n', 'Students must enroll in a full course of study in order to maintain their status. Under certain circumstances, a student may be eligible for a reduced course load. However, a student must talk to their designated school official (DSO) and have their DSO authorize a reduced course load prior to dropping below a full course study.\\n', '\\n', 'If a student drops below a full course of study without their DSO’s authorization, that student is in violation of their status.\\n', '\\n', 'Q: Can international students obtain a Social Security number?\\n', '\\n', 'Every F-1 and M-1 student who U.S. Citizenship and Immigration Services grants employment authorization to needs a Social Security number. For more information about the process, Visit https://studyinthestates.dhs.gov/students/obtaining-a-social-security-number page. \\n', '\\n', '\\n', '\\n', 'Q: Can international students drive in the United States?\\n', '\\n', \"F-1 and M-1 students and their dependents may be eligible to drive a motor vehicle while residing in the United States. However, those who wish to operate a vehicle must successfully apply for and receive a driver's license. Driving a car without a driver's license is illegal. To acquire a driver's license, you must apply for one at your local Department of Motor Vehicles, which can have a different name in some states. Visit https://studyinthestates.dhs.gov/students/study/driving-in-the-united-states. \\n\", '\\n', '\\n', '\\n', 'Q: What are SAVE and E-Verify?\\n', '\\n', \"The Systematic Alien Verification for Entitlements (SAVE) Program can be used to verify a nonimmigrant's eligibility to receive a certain benefit. E-Verify is an internet-based system that allows businesses to determine the eligibility of their employees to work in the United States. E-Verify is fast, free and easy to use—and provides a way for employers to ensure a legal workforce.\\n\", '\\n', 'The U.S. Citizenship and Immigration Services administers both verification programs. For more information, visit the https://studyinthestates.dhs.gov/students/study/save-case-check. \\n', '\\n', '\\n', '\\n', 'Q: Can international students work while in the United States?\\n', 'The U.S. government takes working illegally very seriously. There are limited work opportunities available in the United States for F-1 students. For this reason, before coming to the United States, F-1 students must prove they have the financial ability (e.g., present bank statements) to pay for tuition and living expenses while studying. If an F-1 student decides to work, the first step is always to talk with their designated school official. M-1 students are ineligible to work.\\n', '\\n', '\\n', '\\n', '\\n', 'Q: What is the difference between working and training in the United States?\\n', '\\n', \"The United States allows eligible students and new graduates the opportunity to gain on-the-job learning that supplements knowledge gained in their academic studies. These training opportunities differ from “working in the United States” because the training must relate to the student's program of study.\\n\", '\\n', 'To participate in one of these training opportunities, an international student does not need to change their nonimmigrant status. Instead, the student must work with their designated school official to ensure eligibility as well as apply for and receive proper authorization.\\n', '\\n', '\\n', '\\n', 'Q: Do international students need to pay income taxes in the United States?\\n', '\\n', 'F-1 or M-1 students must pay taxes if they have:\\n', '\\n', 'Income from wages, unless the income earned does not exceed the personal exemption amount.\\n', 'A taxable scholarship or fellowship.\\n', 'Income from stock options.\\n', 'Lottery or gambling winnings.\\n', 'Other types of non-wage income.\\n', 'For F-1 or M-1 students, some income in the United States is not taxable, including any income from:\\n', '\\n', 'Foreign sources.\\n', 'Interest income from a U.S. bank, savings and loan institution, credit union or insurance company.\\n', 'A tax-free scholarship or fellowship.\\n', 'Certain types of tax-free investments.\\n', 'Visit : https://www.irs.gov/individuals/international-taxpayers/foreign-students-scholars-teachers-researchers-and-exchange-visitors \\n', '\\n', '\\n', '\\n', 'Q: Can dependents work and study in the United States?\\n', '\\n', 'Dependents are not allowed to work in the United States but under certain circumstances adult dependents can enroll part time in school. However, state education laws may require that minor F-2 and M-2 dependents (i.e., children under the age of 18) attend the appropriate grade level until a certain age. The elementary or secondary school an F-2 or M-2 student attends does not need to be SEVP certified.\\n', '\\n', '\\n', '\\n', '\\n', '\\n', '\\n', 'Q: What is the STEM OPT extension?\\n', '\\n', \"The science, technology, engineering and mathematics (STEM) optional practical training (OPT) extension is a 24-month period of temporary training that directly relates to an F-1 student's program of study in an approved STEM field. Eligible F-1 students with STEM degrees who finish their program of study and participate in an initial period of regular post-completion OPT (for up to 12 months) have the option to apply for a STEM OPT extension.\\n\", '\\n', '\\n', '\\n', '\\n', 'Q: Do international students need health insurance while studying in the United States?\\n', '\\n', 'F-1 and M-1 students have the responsibility to purchase health insurance for themselves and their families while they study in the United States. The Student and Exchange Visitor Program-certified school a student attends may provide health care during studies; however, requirements and fees associated with health coverage differ from school to school. Students should speak with their designated school officials to find out what health insurance fees to expect and options to consider.\\n', '\\n', 'Q: What is the SEVP Portal?\\n', '\\n', 'The Student and Exchange Visitor Program (SEVP) Portal is an important tool that allows F-1 students on post-completion optional practical training and M-1 students participating in practical training to report their personal and employer information directly to SEVP. The SEVP Portal helps these international students meet their legal reporting requirements without relying on their designated school official (DSO) to update their information. To set up an SEVP Portal account, students must confirm with their DSO that their email address is accurately saved in the Student and Exchange Visitor Information System.\\n', '\\n', '\\n', 'Types of OPT\\n', 'All OPT must be directly related to your major area of study. If you are an F-1 student, you may be eligible to participate in OPT in two different ways:\\n', '\\n', 'Pre-completion OPT:  You may apply to participate in pre-completion OPT after you have been lawfully enrolled on a full-time basis for one full academic year at a college, university, conservatory, or seminary that has been certified by the U.S. Immigration and Customs Enforcement (ICE) Student and Exchange Visitor Program (SEVP) to enroll F-1 students. You do not need to have had F-1 status for the one full academic year; you can satisfy the “one full academic year” requirement even if you had another nonimmigrant status during that time.\\n', 'If you are authorized to participate in pre-completion OPT, you may work part time (20 hours or less per week) while school is in session. You may work full time when school is not in session.          \\n', '\\n', 'Post-completion OPT:  You may apply to participate in post-completion OPT after completing your studies. If you are authorized for post-completion OPT, you may work part time (20 hours or less per week) or full time.\\n', 'If you participated in pre-completion OPT, USCIS will deduct that amount of time from your post-completion OPT authorization period. For example, if you participated in 10 months of pre-completion OPT, you would be eligible for only up to 2 months of post-completion OPT.  \\n', '\\n', 'STEM OPT Extension\\n', 'If you have earned a degree in certain science, technology, engineering and math (STEM) fields, you may apply for a 24-month extension of your post-completion OPT employment authorization if you:\\n', '\\n', 'Are an F-1 student who received a STEM degree included on the STEM Designated Degree Program List  (PDF);\\n', 'Are employed by an employer who is enrolled in and is using E-Verify; and\\n', 'Received an initial grant of post-completion OPT employment authorization based on your STEM degree.\\n', 'If you are interested in applying for a STEM OPT extension, please see our Optional Practical Training Extension for STEM Students (STEM OPT) page for more information.\\n', '\\n', 'Applying for OPT\\n', '\\n', 'Generally, you must:\\n', 'Request that your designated school official (DSO) at your academic institution recommend the OPT. Your DSO will make the recommendation by endorsing your Form I‑20, Certification of Eligibility for Nonimmigrant Student Status, and making the appropriate notation in the Student and Exchange Visitor Information System (SEVIS).\\n', 'Properly file Form I-765, Application for Employment Authorization with USCIS, accompanied by the required fee and the supporting documentation as described in the form instructions.\\n', '\\n', 'You may begin your OPT only after we approve your Form I-765 and you receive your Employment Authorization Document (EAD).\\n', '\\n', 'If you file your STEM OPT extension application on time and your OPT period expires while your extension application is pending, we will automatically extend your employment authorization for 180 days. This automatic 180-day extension ceases once USCIS adjudicates your STEM OPT extension application.\\n', '\\n', 'Transferring to a Different School or Beginning Study at Another Educational Level\\n', 'If you transfer to another school or begin studies at another educational level (for example, you completed a bachelor’s degree and are starting a master’s program), your authorization to engage in OPT employment will automatically terminate. SEVP will inform USCIS of the termination date, and USCIS will terminate your EAD accordingly. \\n', '\\n', 'Although your authorization to engage in optional practical training will end, as long as you comply with all requirements for maintaining your student status, your F-1 status will not be affected by USCIS terminating your EAD. Maintaining your student status includes not working on a terminated EAD, as the termination means that you are no longer authorized to work in the United States using that OPT EAD. Working in the United States without authorization has serious consequences, including removal from the country and reentry bars. Also, remaining in the United States in violation of your lawful nonimmigrant status could lead to an accrual of unlawful presence. Please see USCIS Changing Policy on Accrued Unlawful Presence by Nonimmigrant Students and Exchange Visitors for more information regarding termination of your employment authorization under OPT and any impacts on your student status, including the possible accrual of unlawful presence.\\n', 'If you feel that your EAD has been wrongfully terminated, would like to request reconsideration of the EAD termination, or if you have other questions, see your DSO. \\n', '\\n', 'Cap-gap Extension for F-1 Students with Approved H-1B Petitions\\n', 'If you are an F-1 student with a timely filed H-1B petition and change of status request, and your F-1 status and employment authorization will expire before the change of status to H-1B occurs (typically Oct. 1), you may be eligible for a cap-gap extension. Go to our Cap-Gap Extension page for more information.\\n', '\\n', 'Q: I just started my studies in the US. Am I eligible to start Curricular Practical Training right away?\\n', '\\n', 'A: Most likely not. You need to be in F-1 status and enrolled on a full-time basis for at least one full academic year before becoming eligible for practical training. Only those graduate students are eligible to star CPT in their first semester if the CPT is required of all students in their academic program.\\n', '\\n', 'Q: When am I eligible to apply for CPT if I transfer from another US school?\\n', '\\n', 'A: You will be eligible once you have been enrolled in F-1 status for at least one full academic year; this may be cumulative at both institutions.\\n', '\\n', 'Q: I found a very good internship opportunity. May I start work next week?\\n', '\\n', 'A: No. You must first have authorization from the international student advisor before you begin paid or unpaid internship or any other form of Curricular Practical Training. You need to get a new SEVIS I-20 issues by the international student advisor which is endorsed with CPT authorization before you begin the internship\\n', '\\n', 'Q: How long may I work on CPT?\\n', '\\n', \"A: CPT can be approved for part-time (20 hours or less) or full-time (over 20 hours). There is no regulatory limit on either the number of times or length of time a student may engage in either part or full-time Curricular Practical Training. This will be governed by the nature of the training and the requirement of the student's program. The regulations do not prohibit multiple, concurrent CPT employers.\\n\", '\\n', 'Q: May I complete full time CPT and still be eligible for OPT?\\n', '\\n', 'A: Students who complete 12 or more months of full-time CPT become ineligible for OPT. Use of part-time CPT does not affect eligibility for OPT. To continue to be eligible for OPT you will want to make sure to complete 364 days or less of full-time CPT.\\n', '\\n', 'Q: How long may I work on CPT?\\n', '\\n', 'A: This depends on the specific period granted by the international student advisor. It may be granted by the international student advisor in increments of no more than one year, or until expected date of employment completion, which ever is shorter. No cumulative maximum, except that it can only be approved before completion of the academic objective. Please see question and answer above for additional information.\\n', '\\n', 'Q: Who can be my employer during CPT?\\n', '\\n', 'A: Students may engage in CPT only for the specific employer, location and period approved and recorder by the international student advisor in SEVIS.\\n', '\\n', 'Q: I heard that Curricular Practical Training is any off-campus job. Is that true?\\n', '\\n', 'A: No. USCIS defines CPT as an employment that is an integral part of an established curriculum. It includes alternative work/study, internship or cooperative education arranged with the approval of your academic program, or any type of required internship or practicum that is offered by sponsoring employers through cooperative agreements. CPT may take place during the academic year and/or in the summer/winter and MUST be undertaken and completed prior to the completion of the course of study.\\n', '\\n', 'Q: What if I get a new job in my area of studies? Do I need to apply again?\\n', '\\n', 'A: Yes. A new application will be required if there is a change of employers or if the employment is to be continued beyond the current ending date. An updated offer letter and updated Certificate of Completion of Studies form are required.\\n', '\\n', 'Q: Is CPT usually required or is it only recommended?\\n', '\\n', \"A: USCIS interprets CPT in two ways. CPT may be required or recommended. This is decided by the stated requirements of an academic degree. CPT is required when it is a required part of the curriculum; it should be mentioned in the University catalog in the description of the department's requirements for all students. CPT is recommended when it is beneficial for the student to engage in the employment experience but that experience is NOT necessary for the completion of the degree. A student authorized for recommended CPT is required by current immigration regulations to register for a minimum of 1 college credit which reflects the CPT placement; this credit must be granted by the academic department for each semester of the CPT placement, including the summer/winter sessions.\\n\", '\\n', 'Q: Is there a fee for CPT?\\n', '\\n', 'A: No fee is required with a CPT application. It is processes and approved by the international student advisor. \\n', '\\n', '\\n', 'Q: What is Curricular Practical Training?\\n', '\\n', 'Curricular Practical Training (CPT) is an F-1 off-campus authorization for paid and unpaid positions directly related to the major field of study listed on Page 1 of the Form I-20. CPT can be used to authorize a variety of positions, including employment, internships, fellowships, practicums, etc.\\n', '\\n', 'Q: Who is eligible for CPT?\\n', '\\n', 'F-1 Students who:\\n', '- Have been in lawful, full-time status for one full academic year\\n', 'Will not complete their degree requirements until after the position has ended\\n', '- Are in good academic standing\\n', '- Have been offered a position that is directly related to their major field of study\\n', '- Are in a degree program in which off-campus experience is an integral part of the curriculum Meet one of the following requirements:\\n', '- are enrolled in an internship course or tutorial for credit\\n', '- are required to participate in an internship (not for credit)\\n', '- are required to participate in a specific internship to complete the dissertation\\n', '\\n', 'Q: Do I need a job offer to apply ? \\n', '\\n', 'Yes. CPT can only be authorized for a specific position at a U.S. organization, at a specific location, during specific dates. The offer letter must be presented on company letterhead, with a brief job description, employment start date, employment end date, hours per week, and supervisor details.\\n', '\\n', 'Q: Do I need to be enrolled while on CPT?\\n', '\\n', 'Yes. If the CPT is granted in conjunction with an internship class, you must remain enrolled in the class throughout the semester and work only during the approved semester dates. If the CPT is granted as a degree requirement or dissertation necessity, you must be enrolled full time for the semester (unless approved for part-time by OGS in advance of beginning the CPT). Once CPT is approved by OGS, students are not permitted to withdraw from the CPT course even if they end their CPT prematurely.\\n', '\\n', 'Q: Do I need to pay an application fee for CPT?\\n', '\\n', 'No. There is no cost to the student for the CPT application. However, if the student is enrolled in an internship\\n', 'class, Georgetown University may charge tuition for the course credit.\\n', '\\n', 'Q: Does CPT affect my available OPT in future? \\n', '\\n', 'If you have been authorized for full-time CPT for a total of 12 full months (365 days), you will not be eligible for\\n', 'OPT. Otherwise, OPT should not be affected.\\n', '\\n', 'Q:  Is there an hours limit for CPT? \\n', '\\n', 'During required academic terms, your total employment/internship activities (on-campus and off-campus, paid and unpaid) may not exceed 20 hours per week. Note this is a weekly maximum, not an average.\\n', 'Exception: A few programs require full-time CPT during required academic terms, consult the program list (https://docs.google.com/document/d/1d5p7LuzgE7ZKkKDrK8H4K8zmpfiYl071xKsQKjRzu74/edit).\\n', '\\n', 'Q: I have part-time CPT authorization. Can I work full-time during Spring Break? \\n', '\\n', 'A part-time authorization is limited to 20 hours per week even during a university break.\\n', '\\n', '\\n', 'Q: When should I submit the CPT Request Form? \\n', '\\n', 'In order to request CPT authorization for the current term, you may submit the entire application to your dedicated IS Advisor (https://globalservices.georgetown.edu/contactus#IS) as soon as you get the offer letter, the most recent I-94 entry record, and have completed the CPT Request Form with your academic department or dean. For future semesters (e.g. in February you are offered an internship for summer), please email your dedicated IS Advisor (https://globalservices.georgetown.edu/contactus#IS) to determine the date OGS will begin processing applications for the next semester.\\n', 'Note: It is impossible to request a start date in the past!\\n', '\\n', 'Q: What is the timeline for processing this request? \\n', '\\n', 'OGS processing takes 3-5 business days and your IS Advisor will send an email when the new Form I-20 with CPT authorization is ready for pickup.\\n', '\\n', 'Q: How do I submit the CPT Request Form? \\n', '\\n', 'CPT Applications must be submitted by email to your dedicated IS Advisor\\n', '(https://globalservices.georgetown.edu/contactus#IS) as PDF attachments.\\n', '\\n', 'Q: Can I submit just one request if I need CPT for more than one semester? \\n', '\\n', 'No, students must submit separate CPT applications for reach semester or summer. Each CPT experience must demonstrate new skills and responsibilities the student will gain from the new position.\\n', '\\n', 'Q: How will I know if this request has been approved and my new I-20 is ready?\\n', '\\n', 'Your IS Advisor (https://globalservices.georgetown.edu/contactus#IS) will send an email to your GU email when the new Form I-20 is ready for pick up. If you do not receive this e-mail within 10 business days, send an email to your IS Advisor (https://globalservices.georgetown.edu/contactus#IS); to request an update\\n', '\\n', 'Q: How do I know that I am authorized for CPT? And when may I begin the CPT experience ? \\n', '\\n', 'The CPT authorization is on page 2 of the new Form I-20. You may begin working after you pick up the new I-20 and have reached the authorized CPT start date. You may not begin your CPT experience if that start date of the CPT has not yet been reached, even if you already have the I-20 with CPT authorization.\\n', '\\n', 'Q: Do I need to update my address if I will be living at a new address during my CPT? \\n', '\\n', 'Yes, F-1 students are required to update their local, U.S. address within 10 days of moving to the new address.\\n', 'Update your local off-campus address in MyAccess (https://myaccess.georgetown.edu/) to fulfill this requirement.\\n', '\\n', 'Q: Am I still in F-1 status during CPT? \\n', '\\n', 'Yes, you are still in F-1 status. CPT is not an immigration status. Rather, CPT is a benefit of F-1 status for off- campus authorization to engage in practical training in one’s field of study.\\n', '\\n', 'Q: Do I have to pay taxes on my CPT income? \\n', '\\n', 'Maybe. If you are an F-1 student and have not been in the United States for 5 years you should not be paying Social Security or Medicare taxes. However, you may be subject to income tax depending on the amount of money you earn and your tax rate. Please review the Tax (https://internationalservices.georgetown.edu/tax/) page and complete the Tax Questionnaire each February for current information.\\n', '\\n', 'Q: What happens if I am authorized for CPT and then I change my mind or lose my position or something about the position changes (location, hours, job description, etc)?\\n', '\\n', 'You must notify your dedicated IS Advisor (https://globalservices.georgetown.edu/contactus#IS) immediately in order to cancel or amend your CPT so your SEVIS record remains accurate.\\n', '\\n', 'Q: Can I request more than one period of CPT? \\n', '\\n', 'Yes, but many programs and departments limit the number of times student may enroll in an internship class or receive authorization. You must get permission from 1) your Dean or Academic Advisor and 2) your dedicated IS Advisor (https://globalservices.georgetown.edu/contactus#IS) for each period of CPT. CPT must remain integral to your curriculum and cannot be used to simply facilitate employment. The maximum number of CPT authorizations for any student is three per degree program.\\n', '\\n', '\\n', 'Q:  Do I have to register for anything if my CPT is related to a degree or dissertation requirement?\\n', ' \\n', ' There may not be a specific class for CPT related to a degree or dissertation requirement. However, students must be registered full time or with an OGS-approved courseload reduction to be eligible.\\n', '\\n', ' Q: I work  the library or five hours week and have been offered internship off campus. How many hours I can request in the CPT form? \\n', '\\n', ' While school is in session a student may only engage in a maximum of 20 hours of employment per week, on campus and off campus, paid and unpaid. A student who meets the eligibility requirements for CPT and works on campus 5 hours per week may be authorized for part-time CPT for an additional 15 hours. However, the total employment while school is in session may not exceed 20 hours per week (graduate assistantships count as\\n', '15 hours of permissible work per week; likewise Resident Hall Assistantships count as 20 hours per week).\\n', '\\n', 'Q: My program/school does not have a specific internship ourse. Can I still participate? \\n', '\\n', 'To participate in CPT, the program/school must either have:\\n', '- An approved internship course that carries credit, semester dates, a faculty supervisor and is listed in the University bulletin; or\\n', '- The academic dean or advisor must attest that the internship is a graduation degree requirement\\n', 'or the DGS or department chair must attest to the fact that the student needs the internship experience to complete the dissertation requirement.\\n', '\\n', 'If the program/school cannot attest to one of the above requirements, then CPT is not an option and Pre- completion OPT or work with an International Organization may be alternatives.\\n', '\\n', 'Q: My employer has asked me to work remotely. Is this permitted during CPT?\\n', '\\n', 'CPT authorization is intended to facilitate off-campus opportunities that resemble classroom instruction, albeit in a more practical context. A key characteristic of such an experience is a supervisory relationship, consisting of regular assignment and evaluation of deliverables. Practical Training also implies meaningful immersion in a professional environment.\\n', 'Students who request CPT for remote positions should keep detailed documentation establishing\\n', '1. the existence of a supervisory relationship throughout their period of authorization, and \\n', '2. how they achieved professional immersion despite working remotely.\\n', '\\n', 'Q:  I am partaking in two CPT experiences during the same semester (or same summer) and enrolling in an internship course. Can I complete one CPT application for the two opportunities?\\n', '          \\n', 'No. With each new position at each new location, students must apply for a new CPT authorization. In this scenario, the student will be using up 2 of the 3 total permitted CPT authorizations and will have one authorization left before graduation.\\n', '\\n', 'Q:  I want to intern at an embassy; do I need authorization? I’ve heard embassies are considered foreign territory.\\n', '\\n', 'For the purposes of your F-1 status, an embassy is no different than any other U.S. employer. Off-campus authorization is required for both paid and unpaid positions.\\n', '\\n', 'Q: Are Social Security services affected by Coronavirus (COVID-19)?\\n', '\\n', '\\n', 'We are still able to provide critical services. Please note that all local Social Security offices are closed for walk-in service, though an in-person appointment may be possible. This decision protects the population we serve - older Americans and people with underlying medical conditions - and our employees during the Coronavirus (COVID-19) pandemic. Our local office employees are answering calls to their office and our telephone representatives are answering calls to our National 800 Number. Our website offers many safe and secure self-help services and a wealth of information to help you.\\n', '\\n', 'Please read our Coronavirus (COVID-19) information page to learn more, including how to get help from the Social Security Administration by phone and online.\\n', '\\n', \"Q: What should I do if I get a call claiming there's a problem with my Social Security number or account?\\n\", '\\n', '\\n', 'If there is a problem, we will mail you a letter. Generally, we will only contact you if you have requested a call or have ongoing business with us. The latest scam trick of using robocalls or live callers has increased. Fraudsters pretend to be government employees and claim there is identity theft or another problem with one’s Social Security number, account, or benefits.\\n', '\\n', 'Scammers may threaten arrest or other legal action, or may offer to increase benefits, protect assets, or resolve identity theft. They often demand payment via retail gift cards, wire transfers, pre-paid debit cards, internet currency, or mailing cash.\\n', '\\n', 'Our employees will never threaten you for information or promise a benefit in exchange for personal information or money. Social Security may call you in some situations, but will never:\\n', '\\n', '- Threaten you.\\n', '- Suspend your Social Security number.\\n', '- Demand immediate payment from you.\\n', '- Require payment by cash, gift card, pre-paid debit card, internet currency, or wire transfer.\\n', '- Ask for gift card numbers over the phone or to wire or mail cash.\\n', '- Don’t be fooled! You should look out for:\\n', '\\n', 'A caller saying there is a problem with your Social Security number or account.\\n', 'Any call asking you to pay a fine or debt with retail gift cards, wire transfers, pre-paid debit cards, internet currency, or by mailing cash.\\n', 'Scammers pretending they’re from Social Security or another government agency. Caller ID or documents sent by email may look official but they are not.\\n', 'How to protect yourself and your family!\\n', '\\n', 'If you receive a questionable call, hang up, and report the call to our Office of the Inspector General.\\n', 'Don’t return unknown calls.\\n', 'Ask someone you trust for advice before making any large purchase or financial decision.\\n', 'Don’t be embarrassed to report if you shared personal financial information or suffered a financial loss.\\n', 'Learn more at oig.ssa.gov/scam.\\n', 'Share this information with friends and family.\\n', 'Learn more about fraud prevention and reporting at https://www.ssa.gov/antifraudfacts/.\\n', '\\n', 'Q: How do I change or correct my name on my Social Security number card?\\n', '\\n', '\\n', 'If you legally change your name because of marriage, divorce, court order or any other reason, you must tell Social Security so you can get a corrected card. You cannot apply for a card online. There is no charge for a Social Security card. This service is free. The same applies once you receive the I-766 card, Employment Authorization Document (EAD), from the U.S. Citizenship and Immigration Services (USCIS) and bring required evidence.  See https://secure.ssa.gov/apps10/poms.nsf/lnx/0110212001.\\n', 'To get a corrected Social Security card, you will need to:\\n', '\\n', 'Show the required documents. You will need proof of your identity. Sometimes you also may need to prove your current U.S. citizenship or lawful noncitizen status. See https://www.ssa.gov/ssnumber/ss5doc.htm. Under the heading, “Type of Card,” select “Corrected” for a list of the documents you need;\\n', '- Fill out and print an https://www.ssa.gov/forms/ss-5.pdf\\n', '- Mail your application and documents to your local Social Security office.\\n', '- For complete instructions, please go to Social Security Number and Card. \\n', '- For more information,please visit https://secure.ssa.gov/ICON/main.jsp\\n', '\\n', 'Please read our Coronavirus (COVID-19) information page to learn about changes to Social Security number card requests during the COVID-19 pandemic.\\n', '\\n', 'Q: How do I apply for a new or replacement Social Security number card?\\n', '\\n', 'You can get an original Social Security card or a replacement card if yours is lost or stolen. There is no charge for a Social Security card. This service is free.\\n', '\\n', 'You can use a my Social Security account to request a replacement Social Security card online if you:\\n', '\\n', 'Are a U.S. citizen age 18 years or older with a U.S. mailing address;\\n', 'Are not requesting a name change or any other change to your card; and\\n', \"Have a driver's license or a state-issued identification card from one of the many participating states. If your state does not yet participate in this service, check back soon. More states are added regularly.\\n\", 'If you cannot apply for a card online, you will need to show the required documents.  We need to see different documents depending on your citizenship and the type of card you are requesting. See Learn What Documents You Need to find out what documents you will have to show. Fill out and print an Application for a Social Security Card; and mail your application and documents to your local Social Security office.\\n', '\\n', 'Q: How can I get a Social Security Statement that shows a record of my earnings and an estimate of my future benefits?\\n', '\\n', 'You can get your personal Social Security Statement online by using your my Social Security account. If you don’t yet have an account, you can easily create one. Your online Statement gives you secure and convenient access to your earnings records. It also shows estimates for retirement, disability and survivors benefits you and your family may be eligible for.\\n', '\\n', 'Q: How can I get a form SSA-1099/1042S, Social Security Benefit Statement?\\n', '\\n', 'An SSA-1099 is a tax form we mail each year in January to people who receive Social Security benefits. It shows the total amount of benefits you received from Social Security in the previous year so you know how much Social Security income to report to IRS on your tax return.\\n', '\\n', 'If you are a nonresident alien and you received or repaid Social Security benefits last year, we will send you form SSA-1042S instead.\\n', '\\n', 'The forms SSA-1099 and SSA-1042S are not available for people who receive Supplemental Security Income (SSI).\\n', 'Call 1-800-772-1213 (TTY 1-800-325-0778), Monday through Friday, 8:00 am – 7:00 pm;  \\n', '\\n', '\\n', '\\n', '\\n']\n"
     ]
    }
   ],
   "source": [
    "f = open(\"./Project/QA.txt\", \"r\")\n",
    "content_list = [line.rstrip('Q: ') for line in f]\n",
    "f.close()\n",
    "print(content_list)"
   ]
  },
  {
   "cell_type": "code",
   "execution_count": 101,
   "metadata": {},
   "outputs": [
    {
     "data": {
      "text/plain": [
       "510"
      ]
     },
     "execution_count": 101,
     "metadata": {},
     "output_type": "execute_result"
    }
   ],
   "source": [
    "len(content_list)"
   ]
  },
  {
   "cell_type": "markdown",
   "metadata": {},
   "source": [
    "### Pre-process the data"
   ]
  },
  {
   "cell_type": "code",
   "execution_count": 102,
   "metadata": {},
   "outputs": [],
   "source": [
    "for sentence in content_list:\n",
    "    if sentence == '\\n':\n",
    "        content_list.remove('\\n')"
   ]
  },
  {
   "cell_type": "code",
   "execution_count": 103,
   "metadata": {},
   "outputs": [
    {
     "data": {
      "text/plain": [
       "306"
      ]
     },
     "execution_count": 103,
     "metadata": {},
     "output_type": "execute_result"
    }
   ],
   "source": [
    "len(content_list)"
   ]
  },
  {
   "cell_type": "code",
   "execution_count": 104,
   "metadata": {},
   "outputs": [
    {
     "data": {
      "text/plain": [
       "['Q : What is SEVP certification and do schools need it?\\n',\n",
       " 'Student and Exchange Visitor Program (SEVP) certification authorizes schools to issue Forms I-20, \"Certificate of Eligibility for Nonimmigrant Student Status, \" to prospective international students after admitting them for a course of study. If certified, the school will gain access to the Student and Exchange Visitor Information System and may begin issuing Forms I-20. To maintain certification, the school must comply with SEVP policies as well as record keeping and reporting requirements stipulated in 8 CFR 214.3.\\n',\n",
       " 'Schools only need SEVP certification if they wish to enroll F and M students, and SEVP is the only government entity that can certify a school to issue Forms I-20.\\n',\n",
       " 'Q : How does an international student know if a school is SEVP certified?\\n',\n",
       " 'Use the School Search in Tools section of Study in the States to find Student and Exchange Visitor Program (SEVP)-certified schools and programs eligible to enroll F-1 and M-1 students. Use the tool to search by school name, location, education or visa type.\\n',\n",
       " 'Q: How does an international student receive a Form I-20 and why do they need one?\\n',\n",
       " 'After prospective students are accepted to a Student and Exchange Visitor Program (SEVP)-certified school, a designated school official from that school will send them a Form I-20, “Certificate of Eligibility for Nonimmigrant Student Status.” Students will receive a Form I-20 from every SEVP-certified school that accepts them. It is important that they only use the Form I-20 from the school they plan to attend when following the steps in the international student life cycle and entering the country.\\n',\n",
       " 'The Form I-20 is an important document that international students will need to complete the following actions:\\n',\n",
       " 'Pay the I-901 SEVIS Fee.\\n',\n",
       " 'Apply for a nonimmigrant visa from the U.S. Department of State.\\n',\n",
       " 'Seek admission at a port of entry from U.S. Customs and Border Protection.\\n',\n",
       " 'Change or extend status through U.S. Citizenship and Immigration Services.\\n',\n",
       " \"Apply for student benefits (e.g., driver's license, employment authorization, Social Security number).\\n\",\n",
       " \"Q: What is the difference between a Form I-20, a visa and student's status?\\n\",\n",
       " \"A student's Form I-20 is a document issued to accepted students by Student and Exchange Visitor Program (SEVP)-certified schools that indicates a student's primary purpose for coming to the United States. A student visa is a travel document you receive from a U.S. consulate or embassy before entering the United States. A student's status is what a person must maintain after they are granted entrance into the United States.\\n\",\n",
       " \"Both a visa and a status reflect someone's primary purpose for coming to the United States. As an F-1 or M-1 student, this purpose is to complete a full course of study at an SEVP certified school.\\n\",\n",
       " 'Q: Can international students attend a K-12 school in the United States?\\n',\n",
       " 'Yes, international students can attend a Student and Exchange Visitor Program (SEVP)-certified kindergarten through grade 12 (K-12) school. Regulations place no limit on the length of time an F-1 student may attend a private, SEVP-certified K-12 school.\\n',\n",
       " 'However, international students cannot attend public elementary or middle schools and may only enroll in a public high school for a maximum of one year. SEVP does not certify programs of study below the kindergarten level, thus schools cannot issue Forms I-20, “Certificate of Eligibility for Nonimmigrant Student Status, ” for that level. Download the K-12 Public & Private Schools: Know the Difference infographic to learn more.\\n',\n",
       " 'Note that minor F-2 and M-2 students (dependent children of F-1 or M-1 students) may attend school at the appropriate grade level without becoming F-1s or M-1s, or any additional permission or documentation from SEVP. State education laws may require that F-2 and M-2 students attend the appropriate grade level until a certain age. The elementary or secondary school an F-2 or M-2 student attends does not need to be SEVP certified.\\n',\n",
       " 'Q: Can international students bring their family members to the United States while they study?\\n',\n",
       " 'F-1 and M-1 students may bring their spouses and children under the age of 21 with them to the United States for the duration of their course of study. These individuals are the only dependent family members eligible for admission into United States under the F-2 or M-2 nonimmigrant status.\\n',\n",
       " 'Students must tell their designated school official about any dependents they will bring to the United States, as each dependent will need their own Form I-20, “Certificate of Eligibility for Nonimmigrant Student Status.” The status of F-2 or M-2 individuals depends on the status of their F-1 or M-1 spouse or parent. This means the United States cannot admit a person into the United States under an F-2 or M-2 category unless their parent or spouse is an F-1 or M-1 student.\\n',\n",
       " 'Dependents are not allowed to work in the United States but under certain circumstances can enroll in school. State education laws may require that minor F-2 and M-2 dependents (i.e., children under the age of 18) attend the appropriate grade level until a certain age. The elementary or secondary school an F-2 or M-2 student attends does not need to be Student and Exchange Visitor Program certified.\\n',\n",
       " 'Q: What is accreditation and how does the Accreditation Act apply to SEVP-certified schools?\\n',\n",
       " 'Accreditation is the recognition from an accrediting agency that an institution maintains a certain level of educational standards. The U.S. Department of Education maintains a database of accrediting agencies it recognizes.\\n',\n",
       " 'On Dec. 14, 2010, former President Barack Obama signed the Accreditation of English Language Training Programs Act (commonly referred to as the \"Accreditation Act\"), which amended Section 101(a)(15)(F)(i) of the Immigration and Nationality Act to state that F-1 nonimmigrant students intending to pursue an English language training course of study must enroll in an English language training program that has been accredited by a regional or national accrediting agency recognized by the Department of Education.\\n',\n",
       " 'This means that while accreditation is not a requirement for most schools seeking Student and Exchange Visitor Program (SEVP) certification, it is a requirement for all English language training programs and stand-alone English language training schools seeking certification. Note that schools seeking SEVP certification that are not accredited must submit specific evidence in lieu of accreditation (read more about this requirement on ICE.gov).\\n',\n",
       " 'Q: What is the difference between a vocational school and an academic school?\\n',\n",
       " 'Vocational schools are institutions of learning that provide training and education for a particular skillset or occupation (culinary schools, cosmetology schools, flight training schools, etc.).\\n',\n",
       " 'Academic schools are institutions of learning that provide scholarly courses like mathematics, sciences and the humanities (colleges, universities, seminaries, high schools, etc.).\\n',\n",
       " 'Q: Can international students study at both public and private schools in the United States?\\n',\n",
       " 'Yes. F-1 and M-1 students may study at both public and private schools in the United States. The only requirement is that the school has and properly maintains its Student and Exchange Visitor Program certification.\\n',\n",
       " 'However, there are some limitations for how long an international student can study at certain public institutions. Specifically, nonimmigrant students cannot attend public elementary or middle schools and may only enroll in a public high school (grades ninth through 12th) for a maximum of one year. download the K-12 Public & Private Schools: Know the Difference infographic to learn more.\\n',\n",
       " 'Q: Can international students enroll in online courses?\\n',\n",
       " 'Only one online or distance learning class can count toward a full course of study for an F-1 student during each term or semester.\\n',\n",
       " \"No online or distance learning classes may count toward an M-1 or ESL student's full course of study requirement.\\n\",\n",
       " 'For more information about online courses, please visit the Full Course of Study page. \\n',\n",
       " 'Q: Do different rules apply to international students depending on what type of school they attend?\\n',\n",
       " 'Yes. Students who receive a Form I-20, “Certificate of Eligibility for Nonimmigrant Student Status, ” to enroll in a vocational school must maintain M-1 status, while students who receive a Form I-20 to attend an academic school must maintain F-1 status.\\n',\n",
       " 'Specifically, M-1 and F-1 students:\\n',\n",
       " 'Have different full course of study requirements.\\n',\n",
       " 'Are eligible for different working and training opportunities.\\n',\n",
       " 'Follow different rules for transferring and extending/changing their status.\\n',\n",
       " 'Have different time frames for departing the United States after completing their program.\\n',\n",
       " 'Download the F&M Student Status: Know the Difference infographic to learn more about the specific differences.\\n',\n",
       " 'Additionally, F-1 students attending an English language training program must follow a unique set of rules. For more information about these rules, visit the English Language Training page.\\n',\n",
       " 'For more general information about the rules F-1 and M-1 students must follow while they are in the United States, visit the Maintaining Status page.\\n',\n",
       " 'Q: How many classes make up a full course of study?\\n',\n",
       " \"The definition of a full course of study varies depending on both a student's status (F-1 or M-1) and their program of study. For instance, U.S. government regulations define a full course of study at a Student and Exchange Visitor Program (SEVP)-certified kindergarten to grade 12 school differently than at an SEVP-certified college or university.\\n\",\n",
       " \"For a complete breakdown of the full course of study requirements based on a student's status and programs of study, visit the Full Course of Study page.\\n\",\n",
       " 'Q: What does it mean to maintain status?\\n',\n",
       " 'Maintaining status means:\\n',\n",
       " 'Fulfilling the purpose for why the U.S. Department of State issued a visa.\\n',\n",
       " 'Following the regulations associated with that purpose.\\n',\n",
       " 'This means if a student gains entry into the United States on an F-1 or M-1 visa, they are coming to the United States to study and cannot take any action that detracts from that purpose. It is the responsibility of the designated school official to ensure that a student properly understands and complies with the rules that apply to their student status. For more information, visit the Maintaining Status page.\\n',\n",
       " 'Q: Do international students get vacation time?\\n',\n",
       " 'F-1 students are eligible to take an annual vacation after they complete one full academic year at a Student and Exchange Visitor Program (SEVP)-certified school. M-1 students are not eligible for annual vacation.\\n',\n",
       " 'However, some SEVP-certified schools may close for a short period of time, normally during a U.S. holiday or break from classes such as spring or winter break. Because classes are not in session during these breaks, these breaks do not adversely impact a student’s status. If a student has questions about breaks at school, they should talk to their designated school official.\\n',\n",
       " 'For more information about the annual vacation requirements for F-1 students, please visit the Maintaining Status page.\\n',\n",
       " 'Q: Are international students allowed to transfer schools?\\n',\n",
       " 'Yes, international students may be eligible to transfer to another Student and Exchange Visitor Program (SEVP)-certified school. Students must consistently maintain F or M status and follow the correct transfer procedures. In most cases, M-1 students may only transfer within the first six months of their program. For more detailed information about the transfer requirements and the procedures to follow, please visit the Transferring to Another School page.\\n',\n",
       " 'Please note that since Student and Exchange Visitor Information System records are government property, federal rules and regulations govern how designated school officials (DSOs) must maintain and transfer them. These regulations explain that DSOs must transfer a SEVIS record to another SEVP-certified institution upon a student’s request, even if this request comes at the beginning of a student’s initial term.\\n',\n",
       " 'Q: If an international student needs more time to finish their program of study, what should they do?\\n',\n",
       " 'A student who needs more time to finish their program of study should speak with their designated school official (DSO) as soon as possible to discuss their options. A student’s options for extending their stay and the process for doing so depends on whether that student is in F-1 or M-1 status.\\n',\n",
       " 'M-1 students must work closely with their DSO to apply for an extension of stay with U.S. Citizenship and Immigration Services within the designated time frame. For more information about this process, please visit the M-1 Extension of Stay page.\\n',\n",
       " 'F-1 students must speak with their DSO prior to the program end date listed on their Form I-20, “Certificate of Eligibility for Nonimmigrant Student Status.” The DSO will determine if the F-1 student qualifies for a program extension and can update SEVIS accordingly. \\n',\n",
       " 'Q: When does withdrawing from a class become a violation of status?\\n',\n",
       " 'Students must enroll in a full course of study in order to maintain their status. Under certain circumstances, a student may be eligible for a reduced course load. However, a student must talk to their designated school official (DSO) and have their DSO authorize a reduced course load prior to dropping below a full course study.\\n',\n",
       " 'If a student drops below a full course of study without their DSO’s authorization, that student is in violation of their status.\\n',\n",
       " 'Q: Can international students obtain a Social Security number?\\n',\n",
       " 'Every F-1 and M-1 student who U.S. Citizenship and Immigration Services grants employment authorization to needs a Social Security number. For more information about the process, Visit https://studyinthestates.dhs.gov/students/obtaining-a-social-security-number page. \\n',\n",
       " 'Q: Can international students drive in the United States?\\n',\n",
       " \"F-1 and M-1 students and their dependents may be eligible to drive a motor vehicle while residing in the United States. However, those who wish to operate a vehicle must successfully apply for and receive a driver's license. Driving a car without a driver's license is illegal. To acquire a driver's license, you must apply for one at your local Department of Motor Vehicles, which can have a different name in some states. Visit https://studyinthestates.dhs.gov/students/study/driving-in-the-united-states. \\n\",\n",
       " 'Q: What are SAVE and E-Verify?\\n',\n",
       " \"The Systematic Alien Verification for Entitlements (SAVE) Program can be used to verify a nonimmigrant's eligibility to receive a certain benefit. E-Verify is an internet-based system that allows businesses to determine the eligibility of their employees to work in the United States. E-Verify is fast, free and easy to use—and provides a way for employers to ensure a legal workforce.\\n\",\n",
       " 'The U.S. Citizenship and Immigration Services administers both verification programs. For more information, visit the https://studyinthestates.dhs.gov/students/study/save-case-check. \\n',\n",
       " 'Q: Can international students work while in the United States?\\n',\n",
       " 'The U.S. government takes working illegally very seriously. There are limited work opportunities available in the United States for F-1 students. For this reason, before coming to the United States, F-1 students must prove they have the financial ability (e.g., present bank statements) to pay for tuition and living expenses while studying. If an F-1 student decides to work, the first step is always to talk with their designated school official. M-1 students are ineligible to work.\\n',\n",
       " 'Q: What is the difference between working and training in the United States?\\n',\n",
       " \"The United States allows eligible students and new graduates the opportunity to gain on-the-job learning that supplements knowledge gained in their academic studies. These training opportunities differ from “working in the United States” because the training must relate to the student's program of study.\\n\",\n",
       " 'To participate in one of these training opportunities, an international student does not need to change their nonimmigrant status. Instead, the student must work with their designated school official to ensure eligibility as well as apply for and receive proper authorization.\\n',\n",
       " 'Q: Do international students need to pay income taxes in the United States?\\n',\n",
       " 'F-1 or M-1 students must pay taxes if they have:\\n',\n",
       " 'Income from wages, unless the income earned does not exceed the personal exemption amount.\\n',\n",
       " 'A taxable scholarship or fellowship.\\n',\n",
       " 'Income from stock options.\\n',\n",
       " 'Lottery or gambling winnings.\\n',\n",
       " 'Other types of non-wage income.\\n',\n",
       " 'For F-1 or M-1 students, some income in the United States is not taxable, including any income from:\\n',\n",
       " 'Foreign sources.\\n',\n",
       " 'Interest income from a U.S. bank, savings and loan institution, credit union or insurance company.\\n',\n",
       " 'A tax-free scholarship or fellowship.\\n',\n",
       " 'Certain types of tax-free investments.\\n',\n",
       " 'Visit : https://www.irs.gov/individuals/international-taxpayers/foreign-students-scholars-teachers-researchers-and-exchange-visitors \\n',\n",
       " 'Q: Can dependents work and study in the United States?\\n',\n",
       " 'Dependents are not allowed to work in the United States but under certain circumstances adult dependents can enroll part time in school. However, state education laws may require that minor F-2 and M-2 dependents (i.e., children under the age of 18) attend the appropriate grade level until a certain age. The elementary or secondary school an F-2 or M-2 student attends does not need to be SEVP certified.\\n',\n",
       " 'Q: What is the STEM OPT extension?\\n',\n",
       " \"The science, technology, engineering and mathematics (STEM) optional practical training (OPT) extension is a 24-month period of temporary training that directly relates to an F-1 student's program of study in an approved STEM field. Eligible F-1 students with STEM degrees who finish their program of study and participate in an initial period of regular post-completion OPT (for up to 12 months) have the option to apply for a STEM OPT extension.\\n\",\n",
       " 'Q: Do international students need health insurance while studying in the United States?\\n',\n",
       " 'F-1 and M-1 students have the responsibility to purchase health insurance for themselves and their families while they study in the United States. The Student and Exchange Visitor Program-certified school a student attends may provide health care during studies; however, requirements and fees associated with health coverage differ from school to school. Students should speak with their designated school officials to find out what health insurance fees to expect and options to consider.\\n',\n",
       " 'Q: What is the SEVP Portal?\\n',\n",
       " 'The Student and Exchange Visitor Program (SEVP) Portal is an important tool that allows F-1 students on post-completion optional practical training and M-1 students participating in practical training to report their personal and employer information directly to SEVP. The SEVP Portal helps these international students meet their legal reporting requirements without relying on their designated school official (DSO) to update their information. To set up an SEVP Portal account, students must confirm with their DSO that their email address is accurately saved in the Student and Exchange Visitor Information System.\\n',\n",
       " 'Types of OPT\\n',\n",
       " 'All OPT must be directly related to your major area of study. If you are an F-1 student, you may be eligible to participate in OPT in two different ways:\\n',\n",
       " 'Pre-completion OPT:  You may apply to participate in pre-completion OPT after you have been lawfully enrolled on a full-time basis for one full academic year at a college, university, conservatory, or seminary that has been certified by the U.S. Immigration and Customs Enforcement (ICE) Student and Exchange Visitor Program (SEVP) to enroll F-1 students. You do not need to have had F-1 status for the one full academic year; you can satisfy the “one full academic year” requirement even if you had another nonimmigrant status during that time.\\n',\n",
       " 'If you are authorized to participate in pre-completion OPT, you may work part time (20 hours or less per week) while school is in session. You may work full time when school is not in session.          \\n',\n",
       " 'Post-completion OPT:  You may apply to participate in post-completion OPT after completing your studies. If you are authorized for post-completion OPT, you may work part time (20 hours or less per week) or full time.\\n',\n",
       " 'If you participated in pre-completion OPT, USCIS will deduct that amount of time from your post-completion OPT authorization period. For example, if you participated in 10 months of pre-completion OPT, you would be eligible for only up to 2 months of post-completion OPT.  \\n',\n",
       " 'STEM OPT Extension\\n',\n",
       " 'If you have earned a degree in certain science, technology, engineering and math (STEM) fields, you may apply for a 24-month extension of your post-completion OPT employment authorization if you:\\n',\n",
       " 'Are an F-1 student who received a STEM degree included on the STEM Designated Degree Program List  (PDF);\\n',\n",
       " 'Are employed by an employer who is enrolled in and is using E-Verify; and\\n',\n",
       " 'Received an initial grant of post-completion OPT employment authorization based on your STEM degree.\\n',\n",
       " 'If you are interested in applying for a STEM OPT extension, please see our Optional Practical Training Extension for STEM Students (STEM OPT) page for more information.\\n',\n",
       " 'Applying for OPT\\n',\n",
       " 'Generally, you must:\\n',\n",
       " 'Request that your designated school official (DSO) at your academic institution recommend the OPT. Your DSO will make the recommendation by endorsing your Form I‑20, Certification of Eligibility for Nonimmigrant Student Status, and making the appropriate notation in the Student and Exchange Visitor Information System (SEVIS).\\n',\n",
       " 'Properly file Form I-765, Application for Employment Authorization with USCIS, accompanied by the required fee and the supporting documentation as described in the form instructions.\\n',\n",
       " 'You may begin your OPT only after we approve your Form I-765 and you receive your Employment Authorization Document (EAD).\\n',\n",
       " 'If you file your STEM OPT extension application on time and your OPT period expires while your extension application is pending, we will automatically extend your employment authorization for 180 days. This automatic 180-day extension ceases once USCIS adjudicates your STEM OPT extension application.\\n',\n",
       " 'Transferring to a Different School or Beginning Study at Another Educational Level\\n',\n",
       " 'If you transfer to another school or begin studies at another educational level (for example, you completed a bachelor’s degree and are starting a master’s program), your authorization to engage in OPT employment will automatically terminate. SEVP will inform USCIS of the termination date, and USCIS will terminate your EAD accordingly. \\n',\n",
       " 'Although your authorization to engage in optional practical training will end, as long as you comply with all requirements for maintaining your student status, your F-1 status will not be affected by USCIS terminating your EAD. Maintaining your student status includes not working on a terminated EAD, as the termination means that you are no longer authorized to work in the United States using that OPT EAD. Working in the United States without authorization has serious consequences, including removal from the country and reentry bars. Also, remaining in the United States in violation of your lawful nonimmigrant status could lead to an accrual of unlawful presence. Please see USCIS Changing Policy on Accrued Unlawful Presence by Nonimmigrant Students and Exchange Visitors for more information regarding termination of your employment authorization under OPT and any impacts on your student status, including the possible accrual of unlawful presence.\\n',\n",
       " 'If you feel that your EAD has been wrongfully terminated, would like to request reconsideration of the EAD termination, or if you have other questions, see your DSO. \\n',\n",
       " 'Cap-gap Extension for F-1 Students with Approved H-1B Petitions\\n',\n",
       " 'If you are an F-1 student with a timely filed H-1B petition and change of status request, and your F-1 status and employment authorization will expire before the change of status to H-1B occurs (typically Oct. 1), you may be eligible for a cap-gap extension. Go to our Cap-Gap Extension page for more information.\\n',\n",
       " 'Q: I just started my studies in the US. Am I eligible to start Curricular Practical Training right away?\\n',\n",
       " 'A: Most likely not. You need to be in F-1 status and enrolled on a full-time basis for at least one full academic year before becoming eligible for practical training. Only those graduate students are eligible to star CPT in their first semester if the CPT is required of all students in their academic program.\\n',\n",
       " 'Q: When am I eligible to apply for CPT if I transfer from another US school?\\n',\n",
       " 'A: You will be eligible once you have been enrolled in F-1 status for at least one full academic year; this may be cumulative at both institutions.\\n',\n",
       " 'Q: I found a very good internship opportunity. May I start work next week?\\n',\n",
       " 'A: No. You must first have authorization from the international student advisor before you begin paid or unpaid internship or any other form of Curricular Practical Training. You need to get a new SEVIS I-20 issues by the international student advisor which is endorsed with CPT authorization before you begin the internship\\n',\n",
       " 'Q: How long may I work on CPT?\\n',\n",
       " \"A: CPT can be approved for part-time (20 hours or less) or full-time (over 20 hours). There is no regulatory limit on either the number of times or length of time a student may engage in either part or full-time Curricular Practical Training. This will be governed by the nature of the training and the requirement of the student's program. The regulations do not prohibit multiple, concurrent CPT employers.\\n\",\n",
       " 'Q: May I complete full time CPT and still be eligible for OPT?\\n',\n",
       " 'A: Students who complete 12 or more months of full-time CPT become ineligible for OPT. Use of part-time CPT does not affect eligibility for OPT. To continue to be eligible for OPT you will want to make sure to complete 364 days or less of full-time CPT.\\n',\n",
       " 'Q: How long may I work on CPT?\\n',\n",
       " 'A: This depends on the specific period granted by the international student advisor. It may be granted by the international student advisor in increments of no more than one year, or until expected date of employment completion, which ever is shorter. No cumulative maximum, except that it can only be approved before completion of the academic objective. Please see question and answer above for additional information.\\n',\n",
       " 'Q: Who can be my employer during CPT?\\n',\n",
       " 'A: Students may engage in CPT only for the specific employer, location and period approved and recorder by the international student advisor in SEVIS.\\n',\n",
       " 'Q: I heard that Curricular Practical Training is any off-campus job. Is that true?\\n',\n",
       " 'A: No. USCIS defines CPT as an employment that is an integral part of an established curriculum. It includes alternative work/study, internship or cooperative education arranged with the approval of your academic program, or any type of required internship or practicum that is offered by sponsoring employers through cooperative agreements. CPT may take place during the academic year and/or in the summer/winter and MUST be undertaken and completed prior to the completion of the course of study.\\n',\n",
       " 'Q: What if I get a new job in my area of studies? Do I need to apply again?\\n',\n",
       " 'A: Yes. A new application will be required if there is a change of employers or if the employment is to be continued beyond the current ending date. An updated offer letter and updated Certificate of Completion of Studies form are required.\\n',\n",
       " 'Q: Is CPT usually required or is it only recommended?\\n',\n",
       " \"A: USCIS interprets CPT in two ways. CPT may be required or recommended. This is decided by the stated requirements of an academic degree. CPT is required when it is a required part of the curriculum; it should be mentioned in the University catalog in the description of the department's requirements for all students. CPT is recommended when it is beneficial for the student to engage in the employment experience but that experience is NOT necessary for the completion of the degree. A student authorized for recommended CPT is required by current immigration regulations to register for a minimum of 1 college credit which reflects the CPT placement; this credit must be granted by the academic department for each semester of the CPT placement, including the summer/winter sessions.\\n\",\n",
       " 'Q: Is there a fee for CPT?\\n',\n",
       " 'A: No fee is required with a CPT application. It is processes and approved by the international student advisor. \\n',\n",
       " 'Q: What is Curricular Practical Training?\\n',\n",
       " 'Curricular Practical Training (CPT) is an F-1 off-campus authorization for paid and unpaid positions directly related to the major field of study listed on Page 1 of the Form I-20. CPT can be used to authorize a variety of positions, including employment, internships, fellowships, practicums, etc.\\n',\n",
       " 'Q: Who is eligible for CPT?\\n',\n",
       " 'F-1 Students who:\\n',\n",
       " '- Have been in lawful, full-time status for one full academic year\\n',\n",
       " 'Will not complete their degree requirements until after the position has ended\\n',\n",
       " '- Are in good academic standing\\n',\n",
       " '- Have been offered a position that is directly related to their major field of study\\n',\n",
       " '- Are in a degree program in which off-campus experience is an integral part of the curriculum Meet one of the following requirements:\\n',\n",
       " '- are enrolled in an internship course or tutorial for credit\\n',\n",
       " '- are required to participate in an internship (not for credit)\\n',\n",
       " '- are required to participate in a specific internship to complete the dissertation\\n',\n",
       " 'Q: Do I need a job offer to apply ? \\n',\n",
       " 'Yes. CPT can only be authorized for a specific position at a U.S. organization, at a specific location, during specific dates. The offer letter must be presented on company letterhead, with a brief job description, employment start date, employment end date, hours per week, and supervisor details.\\n',\n",
       " 'Q: Do I need to be enrolled while on CPT?\\n',\n",
       " 'Yes. If the CPT is granted in conjunction with an internship class, you must remain enrolled in the class throughout the semester and work only during the approved semester dates. If the CPT is granted as a degree requirement or dissertation necessity, you must be enrolled full time for the semester (unless approved for part-time by OGS in advance of beginning the CPT). Once CPT is approved by OGS, students are not permitted to withdraw from the CPT course even if they end their CPT prematurely.\\n',\n",
       " 'Q: Do I need to pay an application fee for CPT?\\n',\n",
       " 'No. There is no cost to the student for the CPT application. However, if the student is enrolled in an internship\\n',\n",
       " 'class, Georgetown University may charge tuition for the course credit.\\n',\n",
       " 'Q: Does CPT affect my available OPT in future? \\n',\n",
       " 'If you have been authorized for full-time CPT for a total of 12 full months (365 days), you will not be eligible for\\n',\n",
       " 'OPT. Otherwise, OPT should not be affected.\\n',\n",
       " 'Q:  Is there an hours limit for CPT? \\n',\n",
       " 'During required academic terms, your total employment/internship activities (on-campus and off-campus, paid and unpaid) may not exceed 20 hours per week. Note this is a weekly maximum, not an average.\\n',\n",
       " 'Exception: A few programs require full-time CPT during required academic terms, consult the program list (https://docs.google.com/document/d/1d5p7LuzgE7ZKkKDrK8H4K8zmpfiYl071xKsQKjRzu74/edit).\\n',\n",
       " 'Q: I have part-time CPT authorization. Can I work full-time during Spring Break? \\n',\n",
       " 'A part-time authorization is limited to 20 hours per week even during a university break.\\n',\n",
       " 'Q: When should I submit the CPT Request Form? \\n',\n",
       " 'In order to request CPT authorization for the current term, you may submit the entire application to your dedicated IS Advisor (https://globalservices.georgetown.edu/contactus#IS) as soon as you get the offer letter, the most recent I-94 entry record, and have completed the CPT Request Form with your academic department or dean. For future semesters (e.g. in February you are offered an internship for summer), please email your dedicated IS Advisor (https://globalservices.georgetown.edu/contactus#IS) to determine the date OGS will begin processing applications for the next semester.\\n',\n",
       " 'Note: It is impossible to request a start date in the past!\\n',\n",
       " 'Q: What is the timeline for processing this request? \\n',\n",
       " 'OGS processing takes 3-5 business days and your IS Advisor will send an email when the new Form I-20 with CPT authorization is ready for pickup.\\n',\n",
       " 'Q: How do I submit the CPT Request Form? \\n',\n",
       " 'CPT Applications must be submitted by email to your dedicated IS Advisor\\n',\n",
       " '(https://globalservices.georgetown.edu/contactus#IS) as PDF attachments.\\n',\n",
       " 'Q: Can I submit just one request if I need CPT for more than one semester? \\n',\n",
       " 'No, students must submit separate CPT applications for reach semester or summer. Each CPT experience must demonstrate new skills and responsibilities the student will gain from the new position.\\n',\n",
       " 'Q: How will I know if this request has been approved and my new I-20 is ready?\\n',\n",
       " 'Your IS Advisor (https://globalservices.georgetown.edu/contactus#IS) will send an email to your GU email when the new Form I-20 is ready for pick up. If you do not receive this e-mail within 10 business days, send an email to your IS Advisor (https://globalservices.georgetown.edu/contactus#IS); to request an update\\n',\n",
       " 'Q: How do I know that I am authorized for CPT? And when may I begin the CPT experience ? \\n',\n",
       " 'The CPT authorization is on page 2 of the new Form I-20. You may begin working after you pick up the new I-20 and have reached the authorized CPT start date. You may not begin your CPT experience if that start date of the CPT has not yet been reached, even if you already have the I-20 with CPT authorization.\\n',\n",
       " 'Q: Do I need to update my address if I will be living at a new address during my CPT? \\n',\n",
       " 'Yes, F-1 students are required to update their local, U.S. address within 10 days of moving to the new address.\\n',\n",
       " 'Update your local off-campus address in MyAccess (https://myaccess.georgetown.edu/) to fulfill this requirement.\\n',\n",
       " 'Q: Am I still in F-1 status during CPT? \\n',\n",
       " 'Yes, you are still in F-1 status. CPT is not an immigration status. Rather, CPT is a benefit of F-1 status for off- campus authorization to engage in practical training in one’s field of study.\\n',\n",
       " 'Q: Do I have to pay taxes on my CPT income? \\n',\n",
       " 'Maybe. If you are an F-1 student and have not been in the United States for 5 years you should not be paying Social Security or Medicare taxes. However, you may be subject to income tax depending on the amount of money you earn and your tax rate. Please review the Tax (https://internationalservices.georgetown.edu/tax/) page and complete the Tax Questionnaire each February for current information.\\n',\n",
       " 'Q: What happens if I am authorized for CPT and then I change my mind or lose my position or something about the position changes (location, hours, job description, etc)?\\n',\n",
       " 'You must notify your dedicated IS Advisor (https://globalservices.georgetown.edu/contactus#IS) immediately in order to cancel or amend your CPT so your SEVIS record remains accurate.\\n',\n",
       " 'Q: Can I request more than one period of CPT? \\n',\n",
       " 'Yes, but many programs and departments limit the number of times student may enroll in an internship class or receive authorization. You must get permission from 1) your Dean or Academic Advisor and 2) your dedicated IS Advisor (https://globalservices.georgetown.edu/contactus#IS) for each period of CPT. CPT must remain integral to your curriculum and cannot be used to simply facilitate employment. The maximum number of CPT authorizations for any student is three per degree program.\\n',\n",
       " 'Q:  Do I have to register for anything if my CPT is related to a degree or dissertation requirement?\\n',\n",
       " ' \\n',\n",
       " ' There may not be a specific class for CPT related to a degree or dissertation requirement. However, students must be registered full time or with an OGS-approved courseload reduction to be eligible.\\n',\n",
       " ' Q: I work  the library or five hours week and have been offered internship off campus. How many hours I can request in the CPT form? \\n',\n",
       " ' While school is in session a student may only engage in a maximum of 20 hours of employment per week, on campus and off campus, paid and unpaid. A student who meets the eligibility requirements for CPT and works on campus 5 hours per week may be authorized for part-time CPT for an additional 15 hours. However, the total employment while school is in session may not exceed 20 hours per week (graduate assistantships count as\\n',\n",
       " '15 hours of permissible work per week; likewise Resident Hall Assistantships count as 20 hours per week).\\n',\n",
       " 'Q: My program/school does not have a specific internship ourse. Can I still participate? \\n',\n",
       " 'To participate in CPT, the program/school must either have:\\n',\n",
       " '- An approved internship course that carries credit, semester dates, a faculty supervisor and is listed in the University bulletin; or\\n',\n",
       " '- The academic dean or advisor must attest that the internship is a graduation degree requirement\\n',\n",
       " 'or the DGS or department chair must attest to the fact that the student needs the internship experience to complete the dissertation requirement.\\n',\n",
       " 'If the program/school cannot attest to one of the above requirements, then CPT is not an option and Pre- completion OPT or work with an International Organization may be alternatives.\\n',\n",
       " '\\n',\n",
       " 'Q: My employer has asked me to work remotely. Is this permitted during CPT?\\n',\n",
       " '\\n',\n",
       " 'CPT authorization is intended to facilitate off-campus opportunities that resemble classroom instruction, albeit in a more practical context. A key characteristic of such an experience is a supervisory relationship, consisting of regular assignment and evaluation of deliverables. Practical Training also implies meaningful immersion in a professional environment.\\n',\n",
       " 'Students who request CPT for remote positions should keep detailed documentation establishing\\n',\n",
       " '1. the existence of a supervisory relationship throughout their period of authorization, and \\n',\n",
       " '2. how they achieved professional immersion despite working remotely.\\n',\n",
       " '\\n',\n",
       " 'Q:  I am partaking in two CPT experiences during the same semester (or same summer) and enrolling in an internship course. Can I complete one CPT application for the two opportunities?\\n',\n",
       " '          \\n',\n",
       " 'No. With each new position at each new location, students must apply for a new CPT authorization. In this scenario, the student will be using up 2 of the 3 total permitted CPT authorizations and will have one authorization left before graduation.\\n',\n",
       " '\\n',\n",
       " 'Q:  I want to intern at an embassy; do I need authorization? I’ve heard embassies are considered foreign territory.\\n',\n",
       " '\\n',\n",
       " 'For the purposes of your F-1 status, an embassy is no different than any other U.S. employer. Off-campus authorization is required for both paid and unpaid positions.\\n',\n",
       " '\\n',\n",
       " 'Q: Are Social Security services affected by Coronavirus (COVID-19)?\\n',\n",
       " '\\n',\n",
       " '\\n',\n",
       " 'We are still able to provide critical services. Please note that all local Social Security offices are closed for walk-in service, though an in-person appointment may be possible. This decision protects the population we serve - older Americans and people with underlying medical conditions - and our employees during the Coronavirus (COVID-19) pandemic. Our local office employees are answering calls to their office and our telephone representatives are answering calls to our National 800 Number. Our website offers many safe and secure self-help services and a wealth of information to help you.\\n',\n",
       " '\\n',\n",
       " 'Please read our Coronavirus (COVID-19) information page to learn more, including how to get help from the Social Security Administration by phone and online.\\n',\n",
       " '\\n',\n",
       " \"Q: What should I do if I get a call claiming there's a problem with my Social Security number or account?\\n\",\n",
       " '\\n',\n",
       " '\\n',\n",
       " 'If there is a problem, we will mail you a letter. Generally, we will only contact you if you have requested a call or have ongoing business with us. The latest scam trick of using robocalls or live callers has increased. Fraudsters pretend to be government employees and claim there is identity theft or another problem with one’s Social Security number, account, or benefits.\\n',\n",
       " '\\n',\n",
       " 'Scammers may threaten arrest or other legal action, or may offer to increase benefits, protect assets, or resolve identity theft. They often demand payment via retail gift cards, wire transfers, pre-paid debit cards, internet currency, or mailing cash.\\n',\n",
       " '\\n',\n",
       " 'Our employees will never threaten you for information or promise a benefit in exchange for personal information or money. Social Security may call you in some situations, but will never:\\n',\n",
       " '\\n',\n",
       " '- Threaten you.\\n',\n",
       " '- Suspend your Social Security number.\\n',\n",
       " '- Demand immediate payment from you.\\n',\n",
       " '- Require payment by cash, gift card, pre-paid debit card, internet currency, or wire transfer.\\n',\n",
       " '- Ask for gift card numbers over the phone or to wire or mail cash.\\n',\n",
       " '- Don’t be fooled! You should look out for:\\n',\n",
       " '\\n',\n",
       " 'A caller saying there is a problem with your Social Security number or account.\\n',\n",
       " 'Any call asking you to pay a fine or debt with retail gift cards, wire transfers, pre-paid debit cards, internet currency, or by mailing cash.\\n',\n",
       " 'Scammers pretending they’re from Social Security or another government agency. Caller ID or documents sent by email may look official but they are not.\\n',\n",
       " 'How to protect yourself and your family!\\n',\n",
       " '\\n',\n",
       " 'If you receive a questionable call, hang up, and report the call to our Office of the Inspector General.\\n',\n",
       " 'Don’t return unknown calls.\\n',\n",
       " 'Ask someone you trust for advice before making any large purchase or financial decision.\\n',\n",
       " 'Don’t be embarrassed to report if you shared personal financial information or suffered a financial loss.\\n',\n",
       " 'Learn more at oig.ssa.gov/scam.\\n',\n",
       " 'Share this information with friends and family.\\n',\n",
       " 'Learn more about fraud prevention and reporting at https://www.ssa.gov/antifraudfacts/.\\n',\n",
       " '\\n',\n",
       " 'Q: How do I change or correct my name on my Social Security number card?\\n',\n",
       " '\\n',\n",
       " '\\n',\n",
       " 'If you legally change your name because of marriage, divorce, court order or any other reason, you must tell Social Security so you can get a corrected card. You cannot apply for a card online. There is no charge for a Social Security card. This service is free. The same applies once you receive the I-766 card, Employment Authorization Document (EAD), from the U.S. Citizenship and Immigration Services (USCIS) and bring required evidence.  See https://secure.ssa.gov/apps10/poms.nsf/lnx/0110212001.\\n',\n",
       " 'To get a corrected Social Security card, you will need to:\\n',\n",
       " '\\n',\n",
       " 'Show the required documents. You will need proof of your identity. Sometimes you also may need to prove your current U.S. citizenship or lawful noncitizen status. See https://www.ssa.gov/ssnumber/ss5doc.htm. Under the heading, “Type of Card,” select “Corrected” for a list of the documents you need;\\n',\n",
       " '- Fill out and print an https://www.ssa.gov/forms/ss-5.pdf\\n',\n",
       " '- Mail your application and documents to your local Social Security office.\\n',\n",
       " '- For complete instructions, please go to Social Security Number and Card. \\n',\n",
       " '- For more information,please visit https://secure.ssa.gov/ICON/main.jsp\\n',\n",
       " '\\n',\n",
       " 'Please read our Coronavirus (COVID-19) information page to learn about changes to Social Security number card requests during the COVID-19 pandemic.\\n',\n",
       " '\\n',\n",
       " 'Q: How do I apply for a new or replacement Social Security number card?\\n',\n",
       " '\\n',\n",
       " 'You can get an original Social Security card or a replacement card if yours is lost or stolen. There is no charge for a Social Security card. This service is free.\\n',\n",
       " '\\n',\n",
       " 'You can use a my Social Security account to request a replacement Social Security card online if you:\\n',\n",
       " '\\n',\n",
       " 'Are a U.S. citizen age 18 years or older with a U.S. mailing address;\\n',\n",
       " 'Are not requesting a name change or any other change to your card; and\\n',\n",
       " \"Have a driver's license or a state-issued identification card from one of the many participating states. If your state does not yet participate in this service, check back soon. More states are added regularly.\\n\",\n",
       " 'If you cannot apply for a card online, you will need to show the required documents.  We need to see different documents depending on your citizenship and the type of card you are requesting. See Learn What Documents You Need to find out what documents you will have to show. Fill out and print an Application for a Social Security Card; and mail your application and documents to your local Social Security office.\\n',\n",
       " '\\n',\n",
       " 'Q: How can I get a Social Security Statement that shows a record of my earnings and an estimate of my future benefits?\\n',\n",
       " '\\n',\n",
       " 'You can get your personal Social Security Statement online by using your my Social Security account. If you don’t yet have an account, you can easily create one. Your online Statement gives you secure and convenient access to your earnings records. It also shows estimates for retirement, disability and survivors benefits you and your family may be eligible for.\\n',\n",
       " '\\n',\n",
       " 'Q: How can I get a form SSA-1099/1042S, Social Security Benefit Statement?\\n',\n",
       " '\\n',\n",
       " 'An SSA-1099 is a tax form we mail each year in January to people who receive Social Security benefits. It shows the total amount of benefits you received from Social Security in the previous year so you know how much Social Security income to report to IRS on your tax return.\\n',\n",
       " '\\n',\n",
       " 'If you are a nonresident alien and you received or repaid Social Security benefits last year, we will send you form SSA-1042S instead.\\n',\n",
       " '\\n',\n",
       " 'The forms SSA-1099 and SSA-1042S are not available for people who receive Supplemental Security Income (SSI).\\n',\n",
       " 'Call 1-800-772-1213 (TTY 1-800-325-0778), Monday through Friday, 8:00 am – 7:00 pm;  \\n',\n",
       " '\\n',\n",
       " '\\n',\n",
       " '\\n',\n",
       " '\\n']"
      ]
     },
     "execution_count": 104,
     "metadata": {},
     "output_type": "execute_result"
    }
   ],
   "source": [
    "content_list"
   ]
  },
  {
   "cell_type": "markdown",
   "metadata": {},
   "source": [
    "#### Get the questions"
   ]
  },
  {
   "cell_type": "code",
   "execution_count": 105,
   "metadata": {},
   "outputs": [],
   "source": [
    "Question = []\n",
    "\n",
    "for i, sentence in enumerate(content_list):\n",
    "    if sentence.startswith('Q :') or sentence.startswith('Q:'):\n",
    "        Question.append(sentence)\n",
    "        "
   ]
  },
  {
   "cell_type": "code",
   "execution_count": 106,
   "metadata": {},
   "outputs": [
    {
     "data": {
      "text/plain": [
       "68"
      ]
     },
     "execution_count": 106,
     "metadata": {},
     "output_type": "execute_result"
    }
   ],
   "source": [
    "len(Question)"
   ]
  },
  {
   "cell_type": "markdown",
   "metadata": {},
   "source": [
    "#### Get the answers"
   ]
  },
  {
   "cell_type": "code",
   "execution_count": 107,
   "metadata": {},
   "outputs": [],
   "source": [
    "Answer = []\n",
    "for i in range(0,306) : \n",
    "    sentence = content_list[i]\n",
    "    if sentence.startswith('Q :') or sentence.startswith('Q:'):\n",
    "        i = i+1\n",
    "        ans = ''\n",
    "        while(i<306 and not content_list[i].startswith('Q :') and not content_list[i].startswith('Q:')):\n",
    "              ans = ans + content_list[i]\n",
    "              i = i+1\n",
    "        i = i -1\n",
    "        Answer.append(ans)"
   ]
  },
  {
   "cell_type": "code",
   "execution_count": 108,
   "metadata": {},
   "outputs": [
    {
     "data": {
      "text/plain": [
       "68"
      ]
     },
     "execution_count": 108,
     "metadata": {},
     "output_type": "execute_result"
    }
   ],
   "source": [
    "len(Answer)"
   ]
  },
  {
   "cell_type": "markdown",
   "metadata": {},
   "source": [
    "#### Convert in to DataFrame"
   ]
  },
  {
   "cell_type": "code",
   "execution_count": 110,
   "metadata": {},
   "outputs": [],
   "source": [
    "import pandas as pd"
   ]
  },
  {
   "cell_type": "code",
   "execution_count": 111,
   "metadata": {},
   "outputs": [],
   "source": [
    "d = {'Questions':Question,'Answers':Answer}\n",
    "data = pd.DataFrame(d)"
   ]
  },
  {
   "cell_type": "code",
   "execution_count": 112,
   "metadata": {},
   "outputs": [
    {
     "data": {
      "text/html": [
       "<div>\n",
       "<style scoped>\n",
       "    .dataframe tbody tr th:only-of-type {\n",
       "        vertical-align: middle;\n",
       "    }\n",
       "\n",
       "    .dataframe tbody tr th {\n",
       "        vertical-align: top;\n",
       "    }\n",
       "\n",
       "    .dataframe thead th {\n",
       "        text-align: right;\n",
       "    }\n",
       "</style>\n",
       "<table border=\"1\" class=\"dataframe\">\n",
       "  <thead>\n",
       "    <tr style=\"text-align: right;\">\n",
       "      <th></th>\n",
       "      <th>Questions</th>\n",
       "      <th>Answers</th>\n",
       "    </tr>\n",
       "  </thead>\n",
       "  <tbody>\n",
       "    <tr>\n",
       "      <th>0</th>\n",
       "      <td>Q : What is SEVP certification and do schools ...</td>\n",
       "      <td>Student and Exchange Visitor Program (SEVP) ce...</td>\n",
       "    </tr>\n",
       "    <tr>\n",
       "      <th>1</th>\n",
       "      <td>Q : How does an international student know if ...</td>\n",
       "      <td>Use the School Search in Tools section of Stud...</td>\n",
       "    </tr>\n",
       "    <tr>\n",
       "      <th>2</th>\n",
       "      <td>Q: How does an international student receive a...</td>\n",
       "      <td>After prospective students are accepted to a S...</td>\n",
       "    </tr>\n",
       "    <tr>\n",
       "      <th>3</th>\n",
       "      <td>Q: What is the difference between a Form I-20,...</td>\n",
       "      <td>A student's Form I-20 is a document issued to ...</td>\n",
       "    </tr>\n",
       "    <tr>\n",
       "      <th>4</th>\n",
       "      <td>Q: Can international students attend a K-12 sc...</td>\n",
       "      <td>Yes, international students can attend a Stude...</td>\n",
       "    </tr>\n",
       "    <tr>\n",
       "      <th>...</th>\n",
       "      <td>...</td>\n",
       "      <td>...</td>\n",
       "    </tr>\n",
       "    <tr>\n",
       "      <th>63</th>\n",
       "      <td>Q: What should I do if I get a call claiming t...</td>\n",
       "      <td>\\n\\nIf there is a problem, we will mail you a ...</td>\n",
       "    </tr>\n",
       "    <tr>\n",
       "      <th>64</th>\n",
       "      <td>Q: How do I change or correct my name on my So...</td>\n",
       "      <td>\\n\\nIf you legally change your name because of...</td>\n",
       "    </tr>\n",
       "    <tr>\n",
       "      <th>65</th>\n",
       "      <td>Q: How do I apply for a new or replacement Soc...</td>\n",
       "      <td>\\nYou can get an original Social Security card...</td>\n",
       "    </tr>\n",
       "    <tr>\n",
       "      <th>66</th>\n",
       "      <td>Q: How can I get a Social Security Statement t...</td>\n",
       "      <td>\\nYou can get your personal Social Security St...</td>\n",
       "    </tr>\n",
       "    <tr>\n",
       "      <th>67</th>\n",
       "      <td>Q: How can I get a form SSA-1099/1042S, Social...</td>\n",
       "      <td>\\nAn SSA-1099 is a tax form we mail each year ...</td>\n",
       "    </tr>\n",
       "  </tbody>\n",
       "</table>\n",
       "<p>68 rows × 2 columns</p>\n",
       "</div>"
      ],
      "text/plain": [
       "                                            Questions  \\\n",
       "0   Q : What is SEVP certification and do schools ...   \n",
       "1   Q : How does an international student know if ...   \n",
       "2   Q: How does an international student receive a...   \n",
       "3   Q: What is the difference between a Form I-20,...   \n",
       "4   Q: Can international students attend a K-12 sc...   \n",
       "..                                                ...   \n",
       "63  Q: What should I do if I get a call claiming t...   \n",
       "64  Q: How do I change or correct my name on my So...   \n",
       "65  Q: How do I apply for a new or replacement Soc...   \n",
       "66  Q: How can I get a Social Security Statement t...   \n",
       "67  Q: How can I get a form SSA-1099/1042S, Social...   \n",
       "\n",
       "                                              Answers  \n",
       "0   Student and Exchange Visitor Program (SEVP) ce...  \n",
       "1   Use the School Search in Tools section of Stud...  \n",
       "2   After prospective students are accepted to a S...  \n",
       "3   A student's Form I-20 is a document issued to ...  \n",
       "4   Yes, international students can attend a Stude...  \n",
       "..                                                ...  \n",
       "63  \\n\\nIf there is a problem, we will mail you a ...  \n",
       "64  \\n\\nIf you legally change your name because of...  \n",
       "65  \\nYou can get an original Social Security card...  \n",
       "66  \\nYou can get your personal Social Security St...  \n",
       "67  \\nAn SSA-1099 is a tax form we mail each year ...  \n",
       "\n",
       "[68 rows x 2 columns]"
      ]
     },
     "execution_count": 112,
     "metadata": {},
     "output_type": "execute_result"
    }
   ],
   "source": [
    "data"
   ]
  },
  {
   "cell_type": "code",
   "execution_count": 113,
   "metadata": {},
   "outputs": [],
   "source": [
    "for answer in range(len(data[\"Answers\"])):\n",
    "    data[\"Answers\"][answer] = data[\"Answers\"][answer].replace('\\n','')\n",
    "    "
   ]
  },
  {
   "cell_type": "code",
   "execution_count": 114,
   "metadata": {},
   "outputs": [
    {
     "data": {
      "text/html": [
       "<div>\n",
       "<style scoped>\n",
       "    .dataframe tbody tr th:only-of-type {\n",
       "        vertical-align: middle;\n",
       "    }\n",
       "\n",
       "    .dataframe tbody tr th {\n",
       "        vertical-align: top;\n",
       "    }\n",
       "\n",
       "    .dataframe thead th {\n",
       "        text-align: right;\n",
       "    }\n",
       "</style>\n",
       "<table border=\"1\" class=\"dataframe\">\n",
       "  <thead>\n",
       "    <tr style=\"text-align: right;\">\n",
       "      <th></th>\n",
       "      <th>Questions</th>\n",
       "      <th>Answers</th>\n",
       "    </tr>\n",
       "  </thead>\n",
       "  <tbody>\n",
       "    <tr>\n",
       "      <th>0</th>\n",
       "      <td>Q : What is SEVP certification and do schools ...</td>\n",
       "      <td>Student and Exchange Visitor Program (SEVP) ce...</td>\n",
       "    </tr>\n",
       "    <tr>\n",
       "      <th>1</th>\n",
       "      <td>Q : How does an international student know if ...</td>\n",
       "      <td>Use the School Search in Tools section of Stud...</td>\n",
       "    </tr>\n",
       "    <tr>\n",
       "      <th>2</th>\n",
       "      <td>Q: How does an international student receive a...</td>\n",
       "      <td>After prospective students are accepted to a S...</td>\n",
       "    </tr>\n",
       "    <tr>\n",
       "      <th>3</th>\n",
       "      <td>Q: What is the difference between a Form I-20,...</td>\n",
       "      <td>A student's Form I-20 is a document issued to ...</td>\n",
       "    </tr>\n",
       "    <tr>\n",
       "      <th>4</th>\n",
       "      <td>Q: Can international students attend a K-12 sc...</td>\n",
       "      <td>Yes, international students can attend a Stude...</td>\n",
       "    </tr>\n",
       "    <tr>\n",
       "      <th>...</th>\n",
       "      <td>...</td>\n",
       "      <td>...</td>\n",
       "    </tr>\n",
       "    <tr>\n",
       "      <th>63</th>\n",
       "      <td>Q: What should I do if I get a call claiming t...</td>\n",
       "      <td>If there is a problem, we will mail you a lett...</td>\n",
       "    </tr>\n",
       "    <tr>\n",
       "      <th>64</th>\n",
       "      <td>Q: How do I change or correct my name on my So...</td>\n",
       "      <td>If you legally change your name because of mar...</td>\n",
       "    </tr>\n",
       "    <tr>\n",
       "      <th>65</th>\n",
       "      <td>Q: How do I apply for a new or replacement Soc...</td>\n",
       "      <td>You can get an original Social Security card o...</td>\n",
       "    </tr>\n",
       "    <tr>\n",
       "      <th>66</th>\n",
       "      <td>Q: How can I get a Social Security Statement t...</td>\n",
       "      <td>You can get your personal Social Security Stat...</td>\n",
       "    </tr>\n",
       "    <tr>\n",
       "      <th>67</th>\n",
       "      <td>Q: How can I get a form SSA-1099/1042S, Social...</td>\n",
       "      <td>An SSA-1099 is a tax form we mail each year in...</td>\n",
       "    </tr>\n",
       "  </tbody>\n",
       "</table>\n",
       "<p>68 rows × 2 columns</p>\n",
       "</div>"
      ],
      "text/plain": [
       "                                            Questions  \\\n",
       "0   Q : What is SEVP certification and do schools ...   \n",
       "1   Q : How does an international student know if ...   \n",
       "2   Q: How does an international student receive a...   \n",
       "3   Q: What is the difference between a Form I-20,...   \n",
       "4   Q: Can international students attend a K-12 sc...   \n",
       "..                                                ...   \n",
       "63  Q: What should I do if I get a call claiming t...   \n",
       "64  Q: How do I change or correct my name on my So...   \n",
       "65  Q: How do I apply for a new or replacement Soc...   \n",
       "66  Q: How can I get a Social Security Statement t...   \n",
       "67  Q: How can I get a form SSA-1099/1042S, Social...   \n",
       "\n",
       "                                              Answers  \n",
       "0   Student and Exchange Visitor Program (SEVP) ce...  \n",
       "1   Use the School Search in Tools section of Stud...  \n",
       "2   After prospective students are accepted to a S...  \n",
       "3   A student's Form I-20 is a document issued to ...  \n",
       "4   Yes, international students can attend a Stude...  \n",
       "..                                                ...  \n",
       "63  If there is a problem, we will mail you a lett...  \n",
       "64  If you legally change your name because of mar...  \n",
       "65  You can get an original Social Security card o...  \n",
       "66  You can get your personal Social Security Stat...  \n",
       "67  An SSA-1099 is a tax form we mail each year in...  \n",
       "\n",
       "[68 rows x 2 columns]"
      ]
     },
     "execution_count": 114,
     "metadata": {},
     "output_type": "execute_result"
    }
   ],
   "source": [
    "data"
   ]
  },
  {
   "cell_type": "markdown",
   "metadata": {},
   "source": [
    "#### Clean the questions/user examples."
   ]
  },
  {
   "cell_type": "code",
   "execution_count": 116,
   "metadata": {},
   "outputs": [],
   "source": [
    "import re \n",
    "import gensim \n",
    "from gensim.parsing.preprocessing import remove_stopwords\n",
    "\n",
    "def clean_sentence(sentence, stopwords=False):\n",
    "    sentence = sentence.replace('\\n','')\n",
    "    sentence = sentence.replace('Q :','')\n",
    "    sentence = sentence.replace('Q:','')\n",
    "    sentence = sentence.lower().strip()\n",
    "    if stopwords :\n",
    "        sentence = remove_stopwords(sentence)\n",
    "    return sentence\n",
    "    "
   ]
  },
  {
   "cell_type": "code",
   "execution_count": 117,
   "metadata": {},
   "outputs": [],
   "source": [
    "def get_Cleaned_sentence(df, stopwords=False):\n",
    "    sentences = df[[\"Questions\"]]\n",
    "    clean_sentences = []\n",
    "    for index,row in df.iterrows():\n",
    "        cleaned = clean_sentence(row[\"Questions\"], stopwords)\n",
    "        clean_sentences.append(cleaned)\n",
    "    return clean_sentences\n",
    "\n",
    "\n",
    "        \n",
    "    "
   ]
  },
  {
   "cell_type": "code",
   "execution_count": 118,
   "metadata": {},
   "outputs": [],
   "source": [
    "clean_sentences = get_Cleaned_sentence(data, True)"
   ]
  },
  {
   "cell_type": "code",
   "execution_count": 119,
   "metadata": {},
   "outputs": [
    {
     "data": {
      "text/plain": [
       "['sevp certification schools need it?',\n",
       " 'international student know school sevp certified?',\n",
       " 'international student receive form i-20 need one?',\n",
       " \"difference form i-20, visa student's status?\",\n",
       " 'international students attend k-12 school united states?',\n",
       " 'international students bring family members united states study?',\n",
       " 'accreditation accreditation act apply sevp-certified schools?',\n",
       " 'difference vocational school academic school?',\n",
       " 'international students study public private schools united states?',\n",
       " 'international students enroll online courses?',\n",
       " 'different rules apply international students depending type school attend?',\n",
       " 'classes course study?',\n",
       " 'mean maintain status?',\n",
       " 'international students vacation time?',\n",
       " 'international students allowed transfer schools?',\n",
       " 'international student needs time finish program study, do?',\n",
       " 'withdrawing class violation status?',\n",
       " 'international students obtain social security number?',\n",
       " 'international students drive united states?',\n",
       " 'save e-verify?',\n",
       " 'international students work united states?',\n",
       " 'difference working training united states?',\n",
       " 'international students need pay income taxes united states?',\n",
       " 'dependents work study united states?',\n",
       " 'stem opt extension?',\n",
       " 'international students need health insurance studying united states?',\n",
       " 'sevp portal?',\n",
       " 'started studies us. eligible start curricular practical training right away?',\n",
       " 'eligible apply cpt transfer school?',\n",
       " 'good internship opportunity. start work week?',\n",
       " 'long work cpt?',\n",
       " 'complete time cpt eligible opt?',\n",
       " 'long work cpt?',\n",
       " 'employer cpt?',\n",
       " 'heard curricular practical training off-campus job. true?',\n",
       " 'new job area studies? need apply again?',\n",
       " 'cpt usually required recommended?',\n",
       " 'fee cpt?',\n",
       " 'curricular practical training?',\n",
       " 'eligible cpt?',\n",
       " 'need job offer apply ?',\n",
       " 'need enrolled cpt?',\n",
       " 'need pay application fee cpt?',\n",
       " 'cpt affect available opt future?',\n",
       " 'hours limit cpt?',\n",
       " 'part-time cpt authorization. work full-time spring break?',\n",
       " 'submit cpt request form?',\n",
       " 'timeline processing request?',\n",
       " 'submit cpt request form?',\n",
       " 'submit request need cpt semester?',\n",
       " 'know request approved new i-20 ready?',\n",
       " 'know authorized cpt? begin cpt experience ?',\n",
       " 'need update address living new address cpt?',\n",
       " 'f-1 status cpt?',\n",
       " 'pay taxes cpt income?',\n",
       " 'happens authorized cpt change mind lose position position changes (location, hours, job description, etc)?',\n",
       " 'request period cpt?',\n",
       " 'register cpt related degree dissertation requirement?',\n",
       " 'program/school specific internship ourse. participate?',\n",
       " 'employer asked work remotely. permitted cpt?',\n",
       " 'partaking cpt experiences semester (or summer) enrolling internship course. complete cpt application opportunities?',\n",
       " 'want intern embassy; need authorization? i’ve heard embassies considered foreign territory.',\n",
       " 'social security services affected coronavirus (covid-19)?',\n",
       " \"claiming there's problem social security number account?\",\n",
       " 'change correct social security number card?',\n",
       " 'apply new replacement social security number card?',\n",
       " 'social security statement shows record earnings estimate future benefits?',\n",
       " 'form ssa-1099/1042s, social security benefit statement?']"
      ]
     },
     "execution_count": 119,
     "metadata": {},
     "output_type": "execute_result"
    }
   ],
   "source": [
    "clean_sentences"
   ]
  },
  {
   "cell_type": "markdown",
   "metadata": {},
   "source": [
    "### Bag Of words Model"
   ]
  },
  {
   "cell_type": "code",
   "execution_count": 120,
   "metadata": {},
   "outputs": [
    {
     "name": "stdout",
     "output_type": "stream",
     "text": [
      "0 :  certification\n",
      "1 :  it?\n",
      "2 :  need\n",
      "3 :  schools\n",
      "4 :  sevp\n",
      "5 :  certified?\n",
      "6 :  international\n",
      "7 :  know\n",
      "8 :  school\n",
      "9 :  student\n",
      "10 :  form\n",
      "11 :  i-20\n",
      "12 :  one?\n",
      "13 :  receive\n",
      "14 :  difference\n",
      "15 :  i-20,\n",
      "16 :  status?\n",
      "17 :  student's\n",
      "18 :  visa\n",
      "19 :  attend\n",
      "20 :  k-12\n",
      "21 :  states?\n",
      "22 :  students\n",
      "23 :  united\n",
      "24 :  bring\n",
      "25 :  family\n",
      "26 :  members\n",
      "27 :  states\n",
      "28 :  study?\n",
      "29 :  accreditation\n",
      "30 :  act\n",
      "31 :  apply\n",
      "32 :  schools?\n",
      "33 :  sevp-certified\n",
      "34 :  academic\n",
      "35 :  school?\n",
      "36 :  vocational\n",
      "37 :  private\n",
      "38 :  public\n",
      "39 :  study\n",
      "40 :  courses?\n",
      "41 :  enroll\n",
      "42 :  online\n",
      "43 :  attend?\n",
      "44 :  depending\n",
      "45 :  different\n",
      "46 :  rules\n",
      "47 :  type\n",
      "48 :  classes\n",
      "49 :  course\n",
      "50 :  maintain\n",
      "51 :  mean\n",
      "52 :  time?\n",
      "53 :  vacation\n",
      "54 :  allowed\n",
      "55 :  transfer\n",
      "56 :  do?\n",
      "57 :  finish\n",
      "58 :  needs\n",
      "59 :  program\n",
      "60 :  study,\n",
      "61 :  time\n",
      "62 :  class\n",
      "63 :  violation\n",
      "64 :  withdrawing\n",
      "65 :  number?\n",
      "66 :  obtain\n",
      "67 :  security\n",
      "68 :  social\n",
      "69 :  drive\n",
      "70 :  e-verify?\n",
      "71 :  save\n",
      "72 :  work\n",
      "73 :  training\n",
      "74 :  working\n",
      "75 :  income\n",
      "76 :  pay\n",
      "77 :  taxes\n",
      "78 :  dependents\n",
      "79 :  extension?\n",
      "80 :  opt\n",
      "81 :  stem\n",
      "82 :  health\n",
      "83 :  insurance\n",
      "84 :  studying\n",
      "85 :  portal?\n",
      "86 :  away?\n",
      "87 :  curricular\n",
      "88 :  eligible\n",
      "89 :  practical\n",
      "90 :  right\n",
      "91 :  start\n",
      "92 :  started\n",
      "93 :  studies\n",
      "94 :  us.\n",
      "95 :  cpt\n",
      "96 :  good\n",
      "97 :  internship\n",
      "98 :  opportunity.\n",
      "99 :  week?\n",
      "100 :  cpt?\n",
      "101 :  long\n",
      "102 :  complete\n",
      "103 :  opt?\n",
      "104 :  employer\n",
      "105 :  heard\n",
      "106 :  job.\n",
      "107 :  off-campus\n",
      "108 :  true?\n",
      "109 :  again?\n",
      "110 :  area\n",
      "111 :  job\n",
      "112 :  new\n",
      "113 :  studies?\n",
      "114 :  recommended?\n",
      "115 :  required\n",
      "116 :  usually\n",
      "117 :  fee\n",
      "118 :  training?\n",
      "119 :  ?\n",
      "120 :  offer\n",
      "121 :  enrolled\n",
      "122 :  application\n",
      "123 :  affect\n",
      "124 :  available\n",
      "125 :  future?\n",
      "126 :  hours\n",
      "127 :  limit\n",
      "128 :  authorization.\n",
      "129 :  break?\n",
      "130 :  full-time\n",
      "131 :  part-time\n",
      "132 :  spring\n",
      "133 :  form?\n",
      "134 :  request\n",
      "135 :  submit\n",
      "136 :  processing\n",
      "137 :  request?\n",
      "138 :  timeline\n",
      "139 :  semester?\n",
      "140 :  approved\n",
      "141 :  ready?\n",
      "142 :  authorized\n",
      "143 :  begin\n",
      "144 :  experience\n",
      "145 :  address\n",
      "146 :  living\n",
      "147 :  update\n",
      "148 :  f-1\n",
      "149 :  status\n",
      "150 :  income?\n",
      "151 :  (location,\n",
      "152 :  change\n",
      "153 :  changes\n",
      "154 :  description,\n",
      "155 :  etc)?\n",
      "156 :  happens\n",
      "157 :  hours,\n",
      "158 :  lose\n",
      "159 :  mind\n",
      "160 :  position\n",
      "161 :  period\n",
      "162 :  degree\n",
      "163 :  dissertation\n",
      "164 :  register\n",
      "165 :  related\n",
      "166 :  requirement?\n",
      "167 :  ourse.\n",
      "168 :  participate?\n",
      "169 :  program/school\n",
      "170 :  specific\n",
      "171 :  asked\n",
      "172 :  permitted\n",
      "173 :  remotely.\n",
      "174 :  (or\n",
      "175 :  course.\n",
      "176 :  enrolling\n",
      "177 :  experiences\n",
      "178 :  opportunities?\n",
      "179 :  partaking\n",
      "180 :  semester\n",
      "181 :  summer)\n",
      "182 :  authorization?\n",
      "183 :  considered\n",
      "184 :  embassies\n",
      "185 :  embassy;\n",
      "186 :  foreign\n",
      "187 :  intern\n",
      "188 :  i’ve\n",
      "189 :  territory.\n",
      "190 :  want\n",
      "191 :  (covid-19)?\n",
      "192 :  affected\n",
      "193 :  coronavirus\n",
      "194 :  services\n",
      "195 :  account?\n",
      "196 :  claiming\n",
      "197 :  number\n",
      "198 :  problem\n",
      "199 :  there's\n",
      "200 :  card?\n",
      "201 :  correct\n",
      "202 :  replacement\n",
      "203 :  benefits?\n",
      "204 :  earnings\n",
      "205 :  estimate\n",
      "206 :  future\n",
      "207 :  record\n",
      "208 :  shows\n",
      "209 :  statement\n",
      "210 :  benefit\n",
      "211 :  ssa-1099/1042s,\n",
      "212 :  statement?\n",
      "sevp certification schools need it?\n",
      "[(0, 1), (1, 1), (2, 1), (3, 1), (4, 1)]\n",
      "international student know school sevp certified?\n",
      "[(4, 1), (5, 1), (6, 1), (7, 1), (8, 1), (9, 1)]\n",
      "international student receive form i-20 need one?\n",
      "[(2, 1), (6, 1), (9, 1), (10, 1), (11, 1), (12, 1), (13, 1)]\n",
      "difference form i-20, visa student's status?\n",
      "[(10, 1), (14, 1), (15, 1), (16, 1), (17, 1), (18, 1)]\n",
      "international students attend k-12 school united states?\n",
      "[(6, 1), (8, 1), (19, 1), (20, 1), (21, 1), (22, 1), (23, 1)]\n",
      "international students bring family members united states study?\n",
      "[(6, 1), (22, 1), (23, 1), (24, 1), (25, 1), (26, 1), (27, 1), (28, 1)]\n",
      "accreditation accreditation act apply sevp-certified schools?\n",
      "[(29, 2), (30, 1), (31, 1), (32, 1), (33, 1)]\n",
      "difference vocational school academic school?\n",
      "[(8, 1), (14, 1), (34, 1), (35, 1), (36, 1)]\n",
      "international students study public private schools united states?\n",
      "[(3, 1), (6, 1), (21, 1), (22, 1), (23, 1), (37, 1), (38, 1), (39, 1)]\n",
      "international students enroll online courses?\n",
      "[(6, 1), (22, 1), (40, 1), (41, 1), (42, 1)]\n",
      "different rules apply international students depending type school attend?\n",
      "[(6, 1), (8, 1), (22, 1), (31, 1), (43, 1), (44, 1), (45, 1), (46, 1), (47, 1)]\n",
      "classes course study?\n",
      "[(28, 1), (48, 1), (49, 1)]\n",
      "mean maintain status?\n",
      "[(16, 1), (50, 1), (51, 1)]\n",
      "international students vacation time?\n",
      "[(6, 1), (22, 1), (52, 1), (53, 1)]\n",
      "international students allowed transfer schools?\n",
      "[(6, 1), (22, 1), (32, 1), (54, 1), (55, 1)]\n",
      "international student needs time finish program study, do?\n",
      "[(6, 1), (9, 1), (56, 1), (57, 1), (58, 1), (59, 1), (60, 1), (61, 1)]\n",
      "withdrawing class violation status?\n",
      "[(16, 1), (62, 1), (63, 1), (64, 1)]\n",
      "international students obtain social security number?\n",
      "[(6, 1), (22, 1), (65, 1), (66, 1), (67, 1), (68, 1)]\n",
      "international students drive united states?\n",
      "[(6, 1), (21, 1), (22, 1), (23, 1), (69, 1)]\n",
      "save e-verify?\n",
      "[(70, 1), (71, 1)]\n",
      "international students work united states?\n",
      "[(6, 1), (21, 1), (22, 1), (23, 1), (72, 1)]\n",
      "difference working training united states?\n",
      "[(14, 1), (21, 1), (23, 1), (73, 1), (74, 1)]\n",
      "international students need pay income taxes united states?\n",
      "[(2, 1), (6, 1), (21, 1), (22, 1), (23, 1), (75, 1), (76, 1), (77, 1)]\n",
      "dependents work study united states?\n",
      "[(21, 1), (23, 1), (39, 1), (72, 1), (78, 1)]\n",
      "stem opt extension?\n",
      "[(79, 1), (80, 1), (81, 1)]\n",
      "international students need health insurance studying united states?\n",
      "[(2, 1), (6, 1), (21, 1), (22, 1), (23, 1), (82, 1), (83, 1), (84, 1)]\n",
      "sevp portal?\n",
      "[(4, 1), (85, 1)]\n",
      "started studies us. eligible start curricular practical training right away?\n",
      "[(73, 1), (86, 1), (87, 1), (88, 1), (89, 1), (90, 1), (91, 1), (92, 1), (93, 1), (94, 1)]\n",
      "eligible apply cpt transfer school?\n",
      "[(31, 1), (35, 1), (55, 1), (88, 1), (95, 1)]\n",
      "good internship opportunity. start work week?\n",
      "[(72, 1), (91, 1), (96, 1), (97, 1), (98, 1), (99, 1)]\n",
      "long work cpt?\n",
      "[(72, 1), (100, 1), (101, 1)]\n",
      "complete time cpt eligible opt?\n",
      "[(61, 1), (88, 1), (95, 1), (102, 1), (103, 1)]\n",
      "long work cpt?\n",
      "[(72, 1), (100, 1), (101, 1)]\n",
      "employer cpt?\n",
      "[(100, 1), (104, 1)]\n",
      "heard curricular practical training off-campus job. true?\n",
      "[(73, 1), (87, 1), (89, 1), (105, 1), (106, 1), (107, 1), (108, 1)]\n",
      "new job area studies? need apply again?\n",
      "[(2, 1), (31, 1), (109, 1), (110, 1), (111, 1), (112, 1), (113, 1)]\n",
      "cpt usually required recommended?\n",
      "[(95, 1), (114, 1), (115, 1), (116, 1)]\n",
      "fee cpt?\n",
      "[(100, 1), (117, 1)]\n",
      "curricular practical training?\n",
      "[(87, 1), (89, 1), (118, 1)]\n",
      "eligible cpt?\n",
      "[(88, 1), (100, 1)]\n",
      "need job offer apply ?\n",
      "[(2, 1), (31, 1), (111, 1), (119, 1), (120, 1)]\n",
      "need enrolled cpt?\n",
      "[(2, 1), (100, 1), (121, 1)]\n",
      "need pay application fee cpt?\n",
      "[(2, 1), (76, 1), (100, 1), (117, 1), (122, 1)]\n",
      "cpt affect available opt future?\n",
      "[(80, 1), (95, 1), (123, 1), (124, 1), (125, 1)]\n",
      "hours limit cpt?\n",
      "[(100, 1), (126, 1), (127, 1)]\n",
      "part-time cpt authorization. work full-time spring break?\n",
      "[(72, 1), (95, 1), (128, 1), (129, 1), (130, 1), (131, 1), (132, 1)]\n",
      "submit cpt request form?\n",
      "[(95, 1), (133, 1), (134, 1), (135, 1)]\n",
      "timeline processing request?\n",
      "[(136, 1), (137, 1), (138, 1)]\n",
      "submit cpt request form?\n",
      "[(95, 1), (133, 1), (134, 1), (135, 1)]\n",
      "submit request need cpt semester?\n",
      "[(2, 1), (95, 1), (134, 1), (135, 1), (139, 1)]\n",
      "know request approved new i-20 ready?\n",
      "[(7, 1), (11, 1), (112, 1), (134, 1), (140, 1), (141, 1)]\n",
      "know authorized cpt? begin cpt experience ?\n",
      "[(7, 1), (95, 1), (100, 1), (119, 1), (142, 1), (143, 1), (144, 1)]\n",
      "need update address living new address cpt?\n",
      "[(2, 1), (100, 1), (112, 1), (145, 2), (146, 1), (147, 1)]\n",
      "f-1 status cpt?\n",
      "[(100, 1), (148, 1), (149, 1)]\n",
      "pay taxes cpt income?\n",
      "[(76, 1), (77, 1), (95, 1), (150, 1)]\n",
      "happens authorized cpt change mind lose position position changes (location, hours, job description, etc)?\n",
      "[(95, 1), (111, 1), (142, 1), (151, 1), (152, 1), (153, 1), (154, 1), (155, 1), (156, 1), (157, 1), (158, 1), (159, 1), (160, 2)]\n",
      "request period cpt?\n",
      "[(100, 1), (134, 1), (161, 1)]\n",
      "register cpt related degree dissertation requirement?\n",
      "[(95, 1), (162, 1), (163, 1), (164, 1), (165, 1), (166, 1)]\n",
      "program/school specific internship ourse. participate?\n",
      "[(97, 1), (167, 1), (168, 1), (169, 1), (170, 1)]\n",
      "employer asked work remotely. permitted cpt?\n",
      "[(72, 1), (100, 1), (104, 1), (171, 1), (172, 1), (173, 1)]\n",
      "partaking cpt experiences semester (or summer) enrolling internship course. complete cpt application opportunities?\n",
      "[(95, 2), (97, 1), (102, 1), (122, 1), (174, 1), (175, 1), (176, 1), (177, 1), (178, 1), (179, 1), (180, 1), (181, 1)]\n",
      "want intern embassy; need authorization? i’ve heard embassies considered foreign territory.\n",
      "[(2, 1), (105, 1), (182, 1), (183, 1), (184, 1), (185, 1), (186, 1), (187, 1), (188, 1), (189, 1), (190, 1)]\n",
      "social security services affected coronavirus (covid-19)?\n",
      "[(67, 1), (68, 1), (191, 1), (192, 1), (193, 1), (194, 1)]\n",
      "claiming there's problem social security number account?\n",
      "[(67, 1), (68, 1), (195, 1), (196, 1), (197, 1), (198, 1), (199, 1)]\n",
      "change correct social security number card?\n",
      "[(67, 1), (68, 1), (152, 1), (197, 1), (200, 1), (201, 1)]\n",
      "apply new replacement social security number card?\n",
      "[(31, 1), (67, 1), (68, 1), (112, 1), (197, 1), (200, 1), (202, 1)]\n",
      "social security statement shows record earnings estimate future benefits?\n",
      "[(67, 1), (68, 1), (203, 1), (204, 1), (205, 1), (206, 1), (207, 1), (208, 1), (209, 1)]\n",
      "form ssa-1099/1042s, social security benefit statement?\n",
      "[(10, 1), (67, 1), (68, 1), (210, 1), (211, 1), (212, 1)]\n"
     ]
    }
   ],
   "source": [
    "import numpy\n",
    "\n",
    "sentences = clean_sentences\n",
    "\n",
    "sentences_words = [[word for word in document.split()] for document in sentences]\n",
    "\n",
    "from gensim import corpora \n",
    "\n",
    "dictionary = corpora.Dictionary(sentences_words)\n",
    "for key,value in dictionary.items():\n",
    "    print(key, \": \", value)\n",
    "    \n",
    "import pprint\n",
    "bow_corpus = [dictionary.doc2bow(text) for text in sentences_words]\n",
    "for sent,embedding in zip(sentences, bow_corpus):\n",
    "    print(sent)\n",
    "    print(embedding)\n",
    "    \n",
    "\n"
   ]
  },
  {
   "cell_type": "code",
   "execution_count": 121,
   "metadata": {},
   "outputs": [
    {
     "name": "stdout",
     "output_type": "stream",
     "text": [
      "Enter your value: How to replace the social security number card?\n",
      "how to replace the social security number card?  :  [(67, 1), (68, 1), (197, 1), (200, 1)]\n"
     ]
    }
   ],
   "source": [
    "question_org = input(\"Enter your value: \")\n",
    "question = clean_sentence(question_org, False)\n",
    "question_embedding = dictionary.doc2bow(question.split())\n",
    "    \n",
    "print(question, \" : \", question_embedding)"
   ]
  },
  {
   "cell_type": "code",
   "execution_count": 81,
   "metadata": {},
   "outputs": [
    {
     "name": "stdout",
     "output_type": "stream",
     "text": [
      "how international stident recieve i-20?  :  [(6, 1)]\n"
     ]
    }
   ],
   "source": [
    "question_org = \"How international stident recieve i-20?\"\n",
    "question = clean_sentence(question_org, False)\n",
    "question_embedding = dictionary.doc2bow(question.split())\n",
    "    \n",
    "print(question, \" : \", question_embedding)"
   ]
  },
  {
   "cell_type": "markdown",
   "metadata": {},
   "source": [
    "### We can now find out the cosine similarities between the vectors. "
   ]
  },
  {
   "cell_type": "code",
   "execution_count": 123,
   "metadata": {},
   "outputs": [
    {
     "name": "stdout",
     "output_type": "stream",
     "text": [
      "0 0.01492371097349751 sevp certification schools need it? Q : What is SEVP certification and do schools need it?\n",
      "\n",
      "1 0.9736539920122571 international student know school sevp certified? Q : How does an international student know if a school is SEVP certified?\n",
      "\n",
      "2 0.9010016697590998 international student receive form i-20 need one? Q: How does an international student receive a Form I-20 and why do they need one?\n",
      "\n",
      "3 0.9964113428599787 difference form i-20, visa student's status? Q: What is the difference between a Form I-20, a visa and student's status?\n",
      "\n",
      "4 0.9887375172649778 international students attend k-12 school united states? Q: Can international students attend a K-12 school in the United States?\n",
      "\n",
      "5 0.9887375172649778 international students bring family members united states study? Q: Can international students bring their family members to the United States while they study?\n",
      "\n",
      "6 0.9985460100748997 accreditation accreditation act apply sevp-certified schools? Q: What is accreditation and how does the Accreditation Act apply to SEVP-certified schools?\n",
      "\n",
      "7 0.9940184304402121 difference vocational school academic school? Q: What is the difference between a vocational school and an academic school?\n",
      "\n",
      "8 0.9532969399296776 international students study public private schools united states? Q: Can international students study at both public and private schools in the United States?\n",
      "\n",
      "9 0.9887375172649778 international students enroll online courses? Q: Can international students enroll in online courses?\n",
      "\n",
      "10 0.9887375172649778 different rules apply international students depending type school attend? Q: Do different rules apply to international students depending on what type of school they attend?\n",
      "\n",
      "11 0.9997842106130344 classes course study? Q: How many classes make up a full course of study?\n",
      "\n",
      "12 0.9988723460949841 mean maintain status? Q: What does it mean to maintain status?\n",
      "\n",
      "13 0.9887375172649778 international students vacation time? Q: Do international students get vacation time?\n",
      "\n",
      "14 0.9887375172649778 international students allowed transfer schools? Q: Are international students allowed to transfer schools?\n",
      "\n",
      "15 0.9887375172649778 international student needs time finish program study, do? Q: If an international student needs more time to finish their program of study, what should they do?\n",
      "\n",
      "16 0.9988723460949841 withdrawing class violation status? Q: When does withdrawing from a class become a violation of status?\n",
      "\n",
      "17 0.9887375172649778 international students obtain social security number? Q: Can international students obtain a Social Security number?\n",
      "\n",
      "18 0.9887375172649778 international students drive united states? Q: Can international students drive in the United States?\n",
      "\n",
      "19 0.9999997955055551 save e-verify? Q: What are SAVE and E-Verify?\n",
      "\n",
      "20 0.9887375172649778 international students work united states? Q: Can international students work while in the United States?\n",
      "\n",
      "21 0.9984108884481254 difference working training united states? Q: What is the difference between working and training in the United States?\n",
      "\n",
      "22 0.9010016697590998 international students need pay income taxes united states? Q: Do international students need to pay income taxes in the United States?\n",
      "\n",
      "23 0.9994667475406465 dependents work study united states? Q: Can dependents work and study in the United States?\n",
      "\n",
      "24 0.999997431006834 stem opt extension? Q: What is the STEM OPT extension?\n",
      "\n",
      "25 0.9010016697590998 international students need health insurance studying united states? Q: Do international students need health insurance while studying in the United States?\n",
      "\n",
      "26 0.9736539920122571 sevp portal? Q: What is the SEVP Portal?\n",
      "\n",
      "27 0.9999992478592508 started studies us. eligible start curricular practical training right away? Q: I just started my studies in the US. Am I eligible to start Curricular Practical Training right away?\n",
      "\n",
      "28 0.9998499672142136 eligible apply cpt transfer school? Q: When am I eligible to apply for CPT if I transfer from another US school?\n",
      "\n",
      "29 0.9999994630732666 good internship opportunity. start work week? Q: I found a very good internship opportunity. May I start work next week?\n",
      "\n",
      "30 0.9999994630732666 long work cpt? Q: How long may I work on CPT?\n",
      "\n",
      "31 0.9999989229148725 complete time cpt eligible opt? Q: May I complete full time CPT and still be eligible for OPT?\n",
      "\n",
      "32 0.9999994630732666 long work cpt? Q: How long may I work on CPT?\n",
      "\n",
      "33 0.999987874190281 employer cpt? Q: Who can be my employer during CPT?\n",
      "\n",
      "34 0.9999992478592508 heard curricular practical training off-campus job. true? Q: I heard that Curricular Practical Training is any off-campus job. Is that true?\n",
      "\n",
      "35 0.9010016697590998 new job area studies? need apply again? Q: What if I get a new job in my area of studies? Do I need to apply again?\n",
      "\n",
      "36 0.9999903273271955 cpt usually required recommended? Q: Is CPT usually required or is it only recommended?\n",
      "\n",
      "37 0.999987874190281 fee cpt? Q: Is there a fee for CPT?\n",
      "\n",
      "38 0.9999941157779528 curricular practical training? Q: What is Curricular Practical Training?\n",
      "\n",
      "39 0.9999936592269725 eligible cpt? Q: Who is eligible for CPT?\n",
      "\n",
      "40 0.9010016697590998 need job offer apply ? Q: Do I need a job offer to apply ? \n",
      "\n",
      "41 0.9010016697590998 need enrolled cpt? Q: Do I need to be enrolled while on CPT?\n",
      "\n",
      "42 0.9010016697590998 need pay application fee cpt? Q: Do I need to pay an application fee for CPT?\n",
      "\n",
      "43 0.9999970598927083 cpt affect available opt future? Q: Does CPT affect my available OPT in future? \n",
      "\n",
      "44 0.999987874190281 hours limit cpt? Q:  Is there an hours limit for CPT? \n",
      "\n",
      "45 0.9999994630732666 part-time cpt authorization. work full-time spring break? Q: I have part-time CPT authorization. Can I work full-time during Spring Break? \n",
      "\n",
      "46 0.9999903273271955 submit cpt request form? Q: When should I submit the CPT Request Form? \n",
      "\n",
      "47 0.9999713366615037 timeline processing request? Q: What is the timeline for processing this request? \n",
      "\n",
      "48 0.9999903273271955 submit cpt request form? Q: How do I submit the CPT Request Form? \n",
      "\n",
      "49 0.9010016697590998 submit request need cpt semester? Q: Can I submit just one request if I need CPT for more than one semester? \n",
      "\n",
      "50 0.991949779603849 know request approved new i-20 ready? Q: How will I know if this request has been approved and my new I-20 is ready?\n",
      "\n",
      "51 0.991949779603849 know authorized cpt? begin cpt experience ? Q: How do I know that I am authorized for CPT? And when may I begin the CPT experience ? \n",
      "\n",
      "52 0.9010016697590998 need update address living new address cpt? Q: Do I need to update my address if I will be living at a new address during my CPT? \n",
      "\n",
      "53 0.999987874190281 f-1 status cpt? Q: Am I still in F-1 status during CPT? \n",
      "\n",
      "54 0.9999984386270409 pay taxes cpt income? Q: Do I have to pay taxes on my CPT income? \n",
      "\n",
      "55 0.9999903273271955 happens authorized cpt change mind lose position position changes (location, hours, job description, etc)? Q: What happens if I am authorized for CPT and then I change my mind or lose my position or something about the position changes (location, hours, job description, etc)?\n",
      "\n",
      "56 0.999987874190281 request period cpt? Q: Can I request more than one period of CPT? \n",
      "\n",
      "57 0.9999903273271955 register cpt related degree dissertation requirement? Q:  Do I have to register for anything if my CPT is related to a degree or dissertation requirement?\n",
      "\n",
      "58 0.9999893492825852 program/school specific internship ourse. participate? Q: My program/school does not have a specific internship ourse. Can I still participate? \n",
      "\n",
      "59 0.9999994630732666 employer asked work remotely. permitted cpt? Q: My employer has asked me to work remotely. Is this permitted during CPT?\n",
      "\n",
      "60 0.9999812406710942 partaking cpt experiences semester (or summer) enrolling internship course. complete cpt application opportunities? Q:  I am partaking in two CPT experiences during the same semester (or same summer) and enrolling in an internship course. Can I complete one CPT application for the two opportunities?\n",
      "\n",
      "61 0.9010016697590998 want intern embassy; need authorization? i’ve heard embassies considered foreign territory. Q:  I want to intern at an embassy; do I need authorization? I’ve heard embassies are considered foreign territory.\n",
      "\n",
      "62 1.0 social security services affected coronavirus (covid-19)? Q: Are Social Security services affected by Coronavirus (COVID-19)?\n",
      "\n",
      "63 1.0 claiming there's problem social security number account? Q: What should I do if I get a call claiming there's a problem with my Social Security number or account?\n",
      "\n",
      "64 1.0 change correct social security number card? Q: How do I change or correct my name on my Social Security number card?\n",
      "\n",
      "65 0.9998499672142136 apply new replacement social security number card? Q: How do I apply for a new or replacement Social Security number card?\n",
      "\n",
      "66 1.0 social security statement shows record earnings estimate future benefits? Q: How can I get a Social Security Statement that shows a record of my earnings and an estimate of my future benefits?\n",
      "\n",
      "67 0.9964113428599787 form ssa-1099/1042s, social security benefit statement? Q: How can I get a form SSA-1099/1042S, Social Security Benefit Statement?\n",
      "\n",
      "\n",
      "\n",
      "Question :  how to replace the social security number card?\n",
      "Retrived :  Q: How can I get a form SSA-1099/1042S, Social Security Benefit Statement?\n",
      "\n",
      "An SSA-1099 is a tax form we mail each year in January to people who receive Social Security benefits. It shows the total amount of benefits you received from Social Security in the previous year so you know how much Social Security income to report to IRS on your tax return.If you are a nonresident alien and you received or repaid Social Security benefits last year, we will send you form SSA-1042S instead.The forms SSA-1099 and SSA-1042S are not available for people who receive Supplemental Security Income (SSI).Call 1-800-772-1213 (TTY 1-800-325-0778), Monday through Friday, 8:00 am – 7:00 pm;  \n"
     ]
    }
   ],
   "source": [
    "import sklearn\n",
    "from sklearn.metrics.pairwise import cosine_similarity\n",
    "def getAnswer(question_embedding, sentence_embedding, df, sentences):\n",
    "    dic = {}\n",
    "    max_sim = 1\n",
    "    index_sim = -1\n",
    "    for index,faq_embedding in enumerate(sentence_embedding):\n",
    "        sim = cosine_similarity(faq_embedding,question_embedding)[0][0]\n",
    "        dic[index] = sim\n",
    "        print(index, sim, sentences[index], df.iloc[index, 0])\n",
    "        if sim > max_sim:\n",
    "            max_sim = sim\n",
    "            index_sim = index\n",
    "    print(\"\\n\")\n",
    "    print(\"Question : \", question)\n",
    "    print(\"Retrived : \", df.iloc[index_sim, 0])\n",
    "    \n",
    "    print(df.iloc[index_sim, 1])\n",
    "    return dic\n",
    "\n",
    "dic = getAnswer(question_embedding, bow_corpus, data, sentences)"
   ]
  },
  {
   "cell_type": "code",
   "execution_count": 124,
   "metadata": {},
   "outputs": [],
   "source": [
    "sort_orders = sorted(dic.items(), key=lambda x: x[1], reverse=True)"
   ]
  },
  {
   "cell_type": "code",
   "execution_count": 138,
   "metadata": {},
   "outputs": [
    {
     "name": "stdout",
     "output_type": "stream",
     "text": [
      "Question :  how to replace the social security number card?\n",
      "1   Similar Question:  Q: Are Social Security services affected by Coronavirus (COVID-19)?\n",
      "  Confidence:  1.0\n",
      "----------------------------------------\n",
      "2   Similar Question:  Q: What should I do if I get a call claiming there's a problem with my Social Security number or account?\n",
      "  Confidence:  1.0\n",
      "----------------------------------------\n",
      "3   Similar Question:  Q: How do I change or correct my name on my Social Security number card?\n",
      "  Confidence:  1.0\n",
      "----------------------------------------\n",
      "4   Similar Question:  Q: How can I get a Social Security Statement that shows a record of my earnings and an estimate of my future benefits?\n",
      "  Confidence:  1.0\n",
      "----------------------------------------\n",
      "5   Similar Question:  Q: What are SAVE and E-Verify?\n",
      "  Confidence:  0.9999997955055551\n",
      "----------------------------------------\n"
     ]
    }
   ],
   "source": [
    "i = 1\n",
    "print(\"Question : \", question)\n",
    "for t in sort_orders[0:5]:\n",
    "    print(i, \" \", \"Similar Question: \", data.iloc[t[0], 0],\" Confidence: \", t[1])\n",
    "    print(\"----------------------------------------\")\n",
    "    i = i+1"
   ]
  },
  {
   "cell_type": "markdown",
   "metadata": {},
   "source": [
    "### Glove Embedding"
   ]
  },
  {
   "cell_type": "code",
   "execution_count": 84,
   "metadata": {},
   "outputs": [
    {
     "name": "stdout",
     "output_type": "stream",
     "text": [
      "[==============------------------------------------] 29.2% 30.6/104.8MB downloaded"
     ]
    },
    {
     "name": "stderr",
     "output_type": "stream",
     "text": [
      "IOPub message rate exceeded.\n",
      "The notebook server will temporarily stop sending output\n",
      "to the client in order to avoid crashing it.\n",
      "To change this limit, set the config variable\n",
      "`--NotebookApp.iopub_msg_rate_limit`.\n",
      "\n",
      "Current values:\n",
      "NotebookApp.iopub_msg_rate_limit=1000.0 (msgs/sec)\n",
      "NotebookApp.rate_limit_window=3.0 (secs)\n",
      "\n"
     ]
    },
    {
     "name": "stdout",
     "output_type": "stream",
     "text": [
      "[===========================-----------------------] 54.6% 57.2/104.8MB downloaded"
     ]
    },
    {
     "name": "stderr",
     "output_type": "stream",
     "text": [
      "IOPub message rate exceeded.\n",
      "The notebook server will temporarily stop sending output\n",
      "to the client in order to avoid crashing it.\n",
      "To change this limit, set the config variable\n",
      "`--NotebookApp.iopub_msg_rate_limit`.\n",
      "\n",
      "Current values:\n",
      "NotebookApp.iopub_msg_rate_limit=1000.0 (msgs/sec)\n",
      "NotebookApp.rate_limit_window=3.0 (secs)\n",
      "\n"
     ]
    },
    {
     "name": "stdout",
     "output_type": "stream",
     "text": [
      "[=================================-----------------] 67.1% 70.3/104.8MB downloaded"
     ]
    },
    {
     "name": "stderr",
     "output_type": "stream",
     "text": [
      "IOPub message rate exceeded.\n",
      "The notebook server will temporarily stop sending output\n",
      "to the client in order to avoid crashing it.\n",
      "To change this limit, set the config variable\n",
      "`--NotebookApp.iopub_msg_rate_limit`.\n",
      "\n",
      "Current values:\n",
      "NotebookApp.iopub_msg_rate_limit=1000.0 (msgs/sec)\n",
      "NotebookApp.rate_limit_window=3.0 (secs)\n",
      "\n"
     ]
    },
    {
     "name": "stdout",
     "output_type": "stream",
     "text": [
      "[================================================--] 96.4% 101.0/104.8MB downloaded"
     ]
    },
    {
     "name": "stderr",
     "output_type": "stream",
     "text": [
      "IOPub message rate exceeded.\n",
      "The notebook server will temporarily stop sending output\n",
      "to the client in order to avoid crashing it.\n",
      "To change this limit, set the config variable\n",
      "`--NotebookApp.iopub_msg_rate_limit`.\n",
      "\n",
      "Current values:\n",
      "NotebookApp.iopub_msg_rate_limit=1000.0 (msgs/sec)\n",
      "NotebookApp.rate_limit_window=3.0 (secs)\n",
      "\n"
     ]
    },
    {
     "name": "stdout",
     "output_type": "stream",
     "text": [
      "loaded glove model\n"
     ]
    }
   ],
   "source": [
    "from gensim.models import Word2Vec\n",
    "import gensim.downloader as api\n",
    "\n",
    "glove_model= None\n",
    "glove_model = api.load('glove-twitter-25')\n",
    "glove_model.save(\"./glovemodel.mod\")\n",
    "print(\"loaded glove model\");"
   ]
  },
  {
   "cell_type": "code",
   "execution_count": 85,
   "metadata": {},
   "outputs": [
    {
     "name": "stdout",
     "output_type": "stream",
     "text": [
      "[--------------------------------------------------] 1.4% 23.4/1662.8MB downloaded"
     ]
    },
    {
     "name": "stderr",
     "output_type": "stream",
     "text": [
      "IOPub message rate exceeded.\n",
      "The notebook server will temporarily stop sending output\n",
      "to the client in order to avoid crashing it.\n",
      "To change this limit, set the config variable\n",
      "`--NotebookApp.iopub_msg_rate_limit`.\n",
      "\n",
      "Current values:\n",
      "NotebookApp.iopub_msg_rate_limit=1000.0 (msgs/sec)\n",
      "NotebookApp.rate_limit_window=3.0 (secs)\n",
      "\n"
     ]
    },
    {
     "name": "stdout",
     "output_type": "stream",
     "text": [
      "[==------------------------------------------------] 4.3% 70.7/1662.8MB downloaded"
     ]
    },
    {
     "name": "stderr",
     "output_type": "stream",
     "text": [
      "IOPub message rate exceeded.\n",
      "The notebook server will temporarily stop sending output\n",
      "to the client in order to avoid crashing it.\n",
      "To change this limit, set the config variable\n",
      "`--NotebookApp.iopub_msg_rate_limit`.\n",
      "\n",
      "Current values:\n",
      "NotebookApp.iopub_msg_rate_limit=1000.0 (msgs/sec)\n",
      "NotebookApp.rate_limit_window=3.0 (secs)\n",
      "\n"
     ]
    },
    {
     "name": "stdout",
     "output_type": "stream",
     "text": [
      "[===-----------------------------------------------] 7.2% 119.9/1662.8MB downloaded"
     ]
    },
    {
     "name": "stderr",
     "output_type": "stream",
     "text": [
      "IOPub message rate exceeded.\n",
      "The notebook server will temporarily stop sending output\n",
      "to the client in order to avoid crashing it.\n",
      "To change this limit, set the config variable\n",
      "`--NotebookApp.iopub_msg_rate_limit`.\n",
      "\n",
      "Current values:\n",
      "NotebookApp.iopub_msg_rate_limit=1000.0 (msgs/sec)\n",
      "NotebookApp.rate_limit_window=3.0 (secs)\n",
      "\n"
     ]
    },
    {
     "name": "stdout",
     "output_type": "stream",
     "text": [
      "[=====---------------------------------------------] 10.4% 172.7/1662.8MB downloaded"
     ]
    },
    {
     "name": "stderr",
     "output_type": "stream",
     "text": [
      "IOPub message rate exceeded.\n",
      "The notebook server will temporarily stop sending output\n",
      "to the client in order to avoid crashing it.\n",
      "To change this limit, set the config variable\n",
      "`--NotebookApp.iopub_msg_rate_limit`.\n",
      "\n",
      "Current values:\n",
      "NotebookApp.iopub_msg_rate_limit=1000.0 (msgs/sec)\n",
      "NotebookApp.rate_limit_window=3.0 (secs)\n",
      "\n"
     ]
    },
    {
     "name": "stdout",
     "output_type": "stream",
     "text": [
      "[=======-------------------------------------------] 14.6% 242.5/1662.8MB downloaded"
     ]
    },
    {
     "name": "stderr",
     "output_type": "stream",
     "text": [
      "IOPub message rate exceeded.\n",
      "The notebook server will temporarily stop sending output\n",
      "to the client in order to avoid crashing it.\n",
      "To change this limit, set the config variable\n",
      "`--NotebookApp.iopub_msg_rate_limit`.\n",
      "\n",
      "Current values:\n",
      "NotebookApp.iopub_msg_rate_limit=1000.0 (msgs/sec)\n",
      "NotebookApp.rate_limit_window=3.0 (secs)\n",
      "\n"
     ]
    },
    {
     "name": "stdout",
     "output_type": "stream",
     "text": [
      "[=========-----------------------------------------] 18.3% 304.6/1662.8MB downloaded"
     ]
    },
    {
     "name": "stderr",
     "output_type": "stream",
     "text": [
      "IOPub message rate exceeded.\n",
      "The notebook server will temporarily stop sending output\n",
      "to the client in order to avoid crashing it.\n",
      "To change this limit, set the config variable\n",
      "`--NotebookApp.iopub_msg_rate_limit`.\n",
      "\n",
      "Current values:\n",
      "NotebookApp.iopub_msg_rate_limit=1000.0 (msgs/sec)\n",
      "NotebookApp.rate_limit_window=3.0 (secs)\n",
      "\n"
     ]
    },
    {
     "name": "stdout",
     "output_type": "stream",
     "text": [
      "[===========---------------------------------------] 22.1% 367.2/1662.8MB downloaded"
     ]
    },
    {
     "name": "stderr",
     "output_type": "stream",
     "text": [
      "IOPub message rate exceeded.\n",
      "The notebook server will temporarily stop sending output\n",
      "to the client in order to avoid crashing it.\n",
      "To change this limit, set the config variable\n",
      "`--NotebookApp.iopub_msg_rate_limit`.\n",
      "\n",
      "Current values:\n",
      "NotebookApp.iopub_msg_rate_limit=1000.0 (msgs/sec)\n",
      "NotebookApp.rate_limit_window=3.0 (secs)\n",
      "\n"
     ]
    },
    {
     "name": "stdout",
     "output_type": "stream",
     "text": [
      "[============--------------------------------------] 25.8% 429.6/1662.8MB downloaded"
     ]
    },
    {
     "name": "stderr",
     "output_type": "stream",
     "text": [
      "IOPub message rate exceeded.\n",
      "The notebook server will temporarily stop sending output\n",
      "to the client in order to avoid crashing it.\n",
      "To change this limit, set the config variable\n",
      "`--NotebookApp.iopub_msg_rate_limit`.\n",
      "\n",
      "Current values:\n",
      "NotebookApp.iopub_msg_rate_limit=1000.0 (msgs/sec)\n",
      "NotebookApp.rate_limit_window=3.0 (secs)\n",
      "\n"
     ]
    },
    {
     "name": "stdout",
     "output_type": "stream",
     "text": [
      "[==============------------------------------------] 29.8% 496.3/1662.8MB downloaded"
     ]
    },
    {
     "name": "stderr",
     "output_type": "stream",
     "text": [
      "IOPub message rate exceeded.\n",
      "The notebook server will temporarily stop sending output\n",
      "to the client in order to avoid crashing it.\n",
      "To change this limit, set the config variable\n",
      "`--NotebookApp.iopub_msg_rate_limit`.\n",
      "\n",
      "Current values:\n",
      "NotebookApp.iopub_msg_rate_limit=1000.0 (msgs/sec)\n",
      "NotebookApp.rate_limit_window=3.0 (secs)\n",
      "\n"
     ]
    },
    {
     "name": "stdout",
     "output_type": "stream",
     "text": [
      "[================----------------------------------] 33.5% 556.9/1662.8MB downloaded"
     ]
    },
    {
     "name": "stderr",
     "output_type": "stream",
     "text": [
      "IOPub message rate exceeded.\n",
      "The notebook server will temporarily stop sending output\n",
      "to the client in order to avoid crashing it.\n",
      "To change this limit, set the config variable\n",
      "`--NotebookApp.iopub_msg_rate_limit`.\n",
      "\n",
      "Current values:\n",
      "NotebookApp.iopub_msg_rate_limit=1000.0 (msgs/sec)\n",
      "NotebookApp.rate_limit_window=3.0 (secs)\n",
      "\n"
     ]
    },
    {
     "name": "stdout",
     "output_type": "stream",
     "text": [
      "[==================--------------------------------] 37.2% 619.4/1662.8MB downloaded"
     ]
    },
    {
     "name": "stderr",
     "output_type": "stream",
     "text": [
      "IOPub message rate exceeded.\n",
      "The notebook server will temporarily stop sending output\n",
      "to the client in order to avoid crashing it.\n",
      "To change this limit, set the config variable\n",
      "`--NotebookApp.iopub_msg_rate_limit`.\n",
      "\n",
      "Current values:\n",
      "NotebookApp.iopub_msg_rate_limit=1000.0 (msgs/sec)\n",
      "NotebookApp.rate_limit_window=3.0 (secs)\n",
      "\n"
     ]
    },
    {
     "name": "stdout",
     "output_type": "stream",
     "text": [
      "[====================------------------------------] 41.5% 690.8/1662.8MB downloaded"
     ]
    },
    {
     "name": "stderr",
     "output_type": "stream",
     "text": [
      "IOPub message rate exceeded.\n",
      "The notebook server will temporarily stop sending output\n",
      "to the client in order to avoid crashing it.\n",
      "To change this limit, set the config variable\n",
      "`--NotebookApp.iopub_msg_rate_limit`.\n",
      "\n",
      "Current values:\n",
      "NotebookApp.iopub_msg_rate_limit=1000.0 (msgs/sec)\n",
      "NotebookApp.rate_limit_window=3.0 (secs)\n",
      "\n"
     ]
    },
    {
     "name": "stdout",
     "output_type": "stream",
     "text": [
      "[======================----------------------------] 45.2% 752.0/1662.8MB downloaded"
     ]
    },
    {
     "name": "stderr",
     "output_type": "stream",
     "text": [
      "IOPub message rate exceeded.\n",
      "The notebook server will temporarily stop sending output\n",
      "to the client in order to avoid crashing it.\n",
      "To change this limit, set the config variable\n",
      "`--NotebookApp.iopub_msg_rate_limit`.\n",
      "\n",
      "Current values:\n",
      "NotebookApp.iopub_msg_rate_limit=1000.0 (msgs/sec)\n",
      "NotebookApp.rate_limit_window=3.0 (secs)\n",
      "\n"
     ]
    },
    {
     "name": "stdout",
     "output_type": "stream",
     "text": [
      "[========================--------------------------] 49.1% 815.7/1662.8MB downloaded"
     ]
    },
    {
     "name": "stderr",
     "output_type": "stream",
     "text": [
      "IOPub message rate exceeded.\n",
      "The notebook server will temporarily stop sending output\n",
      "to the client in order to avoid crashing it.\n",
      "To change this limit, set the config variable\n",
      "`--NotebookApp.iopub_msg_rate_limit`.\n",
      "\n",
      "Current values:\n",
      "NotebookApp.iopub_msg_rate_limit=1000.0 (msgs/sec)\n",
      "NotebookApp.rate_limit_window=3.0 (secs)\n",
      "\n"
     ]
    },
    {
     "name": "stdout",
     "output_type": "stream",
     "text": [
      "[==========================------------------------] 53.2% 884.9/1662.8MB downloaded"
     ]
    },
    {
     "name": "stderr",
     "output_type": "stream",
     "text": [
      "IOPub message rate exceeded.\n",
      "The notebook server will temporarily stop sending output\n",
      "to the client in order to avoid crashing it.\n",
      "To change this limit, set the config variable\n",
      "`--NotebookApp.iopub_msg_rate_limit`.\n",
      "\n",
      "Current values:\n",
      "NotebookApp.iopub_msg_rate_limit=1000.0 (msgs/sec)\n",
      "NotebookApp.rate_limit_window=3.0 (secs)\n",
      "\n"
     ]
    },
    {
     "name": "stdout",
     "output_type": "stream",
     "text": [
      "[============================----------------------] 56.7% 942.9/1662.8MB downloaded"
     ]
    },
    {
     "name": "stderr",
     "output_type": "stream",
     "text": [
      "IOPub message rate exceeded.\n",
      "The notebook server will temporarily stop sending output\n",
      "to the client in order to avoid crashing it.\n",
      "To change this limit, set the config variable\n",
      "`--NotebookApp.iopub_msg_rate_limit`.\n",
      "\n",
      "Current values:\n",
      "NotebookApp.iopub_msg_rate_limit=1000.0 (msgs/sec)\n",
      "NotebookApp.rate_limit_window=3.0 (secs)\n",
      "\n"
     ]
    },
    {
     "name": "stdout",
     "output_type": "stream",
     "text": [
      "[==============================--------------------] 60.4% 1004.0/1662.8MB downloaded"
     ]
    },
    {
     "name": "stderr",
     "output_type": "stream",
     "text": [
      "IOPub message rate exceeded.\n",
      "The notebook server will temporarily stop sending output\n",
      "to the client in order to avoid crashing it.\n",
      "To change this limit, set the config variable\n",
      "`--NotebookApp.iopub_msg_rate_limit`.\n",
      "\n",
      "Current values:\n",
      "NotebookApp.iopub_msg_rate_limit=1000.0 (msgs/sec)\n",
      "NotebookApp.rate_limit_window=3.0 (secs)\n",
      "\n"
     ]
    },
    {
     "name": "stdout",
     "output_type": "stream",
     "text": [
      "[================================------------------] 64.4% 1070.4/1662.8MB downloaded"
     ]
    },
    {
     "name": "stderr",
     "output_type": "stream",
     "text": [
      "IOPub message rate exceeded.\n",
      "The notebook server will temporarily stop sending output\n",
      "to the client in order to avoid crashing it.\n",
      "To change this limit, set the config variable\n",
      "`--NotebookApp.iopub_msg_rate_limit`.\n",
      "\n",
      "Current values:\n",
      "NotebookApp.iopub_msg_rate_limit=1000.0 (msgs/sec)\n",
      "NotebookApp.rate_limit_window=3.0 (secs)\n",
      "\n"
     ]
    },
    {
     "name": "stdout",
     "output_type": "stream",
     "text": [
      "[==================================----------------] 68.1% 1132.1/1662.8MB downloaded"
     ]
    },
    {
     "name": "stderr",
     "output_type": "stream",
     "text": [
      "IOPub message rate exceeded.\n",
      "The notebook server will temporarily stop sending output\n",
      "to the client in order to avoid crashing it.\n",
      "To change this limit, set the config variable\n",
      "`--NotebookApp.iopub_msg_rate_limit`.\n",
      "\n",
      "Current values:\n",
      "NotebookApp.iopub_msg_rate_limit=1000.0 (msgs/sec)\n",
      "NotebookApp.rate_limit_window=3.0 (secs)\n",
      "\n"
     ]
    },
    {
     "name": "stdout",
     "output_type": "stream",
     "text": [
      "[====================================--------------] 72.1% 1198.9/1662.8MB downloaded"
     ]
    },
    {
     "name": "stderr",
     "output_type": "stream",
     "text": [
      "IOPub message rate exceeded.\n",
      "The notebook server will temporarily stop sending output\n",
      "to the client in order to avoid crashing it.\n",
      "To change this limit, set the config variable\n",
      "`--NotebookApp.iopub_msg_rate_limit`.\n",
      "\n",
      "Current values:\n",
      "NotebookApp.iopub_msg_rate_limit=1000.0 (msgs/sec)\n",
      "NotebookApp.rate_limit_window=3.0 (secs)\n",
      "\n"
     ]
    },
    {
     "name": "stdout",
     "output_type": "stream",
     "text": [
      "[======================================------------] 76.0% 1264.3/1662.8MB downloaded"
     ]
    },
    {
     "name": "stderr",
     "output_type": "stream",
     "text": [
      "IOPub message rate exceeded.\n",
      "The notebook server will temporarily stop sending output\n",
      "to the client in order to avoid crashing it.\n",
      "To change this limit, set the config variable\n",
      "`--NotebookApp.iopub_msg_rate_limit`.\n",
      "\n",
      "Current values:\n",
      "NotebookApp.iopub_msg_rate_limit=1000.0 (msgs/sec)\n",
      "NotebookApp.rate_limit_window=3.0 (secs)\n",
      "\n"
     ]
    },
    {
     "name": "stdout",
     "output_type": "stream",
     "text": [
      "[=======================================-----------] 80.0% 1329.8/1662.8MB downloaded"
     ]
    },
    {
     "name": "stderr",
     "output_type": "stream",
     "text": [
      "IOPub message rate exceeded.\n",
      "The notebook server will temporarily stop sending output\n",
      "to the client in order to avoid crashing it.\n",
      "To change this limit, set the config variable\n",
      "`--NotebookApp.iopub_msg_rate_limit`.\n",
      "\n",
      "Current values:\n",
      "NotebookApp.iopub_msg_rate_limit=1000.0 (msgs/sec)\n",
      "NotebookApp.rate_limit_window=3.0 (secs)\n",
      "\n"
     ]
    },
    {
     "name": "stdout",
     "output_type": "stream",
     "text": [
      "[=========================================---------] 83.9% 1394.4/1662.8MB downloaded"
     ]
    },
    {
     "name": "stderr",
     "output_type": "stream",
     "text": [
      "IOPub message rate exceeded.\n",
      "The notebook server will temporarily stop sending output\n",
      "to the client in order to avoid crashing it.\n",
      "To change this limit, set the config variable\n",
      "`--NotebookApp.iopub_msg_rate_limit`.\n",
      "\n",
      "Current values:\n",
      "NotebookApp.iopub_msg_rate_limit=1000.0 (msgs/sec)\n",
      "NotebookApp.rate_limit_window=3.0 (secs)\n",
      "\n"
     ]
    },
    {
     "name": "stdout",
     "output_type": "stream",
     "text": [
      "[===========================================-------] 86.9% 1444.8/1662.8MB downloaded"
     ]
    },
    {
     "name": "stderr",
     "output_type": "stream",
     "text": [
      "IOPub message rate exceeded.\n",
      "The notebook server will temporarily stop sending output\n",
      "to the client in order to avoid crashing it.\n",
      "To change this limit, set the config variable\n",
      "`--NotebookApp.iopub_msg_rate_limit`.\n",
      "\n",
      "Current values:\n",
      "NotebookApp.iopub_msg_rate_limit=1000.0 (msgs/sec)\n",
      "NotebookApp.rate_limit_window=3.0 (secs)\n",
      "\n"
     ]
    },
    {
     "name": "stdout",
     "output_type": "stream",
     "text": [
      "[=============================================-----] 91.0% 1512.7/1662.8MB downloaded"
     ]
    },
    {
     "name": "stderr",
     "output_type": "stream",
     "text": [
      "IOPub message rate exceeded.\n",
      "The notebook server will temporarily stop sending output\n",
      "to the client in order to avoid crashing it.\n",
      "To change this limit, set the config variable\n",
      "`--NotebookApp.iopub_msg_rate_limit`.\n",
      "\n",
      "Current values:\n",
      "NotebookApp.iopub_msg_rate_limit=1000.0 (msgs/sec)\n",
      "NotebookApp.rate_limit_window=3.0 (secs)\n",
      "\n"
     ]
    },
    {
     "name": "stdout",
     "output_type": "stream",
     "text": [
      "[===============================================---] 94.7% 1575.5/1662.8MB downloaded"
     ]
    },
    {
     "name": "stderr",
     "output_type": "stream",
     "text": [
      "IOPub message rate exceeded.\n",
      "The notebook server will temporarily stop sending output\n",
      "to the client in order to avoid crashing it.\n",
      "To change this limit, set the config variable\n",
      "`--NotebookApp.iopub_msg_rate_limit`.\n",
      "\n",
      "Current values:\n",
      "NotebookApp.iopub_msg_rate_limit=1000.0 (msgs/sec)\n",
      "NotebookApp.rate_limit_window=3.0 (secs)\n",
      "\n"
     ]
    },
    {
     "name": "stdout",
     "output_type": "stream",
     "text": [
      "[=================================================-] 98.5% 1638.1/1662.8MB downloaded"
     ]
    },
    {
     "name": "stderr",
     "output_type": "stream",
     "text": [
      "IOPub message rate exceeded.\n",
      "The notebook server will temporarily stop sending output\n",
      "to the client in order to avoid crashing it.\n",
      "To change this limit, set the config variable\n",
      "`--NotebookApp.iopub_msg_rate_limit`.\n",
      "\n",
      "Current values:\n",
      "NotebookApp.iopub_msg_rate_limit=1000.0 (msgs/sec)\n",
      "NotebookApp.rate_limit_window=3.0 (secs)\n",
      "\n"
     ]
    },
    {
     "name": "stdout",
     "output_type": "stream",
     "text": [
      "\n"
     ]
    }
   ],
   "source": [
    "v2w_model = None\n",
    "v2w_model = api.load(\"word2vec-google-news-300\")\n",
    "v2w_model.save(\"./w2vecmodel.mod\")"
   ]
  },
  {
   "cell_type": "code",
   "execution_count": 86,
   "metadata": {},
   "outputs": [],
   "source": [
    "w2vec_embedding_size = len(v2w_model['computer'])\n",
    "glove_embedding_size = len(glove_model['computer'])"
   ]
  },
  {
   "cell_type": "code",
   "execution_count": 87,
   "metadata": {},
   "outputs": [],
   "source": [
    "def getWordVec(word,model):\n",
    "    samp = model['computer']\n",
    "    vec = [0] * len(samp)\n",
    "    try:\n",
    "        vec=model[word]\n",
    "    except:\n",
    "        vec = [0] * len(samp)\n",
    "    return (vec)\n",
    "\n",
    "def getPhraseEmbedding(phrase, embeddingmodel):\n",
    "    samp = getWordVec(\"computer\", embeddingmodel)\n",
    "    vec = numpy.array([0] * len(samp))\n",
    "    den = 0\n",
    "    for word in phrase.split():\n",
    "        den=den+1\n",
    "        vec = vec + numpy.array(getWordVec(word, embeddingmodel))\n",
    "    return vec.reshape(-1,1)"
   ]
  },
  {
   "cell_type": "code",
   "execution_count": 139,
   "metadata": {},
   "outputs": [
    {
     "name": "stdout",
     "output_type": "stream",
     "text": [
      "0 -1.0 sevp certification schools need it? Q : What is SEVP certification and do schools need it?\n",
      "\n",
      "1 -1.0 international student know school sevp certified? Q : How does an international student know if a school is SEVP certified?\n",
      "\n",
      "2 -1.0 international student receive form i-20 need one? Q: How does an international student receive a Form I-20 and why do they need one?\n",
      "\n",
      "3 -1.0 difference form i-20, visa student's status? Q: What is the difference between a Form I-20, a visa and student's status?\n",
      "\n",
      "4 -1.0 international students attend k-12 school united states? Q: Can international students attend a K-12 school in the United States?\n",
      "\n",
      "5 1.0 international students bring family members united states study? Q: Can international students bring their family members to the United States while they study?\n",
      "\n",
      "6 -1.0 accreditation accreditation act apply sevp-certified schools? Q: What is accreditation and how does the Accreditation Act apply to SEVP-certified schools?\n",
      "\n",
      "7 -1.0 difference vocational school academic school? Q: What is the difference between a vocational school and an academic school?\n",
      "\n",
      "8 -1.0 international students study public private schools united states? Q: Can international students study at both public and private schools in the United States?\n",
      "\n",
      "9 -1.0 international students enroll online courses? Q: Can international students enroll in online courses?\n",
      "\n",
      "10 -1.0 different rules apply international students depending type school attend? Q: Do different rules apply to international students depending on what type of school they attend?\n",
      "\n",
      "11 1.0 classes course study? Q: How many classes make up a full course of study?\n",
      "\n",
      "12 -1.0 mean maintain status? Q: What does it mean to maintain status?\n",
      "\n",
      "13 1.0 international students vacation time? Q: Do international students get vacation time?\n",
      "\n",
      "14 -1.0 international students allowed transfer schools? Q: Are international students allowed to transfer schools?\n",
      "\n",
      "15 -1.0 international student needs time finish program study, do? Q: If an international student needs more time to finish their program of study, what should they do?\n",
      "\n",
      "16 -1.0 withdrawing class violation status? Q: When does withdrawing from a class become a violation of status?\n",
      "\n",
      "17 -1.0 international students obtain social security number? Q: Can international students obtain a Social Security number?\n",
      "\n",
      "18 -1.0 international students drive united states? Q: Can international students drive in the United States?\n",
      "\n",
      "19 1.0 save e-verify? Q: What are SAVE and E-Verify?\n",
      "\n",
      "20 -1.0 international students work united states? Q: Can international students work while in the United States?\n",
      "\n",
      "21 -1.0 difference working training united states? Q: What is the difference between working and training in the United States?\n",
      "\n",
      "22 1.0 international students need pay income taxes united states? Q: Do international students need to pay income taxes in the United States?\n",
      "\n",
      "23 1.0 dependents work study united states? Q: Can dependents work and study in the United States?\n",
      "\n",
      "24 1.0 stem opt extension? Q: What is the STEM OPT extension?\n",
      "\n",
      "25 -1.0 international students need health insurance studying united states? Q: Do international students need health insurance while studying in the United States?\n",
      "\n",
      "26 0.0 sevp portal? Q: What is the SEVP Portal?\n",
      "\n",
      "27 -1.0 started studies us. eligible start curricular practical training right away? Q: I just started my studies in the US. Am I eligible to start Curricular Practical Training right away?\n",
      "\n",
      "28 -1.0 eligible apply cpt transfer school? Q: When am I eligible to apply for CPT if I transfer from another US school?\n",
      "\n",
      "29 -1.0 good internship opportunity. start work week? Q: I found a very good internship opportunity. May I start work next week?\n",
      "\n",
      "30 -1.0 long work cpt? Q: How long may I work on CPT?\n",
      "\n",
      "31 -1.0 complete time cpt eligible opt? Q: May I complete full time CPT and still be eligible for OPT?\n",
      "\n",
      "32 -1.0 long work cpt? Q: How long may I work on CPT?\n",
      "\n",
      "33 -1.0 employer cpt? Q: Who can be my employer during CPT?\n",
      "\n",
      "34 -1.0 heard curricular practical training off-campus job. true? Q: I heard that Curricular Practical Training is any off-campus job. Is that true?\n",
      "\n",
      "35 -1.0 new job area studies? need apply again? Q: What if I get a new job in my area of studies? Do I need to apply again?\n",
      "\n",
      "36 -1.0 cpt usually required recommended? Q: Is CPT usually required or is it only recommended?\n",
      "\n",
      "37 1.0 fee cpt? Q: Is there a fee for CPT?\n",
      "\n",
      "38 -1.0 curricular practical training? Q: What is Curricular Practical Training?\n",
      "\n",
      "39 1.0 eligible cpt? Q: Who is eligible for CPT?\n",
      "\n",
      "40 -1.0 need job offer apply ? Q: Do I need a job offer to apply ? \n",
      "\n",
      "41 1.0 need enrolled cpt? Q: Do I need to be enrolled while on CPT?\n",
      "\n",
      "42 1.0 need pay application fee cpt? Q: Do I need to pay an application fee for CPT?\n",
      "\n",
      "43 -1.0 cpt affect available opt future? Q: Does CPT affect my available OPT in future? \n",
      "\n",
      "44 -1.0 hours limit cpt? Q:  Is there an hours limit for CPT? \n",
      "\n",
      "45 -1.0 part-time cpt authorization. work full-time spring break? Q: I have part-time CPT authorization. Can I work full-time during Spring Break? \n",
      "\n",
      "46 -1.0 submit cpt request form? Q: When should I submit the CPT Request Form? \n",
      "\n",
      "47 -1.0 timeline processing request? Q: What is the timeline for processing this request? \n",
      "\n",
      "48 -1.0 submit cpt request form? Q: How do I submit the CPT Request Form? \n",
      "\n",
      "49 -1.0 submit request need cpt semester? Q: Can I submit just one request if I need CPT for more than one semester? \n",
      "\n",
      "50 -1.0 know request approved new i-20 ready? Q: How will I know if this request has been approved and my new I-20 is ready?\n",
      "\n",
      "51 1.0 know authorized cpt? begin cpt experience ? Q: How do I know that I am authorized for CPT? And when may I begin the CPT experience ? \n",
      "\n",
      "52 -1.0 need update address living new address cpt? Q: Do I need to update my address if I will be living at a new address during my CPT? \n",
      "\n",
      "53 1.0 f-1 status cpt? Q: Am I still in F-1 status during CPT? \n",
      "\n",
      "54 1.0 pay taxes cpt income? Q: Do I have to pay taxes on my CPT income? \n",
      "\n",
      "55 1.0 happens authorized cpt change mind lose position position changes (location, hours, job description, etc)? Q: What happens if I am authorized for CPT and then I change my mind or lose my position or something about the position changes (location, hours, job description, etc)?\n",
      "\n",
      "56 -1.0 request period cpt? Q: Can I request more than one period of CPT? \n",
      "\n",
      "57 -1.0 register cpt related degree dissertation requirement? Q:  Do I have to register for anything if my CPT is related to a degree or dissertation requirement?\n",
      "\n",
      "58 -1.0 program/school specific internship ourse. participate? Q: My program/school does not have a specific internship ourse. Can I still participate? \n",
      "\n",
      "59 -1.0 employer asked work remotely. permitted cpt? Q: My employer has asked me to work remotely. Is this permitted during CPT?\n",
      "\n",
      "60 -1.0 partaking cpt experiences semester (or summer) enrolling internship course. complete cpt application opportunities? Q:  I am partaking in two CPT experiences during the same semester (or same summer) and enrolling in an internship course. Can I complete one CPT application for the two opportunities?\n",
      "\n",
      "61 -1.0 want intern embassy; need authorization? i’ve heard embassies considered foreign territory. Q:  I want to intern at an embassy; do I need authorization? I’ve heard embassies are considered foreign territory.\n",
      "\n",
      "62 -1.0 social security services affected coronavirus (covid-19)? Q: Are Social Security services affected by Coronavirus (COVID-19)?\n",
      "\n",
      "63 1.0 claiming there's problem social security number account? Q: What should I do if I get a call claiming there's a problem with my Social Security number or account?\n",
      "\n",
      "64 1.0 change correct social security number card? Q: How do I change or correct my name on my Social Security number card?\n",
      "\n",
      "65 1.0 apply new replacement social security number card? Q: How do I apply for a new or replacement Social Security number card?\n",
      "\n",
      "66 -1.0 social security statement shows record earnings estimate future benefits? Q: How can I get a Social Security Statement that shows a record of my earnings and an estimate of my future benefits?\n",
      "\n",
      "67 1.0 form ssa-1099/1042s, social security benefit statement? Q: How can I get a form SSA-1099/1042S, Social Security Benefit Statement?\n",
      "\n",
      "\n",
      "\n",
      "Question :  how to replace the social security number card?\n",
      "Retrived :  Q: How can I get a form SSA-1099/1042S, Social Security Benefit Statement?\n",
      "\n",
      "An SSA-1099 is a tax form we mail each year in January to people who receive Social Security benefits. It shows the total amount of benefits you received from Social Security in the previous year so you know how much Social Security income to report to IRS on your tax return.If you are a nonresident alien and you received or repaid Social Security benefits last year, we will send you form SSA-1042S instead.The forms SSA-1099 and SSA-1042S are not available for people who receive Supplemental Security Income (SSI).Call 1-800-772-1213 (TTY 1-800-325-0778), Monday through Friday, 8:00 am – 7:00 pm;  \n"
     ]
    }
   ],
   "source": [
    "# with word2vec\n",
    "\n",
    "sent_embeddings = []\n",
    "for sent in clean_sentences:\n",
    "    sent_embeddings.append(getPhraseEmbedding(sent,v2w_model))\n",
    "\n",
    "question_embedding = getPhraseEmbedding(question, v2w_model)\n",
    "\n",
    "dic = getAnswer(question_embedding, sent_embeddings, data, clean_sentences)"
   ]
  },
  {
   "cell_type": "code",
   "execution_count": 140,
   "metadata": {},
   "outputs": [
    {
     "name": "stdout",
     "output_type": "stream",
     "text": [
      "Question :  how to replace the social security number card?\n",
      "1   Similar Question:  Q: Can international students bring their family members to the United States while they study?\n",
      "  Confidence:  1.0\n",
      "----------------------------------------\n",
      "2   Similar Question:  Q: How many classes make up a full course of study?\n",
      "  Confidence:  1.0\n",
      "----------------------------------------\n",
      "3   Similar Question:  Q: Do international students get vacation time?\n",
      "  Confidence:  1.0\n",
      "----------------------------------------\n",
      "4   Similar Question:  Q: What are SAVE and E-Verify?\n",
      "  Confidence:  1.0\n",
      "----------------------------------------\n",
      "5   Similar Question:  Q: Do international students need to pay income taxes in the United States?\n",
      "  Confidence:  1.0\n",
      "----------------------------------------\n"
     ]
    }
   ],
   "source": [
    "sort_orders = sorted(dic.items(), key=lambda x: x[1], reverse=True)\n",
    "i = 1\n",
    "print(\"Question : \", question)\n",
    "for t in sort_orders[0:5]:\n",
    "    print(i, \" \", \"Similar Question: \", data.iloc[t[0], 0],\" Confidence: \", t[1])\n",
    "    print(\"----------------------------------------\")\n",
    "    i = i+1"
   ]
  },
  {
   "cell_type": "code",
   "execution_count": null,
   "metadata": {},
   "outputs": [],
   "source": [
    "question_org = \"How international stident recieve i-20?\"\n",
    "question = clean_sentence(question_org, False)\n",
    "cleaned_sentences = get_Cleaned_sentence(data, False)\n",
    "\n",
    "sent_bertphrase_embeddings = []\n",
    "for sent in cleaned_sentences:\n",
    "    sent_bertphrase_embeddings.append(bc.encode([sent]))\n",
    "    \n",
    "question_embedding = bc.encode([question])\n",
    "\n",
    "getAnswer(question_embedding, sent_bertphrase_embeddings, data, cleaned_sentences)  "
   ]
  }
 ],
 "metadata": {
  "kernelspec": {
   "display_name": "Python 3",
   "language": "python",
   "name": "python3"
  },
  "language_info": {
   "codemirror_mode": {
    "name": "ipython",
    "version": 3
   },
   "file_extension": ".py",
   "mimetype": "text/x-python",
   "name": "python",
   "nbconvert_exporter": "python",
   "pygments_lexer": "ipython3",
   "version": "3.8.5"
  }
 },
 "nbformat": 4,
 "nbformat_minor": 4
}
