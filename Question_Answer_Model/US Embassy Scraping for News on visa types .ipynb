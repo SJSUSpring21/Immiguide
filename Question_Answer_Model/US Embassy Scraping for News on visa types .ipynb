{
 "cells": [
  {
   "cell_type": "code",
   "execution_count": 3,
   "metadata": {},
   "outputs": [],
   "source": [
    "import json\n",
    "import ssl\n",
    "from urllib.request import Request,urlopen\n",
    "from bs4 import BeautifulSoup"
   ]
  },
  {
   "cell_type": "code",
   "execution_count": 19,
   "metadata": {},
   "outputs": [
    {
     "name": "stdout",
     "output_type": "stream",
     "text": [
      "What would you like to search for? f-1 visa\n",
      "f-1 visa\n",
      "https://travel.state.gov/content/travel/en/us-visas/study/student-visa.html\n",
      "https://travel.state.gov/content/travel/en/us-visas/study.html\n",
      "https://www.internationalstudent.com/immigration/f1-student-visa/how-to-apply-f1-visa/\n",
      "https://uk.usembassy.gov/visas/study-exchange/student/\n",
      "https://in.usembassy.gov/education-culture/study-usa/student-visas/\n",
      "https://isso.ucsf.edu/f-1-visa-checklist\n",
      "https://www.ustraveldocs.com/in/student-visa.html\n",
      "https://studyinthestates.dhs.gov/students/applying-for-a-visa-to-travel-to-the-united-states\n"
     ]
    }
   ],
   "source": [
    "from googlesearch import search\n",
    "ip=input(\"What would you like to search for? \")\n",
    "print(ip)\n",
    "ip = ip + \" \" + \"us embassy\"\n",
    "urls = search(ip)\n",
    "url = ''\n",
    "i =0\n",
    "for u in urls:\n",
    "    if i == 1:\n",
    "        url = u\n",
    "    print(u)\n",
    "    if i ==7:\n",
    "        break;\n",
    "    i +=1"
   ]
  },
  {
   "cell_type": "code",
   "execution_count": 20,
   "metadata": {},
   "outputs": [
    {
     "data": {
      "text/plain": [
       "'https://travel.state.gov/content/travel/en/us-visas/study.html'"
      ]
     },
     "execution_count": 20,
     "metadata": {},
     "output_type": "execute_result"
    }
   ],
   "source": [
    "url "
   ]
  },
  {
   "cell_type": "code",
   "execution_count": 1,
   "metadata": {},
   "outputs": [],
   "source": [
    "url = 'https://travel.state.gov/content/travel/en/News/visas-news.html'"
   ]
  },
  {
   "cell_type": "code",
   "execution_count": 4,
   "metadata": {},
   "outputs": [],
   "source": [
    "ctx = ssl.create_default_context()\n",
    "ctx.check_hostname= False\n",
    "ctx.verify_mode = ssl.CERT_NONE"
   ]
  },
  {
   "cell_type": "code",
   "execution_count": 6,
   "metadata": {},
   "outputs": [],
   "source": [
    "req = Request(url, headers={'User-Agent' : 'Mozilla/5.0'})\n",
    "webpage = urlopen(req).read()\n",
    "soup = BeautifulSoup(webpage, 'html.parser')"
   ]
  },
  {
   "cell_type": "code",
   "execution_count": null,
   "metadata": {},
   "outputs": [],
   "source": [
    "segmentMenu parbase section"
   ]
  },
  {
   "cell_type": "code",
   "execution_count": 8,
   "metadata": {},
   "outputs": [],
   "source": [
    "news = soup.find(\"div\", {\"class\":\"segmentMenu parbase section\"})"
   ]
  },
  {
   "cell_type": "code",
   "execution_count": 9,
   "metadata": {},
   "outputs": [],
   "source": [
    "news = soup.find(\"div\", {\"class\":\"tsg-rwd-side-menu-iparsys iparsys parsys\"})"
   ]
  },
  {
   "cell_type": "code",
   "execution_count": 10,
   "metadata": {},
   "outputs": [
    {
     "data": {
      "text/plain": [
       "<div class=\"tsg-rwd-side-menu-iparsys iparsys parsys\"><div class=\"segmentMenu parbase section\">\n",
       "<ul class=\"default\">\n",
       "<li>\n",
       "<p>\n",
       "<a href=\"/content/travel/en/News/visas-news/june_26_supreme_court_decision_on_presidential_proclamation9645.html\" onclick=\"CQ_Analytics.record({event: 'listItemClicked', values: { listItemPath: '/content/travel/en/News/visas-news/june_26_supreme_court_decision_on_presidential_proclamation9645' }, collect:  false, options: { obj: this }, componentPath: 'tsg-rwd/components/content/segmentMenu'})\" title=\"June 26 Supreme Court Decision on Presidential Proclamation 9645\">June 26 Supreme Court Decision on Presidential Proclamation 9645</a>\n",
       "</p>\n",
       "</li>\n",
       "<li>\n",
       "<p>\n",
       "<a href=\"/content/travel/en/News/visas-news/20200123_birth-tourism-update.html\" onclick=\"CQ_Analytics.record({event: 'listItemClicked', values: { listItemPath: '/content/travel/en/News/visas-news/20200123_birth-tourism-update' }, collect:  false, options: { obj: this }, componentPath: 'tsg-rwd/components/content/segmentMenu'})\" title=\"Birth Tourism Update\">Birth Tourism Update</a>\n",
       "</p>\n",
       "</li>\n",
       "<li>\n",
       "<p>\n",
       "<a href=\"/content/travel/en/News/visas-news/20191004_presidential-proclamation-9945.html\" onclick=\"CQ_Analytics.record({event: 'listItemClicked', values: { listItemPath: '/content/travel/en/News/visas-news/20191004_presidential-proclamation-9945' }, collect:  false, options: { obj: this }, componentPath: 'tsg-rwd/components/content/segmentMenu'})\" title=\"Presidential Proclamation 9945\">Presidential Proclamation 9945</a>\n",
       "</p>\n",
       "</li>\n",
       "<li>\n",
       "<p>\n",
       "<a href=\"/content/travel/en/News/visas-news/20191003_dept-of-state-meeting-with-aila.html\" onclick=\"CQ_Analytics.record({event: 'listItemClicked', values: { listItemPath: '/content/travel/en/News/visas-news/20191003_dept-of-state-meeting-with-aila' }, collect:  false, options: { obj: this }, componentPath: 'tsg-rwd/components/content/segmentMenu'})\" title=\"The Department of State Meeting with the American Immigration Lawyers Association (AILA)\">The Department of State Meeting with the American Immigration Lawyers Association (AILA)</a>\n",
       "</p>\n",
       "</li>\n",
       "<li>\n",
       "<p>\n",
       "<a href=\"/content/travel/en/News/visas-news/20190726-twenty-fifth-anniversary-of-national-visa-center.html\" onclick=\"CQ_Analytics.record({event: 'listItemClicked', values: { listItemPath: '/content/travel/en/News/visas-news/20190726-twenty-fifth-anniversary-of-national-visa-center' }, collect:  false, options: { obj: this }, componentPath: 'tsg-rwd/components/content/segmentMenu'})\" title=\"Twenty-Fifth Anniversary of National Visa Center\">Twenty-Fifth Anniversary of National Visa Center</a>\n",
       "</p>\n",
       "</li>\n",
       "<li>\n",
       "<p>\n",
       "<a href=\"/content/travel/en/News/visas-news/20190604_collection-of-social-media-identifiers-from-U.-S.-visa-applicants.html\" onclick=\"CQ_Analytics.record({event: 'listItemClicked', values: { listItemPath: '/content/travel/en/News/visas-news/20190604_collection-of-social-media-identifiers-from-U.-S.-visa-applicants' }, collect:  false, options: { obj: this }, componentPath: 'tsg-rwd/components/content/segmentMenu'})\" title=\"Collection of Social Media Identifiers from U.S. Visa Applicants\">Collection of Social Media Identifiers from U.S. Visa Applicants</a>\n",
       "</p>\n",
       "</li>\n",
       "<li>\n",
       "<p>\n",
       "<a href=\"/content/travel/en/News/visas-news/20190424_dept-of-state-meeting-with-aila.html\" onclick=\"CQ_Analytics.record({event: 'listItemClicked', values: { listItemPath: '/content/travel/en/News/visas-news/20190424_dept-of-state-meeting-with-aila' }, collect:  false, options: { obj: this }, componentPath: 'tsg-rwd/components/content/segmentMenu'})\" title=\"The Department of State Meeting with the American Immigration Lawyers Association (AILA)\">The Department of State Meeting with the American Immigration Lawyers Association (AILA)</a>\n",
       "</p>\n",
       "</li>\n",
       "<li>\n",
       "<p>\n",
       "<a href=\"/content/travel/en/News/visas-news/20190304_us-embassy-in-tunis-begins-processing-libyan-immigrant-visas.html\" onclick=\"CQ_Analytics.record({event: 'listItemClicked', values: { listItemPath: '/content/travel/en/News/visas-news/20190304_us-embassy-in-tunis-begins-processing-libyan-immigrant-visas' }, collect:  false, options: { obj: this }, componentPath: 'tsg-rwd/components/content/segmentMenu'})\" title=\"U.S. Embassy in Tunis Begins Processing Libyan Immigrant Visas\">U.S. Embassy in Tunis Begins Processing Libyan Immigrant Visas</a>\n",
       "</p>\n",
       "</li>\n",
       "<li>\n",
       "<p>\n",
       "<a href=\"/content/travel/en/News/visas-news/20190226_us-embassy-in-bogota-processing-venezuelan-immigrant-visas.html\" onclick=\"CQ_Analytics.record({event: 'listItemClicked', values: { listItemPath: '/content/travel/en/News/visas-news/20190226_us-embassy-in-bogota-processing-venezuelan-immigrant-visas' }, collect:  false, options: { obj: this }, componentPath: 'tsg-rwd/components/content/segmentMenu'})\" title=\"U.S. Embassy in Bogota Begins Processing Venezuelan Immigrant Visas\">U.S. Embassy in Bogota Begins Processing Venezuelan Immigrant Visas</a>\n",
       "</p>\n",
       "</li>\n",
       "<li>\n",
       "<p>\n",
       "<a href=\"/content/travel/en/News/visas-news/20190125_routine-visa-services-suspended-in-caracas.html\" onclick=\"CQ_Analytics.record({event: 'listItemClicked', values: { listItemPath: '/content/travel/en/News/visas-news/20190125_routine-visa-services-suspended-in-caracas' }, collect:  false, options: { obj: this }, componentPath: 'tsg-rwd/components/content/segmentMenu'})\" title=\"Routine Visa Services Suspended in Caracas\">Routine Visa Services Suspended in Caracas</a>\n",
       "</p>\n",
       "</li>\n",
       "<li>\n",
       "<p>\n",
       "<a href=\"/content/travel/en/News/visas-news/20181018_dept-of-state-meeting-with-aila.html\" onclick=\"CQ_Analytics.record({event: 'listItemClicked', values: { listItemPath: '/content/travel/en/News/visas-news/20181018_dept-of-state-meeting-with-aila' }, collect:  false, options: { obj: this }, componentPath: 'tsg-rwd/components/content/segmentMenu'})\" title=\"The Department of State Meeting with the American Immigration Lawyers Association (AILA)\">The Department of State Meeting with the American Immigration Lawyers Association (AILA)</a>\n",
       "</p>\n",
       "</li>\n",
       "<li>\n",
       "<p>\n",
       "<a href=\"/content/travel/en/News/visas-news/20180621_processing-eb-5-petitions-at-nvc.html\" onclick=\"CQ_Analytics.record({event: 'listItemClicked', values: { listItemPath: '/content/travel/en/News/visas-news/20180621_processing-eb-5-petitions-at-nvc' }, collect:  false, options: { obj: this }, componentPath: 'tsg-rwd/components/content/segmentMenu'})\" title=\"Processing EB-5 Petitions at NVC\">Processing EB-5 Petitions at NVC</a>\n",
       "</p>\n",
       "</li>\n",
       "<li>\n",
       "<p>\n",
       "<a href=\"/content/travel/en/News/visas-news/20180412_dept-of-state-meeting-with-aila-2018.html\" onclick=\"CQ_Analytics.record({event: 'listItemClicked', values: { listItemPath: '/content/travel/en/News/visas-news/20180412_dept-of-state-meeting-with-aila-2018' }, collect:  false, options: { obj: this }, componentPath: 'tsg-rwd/components/content/segmentMenu'})\" title=\"The Department of State Meeting with the American Immigration Lawyers Association (AILA)\">The Department of State Meeting with the American Immigration Lawyers Association (AILA)</a>\n",
       "</p>\n",
       "</li>\n",
       "<li>\n",
       "<p>\n",
       "<a href=\"/content/travel/en/News/visas-news/20180401_mission-india-immigrant-visa-processing-consolidation.html\" onclick=\"CQ_Analytics.record({event: 'listItemClicked', values: { listItemPath: '/content/travel/en/News/visas-news/20180401_mission-india-immigrant-visa-processing-consolidation' }, collect:  false, options: { obj: this }, componentPath: 'tsg-rwd/components/content/segmentMenu'})\" title=\"Mission India Immigrant Visa Processing Consolidation\">Mission India Immigrant Visa Processing Consolidation</a>\n",
       "</p>\n",
       "</li>\n",
       "<li>\n",
       "<p>\n",
       "<a href=\"/content/travel/en/News/visas-news/20171128_national-visa-center-meeting-with-american-immigration-lawyers-association-AILA.html\" onclick=\"CQ_Analytics.record({event: 'listItemClicked', values: { listItemPath: '/content/travel/en/News/visas-news/20171128_national-visa-center-meeting-with-american-immigration-lawyers-association-AILA' }, collect:  false, options: { obj: this }, componentPath: 'tsg-rwd/components/content/segmentMenu'})\" title=\"National Visa Center Meeting with American Immigration Lawyers Association (AILA)\">National Visa Center Meeting with American Immigration Lawyers Association (AILA)</a>\n",
       "</p>\n",
       "</li>\n",
       "<li>\n",
       "<p>\n",
       "<a href=\"/content/travel/en/News/visas-news/20171019_meeting-between-the-american-immigration-lawyers-association-aila-and-dos-liaison-committee-and-the-visa-office-of-dos-bureau-of-consular-affairs.html\" onclick=\"CQ_Analytics.record({event: 'listItemClicked', values: { listItemPath: '/content/travel/en/News/visas-news/20171019_meeting-between-the-american-immigration-lawyers-association-aila-and-dos-liaison-committee-and-the-visa-office-of-dos-bureau-of-consular-affairs' }, collect:  false, options: { obj: this }, componentPath: 'tsg-rwd/components/content/segmentMenu'})\" title=\"Meeting between the American Immigration Lawyers Association (AILA) Department of State Liaison Committee and the Visa Office of the U.S. Department of State, Bureau of Consular Affairs\">Meeting between the American Immigration Lawyers Association (AILA) Department of State Liaison Committee and the Visa Office of the U.S. Department of State, Bureau of Consular Affairs</a>\n",
       "</p>\n",
       "</li>\n",
       "<li>\n",
       "<p>\n",
       "<a href=\"/content/travel/en/News/visas-news/20170426_dept-of-state-meeting-with-aila.html\" onclick=\"CQ_Analytics.record({event: 'listItemClicked', values: { listItemPath: '/content/travel/en/News/visas-news/20170426_dept-of-state-meeting-with-aila' }, collect:  false, options: { obj: this }, componentPath: 'tsg-rwd/components/content/segmentMenu'})\" title=\"The Department of State Meeting with the American Immigration Lawyers Association (AILA)\">The Department of State Meeting with the American Immigration Lawyers Association (AILA)</a>\n",
       "</p>\n",
       "</li>\n",
       "<li>\n",
       "<p>\n",
       "<a href=\"/content/travel/en/News/visas-news/20170924_presidential_proclamation_Enhancing_Vetting_Capabilities_and_Processes_for_Detecting_Attempted_Entry_into_the_United_States_by_Terrorists_or_other_Public-Safety_Threats.html\" onclick=\"CQ_Analytics.record({event: 'listItemClicked', values: { listItemPath: '/content/travel/en/News/visas-news/20170924_presidential_proclamation_Enhancing_Vetting_Capabilities_and_Processes_for_Detecting_Attempted_Entry_into_the_United_States_by_Terrorists_or_other_Public-Safety_Threats' }, collect:  false, options: { obj: this }, componentPath: 'tsg-rwd/components/content/segmentMenu'})\" title=\"Presidential Proclamation on Visas\">Presidential Proclamation on Visas</a>\n",
       "</p>\n",
       "</li>\n",
       "<li>\n",
       "<p>\n",
       "<a href=\"/content/travel/en/News/visas-news/Visa-waiver-travel-for-Polish-nationals.html\" onclick=\"CQ_Analytics.record({event: 'listItemClicked', values: { listItemPath: '/content/travel/en/News/visas-news/Visa-waiver-travel-for-Polish-nationals' }, collect:  false, options: { obj: this }, componentPath: 'tsg-rwd/components/content/segmentMenu'})\" title=\"Visa Waiver Travel for Polish Nationals\">Visa Waiver Travel for Polish Nationals</a>\n",
       "</p>\n",
       "</li>\n",
       "<li>\n",
       "<p>\n",
       "<a href=\"/content/travel/en/News/visas-news/update-to-family-based-immigrant-visa-web-pages.html\" onclick=\"CQ_Analytics.record({event: 'listItemClicked', values: { listItemPath: '/content/travel/en/News/visas-news/update-to-family-based-immigrant-visa-web-pages' }, collect:  false, options: { obj: this }, componentPath: 'tsg-rwd/components/content/segmentMenu'})\" title=\"Update to Family-Based Immigrant Visa Web Pages\">Update to Family-Based Immigrant Visa Web Pages</a>\n",
       "</p>\n",
       "</li>\n",
       "<li>\n",
       "<p>\n",
       "<a href=\"/content/travel/en/News/visas-news/visas-ceac-case-status-change.html\" onclick=\"CQ_Analytics.record({event: 'listItemClicked', values: { listItemPath: '/content/travel/en/News/visas-news/visas-ceac-case-status-change' }, collect:  false, options: { obj: this }, componentPath: 'tsg-rwd/components/content/segmentMenu'})\" title=\"Visas: CEAC Case Status Change\">Visas: CEAC Case Status Change</a>\n",
       "</p>\n",
       "</li>\n",
       "<li>\n",
       "<p>\n",
       "<a href=\"/content/travel/en/News/visas-news/suspension-of-routine-visa-services.html\" onclick=\"CQ_Analytics.record({event: 'listItemClicked', values: { listItemPath: '/content/travel/en/News/visas-news/suspension-of-routine-visa-services' }, collect:  false, options: { obj: this }, componentPath: 'tsg-rwd/components/content/segmentMenu'})\" title=\"Suspension of Routine Visa Services\">Suspension of Routine Visa Services</a>\n",
       "</p>\n",
       "</li>\n",
       "<li>\n",
       "<p>\n",
       "<a href=\"/content/travel/en/News/visas-news/important-announcement-on-h2-visas.html\" onclick=\"CQ_Analytics.record({event: 'listItemClicked', values: { listItemPath: '/content/travel/en/News/visas-news/important-announcement-on-h2-visas' }, collect:  false, options: { obj: this }, componentPath: 'tsg-rwd/components/content/segmentMenu'})\" title=\"Important Announcement on H2 Visas\">Important Announcement on H2 Visas</a>\n",
       "</p>\n",
       "</li>\n",
       "<li>\n",
       "<p>\n",
       "<a href=\"/content/travel/en/News/visas-news/update-on-h-and-j-visas-for-medical-professionals.html\" onclick=\"CQ_Analytics.record({event: 'listItemClicked', values: { listItemPath: '/content/travel/en/News/visas-news/update-on-h-and-j-visas-for-medical-professionals' }, collect:  false, options: { obj: this }, componentPath: 'tsg-rwd/components/content/segmentMenu'})\" title=\"Update on Visas for Medical Professionals\">Update on Visas for Medical Professionals</a>\n",
       "</p>\n",
       "</li>\n",
       "<li>\n",
       "<p>\n",
       "<a href=\"/content/travel/en/News/visas-news/presidential-proclamation-coronavirus.html\" onclick=\"CQ_Analytics.record({event: 'listItemClicked', values: { listItemPath: '/content/travel/en/News/visas-news/presidential-proclamation-coronavirus' }, collect:  false, options: { obj: this }, componentPath: 'tsg-rwd/components/content/segmentMenu'})\" title=\"Presidential Proclamations on Novel Coronavirus\">Presidential Proclamations on Novel Coronavirus</a>\n",
       "</p>\n",
       "</li>\n",
       "<li>\n",
       "<p>\n",
       "<a href=\"/content/travel/en/News/visas-news/dv2021-entrant-status-check-announcement.html\" onclick=\"CQ_Analytics.record({event: 'listItemClicked', values: { listItemPath: '/content/travel/en/News/visas-news/dv2021-entrant-status-check-announcement' }, collect:  false, options: { obj: this }, componentPath: 'tsg-rwd/components/content/segmentMenu'})\" title=\"DV-2021 Entrant Status Check Announcement\">DV-2021 Entrant Status Check Announcement</a>\n",
       "</p>\n",
       "</li>\n",
       "<li>\n",
       "<p>\n",
       "<a href=\"/content/travel/en/News/visas-news/nvc-correspondence-update.html\" onclick=\"CQ_Analytics.record({event: 'listItemClicked', values: { listItemPath: '/content/travel/en/News/visas-news/nvc-correspondence-update' }, collect:  false, options: { obj: this }, componentPath: 'tsg-rwd/components/content/segmentMenu'})\" title=\"NVC Correspondence Update\">NVC Correspondence Update</a>\n",
       "</p>\n",
       "</li>\n",
       "<li>\n",
       "<p>\n",
       "<a href=\"/content/travel/en/News/visas-news/one-month-extension-of-immigrant-visa-medical-examinations.html\" onclick=\"CQ_Analytics.record({event: 'listItemClicked', values: { listItemPath: '/content/travel/en/News/visas-news/one-month-extension-of-immigrant-visa-medical-examinations' }, collect:  false, options: { obj: this }, componentPath: 'tsg-rwd/components/content/segmentMenu'})\" title=\"One Month Extension of Immigrant Visa Medical Examinations\">One Month Extension of Immigrant Visa Medical Examinations</a>\n",
       "</p>\n",
       "</li>\n",
       "<li>\n",
       "<p>\n",
       "<a href=\"/content/travel/en/News/visas-news/sevp-online-course-guidance-for-f-and-m-students-for-fall-2020.html\" onclick=\"CQ_Analytics.record({event: 'listItemClicked', values: { listItemPath: '/content/travel/en/News/visas-news/sevp-online-course-guidance-for-f-and-m-students-for-fall-2020' }, collect:  false, options: { obj: this }, componentPath: 'tsg-rwd/components/content/segmentMenu'})\" title=\"SEVP Online Course Guidance for F and M Students for Fall 2020\">SEVP Online Course Guidance for F and M Students for Fall 2020</a>\n",
       "</p>\n",
       "</li>\n",
       "<li>\n",
       "<p>\n",
       "<a href=\"/content/travel/en/News/visas-news/update-on-public-charge.html\" onclick=\"CQ_Analytics.record({event: 'listItemClicked', values: { listItemPath: '/content/travel/en/News/visas-news/update-on-public-charge' }, collect:  false, options: { obj: this }, componentPath: 'tsg-rwd/components/content/segmentMenu'})\" title=\"Update on Public Charge\">Update on Public Charge</a>\n",
       "</p>\n",
       "</li>\n",
       "<li>\n",
       "<p>\n",
       "<a href=\"/content/travel/en/News/visas-news/expansion-of-interview-waiver-eligibility.html\" onclick=\"CQ_Analytics.record({event: 'listItemClicked', values: { listItemPath: '/content/travel/en/News/visas-news/expansion-of-interview-waiver-eligibility' }, collect:  false, options: { obj: this }, componentPath: 'tsg-rwd/components/content/segmentMenu'})\" title=\"Expansion of Interview Waiver Eligibility\">Expansion of Interview Waiver Eligibility</a>\n",
       "</p>\n",
       "</li>\n",
       "<li>\n",
       "<p>\n",
       "<a href=\"/content/travel/en/News/visas-news/important-notice-for-k-visa-applicants-affected-by-covid-19.html\" onclick=\"CQ_Analytics.record({event: 'listItemClicked', values: { listItemPath: '/content/travel/en/News/visas-news/important-notice-for-k-visa-applicants-affected-by-covid-19' }, collect:  false, options: { obj: this }, componentPath: 'tsg-rwd/components/content/segmentMenu'})\" title=\"Important Notice for K visa applicants affected by COVID-19\">Important Notice for K visa applicants affected by COVID-19</a>\n",
       "</p>\n",
       "</li>\n",
       "<li>\n",
       "<p>\n",
       "<a href=\"/content/travel/en/News/visas-news/diversity-visa-DV-2020-update.html\" onclick=\"CQ_Analytics.record({event: 'listItemClicked', values: { listItemPath: '/content/travel/en/News/visas-news/diversity-visa-DV-2020-update' }, collect:  false, options: { obj: this }, componentPath: 'tsg-rwd/components/content/segmentMenu'})\" title=\"Diversity Visa (DV-2020) Update\">Diversity Visa (DV-2020) Update</a>\n",
       "</p>\n",
       "</li>\n",
       "<li>\n",
       "<p>\n",
       "<a href=\"/content/travel/en/News/visas-news/k-visa-processing-update.html\" onclick=\"CQ_Analytics.record({event: 'listItemClicked', values: { listItemPath: '/content/travel/en/News/visas-news/k-visa-processing-update' }, collect:  false, options: { obj: this }, componentPath: 'tsg-rwd/components/content/segmentMenu'})\" title=\"K Visa Processing Update\">K Visa Processing Update</a>\n",
       "</p>\n",
       "</li>\n",
       "<li>\n",
       "<p>\n",
       "<a href=\"/content/travel/en/News/visas-news/20201214_dept-of-state-meeting-with-aila.html\" onclick=\"CQ_Analytics.record({event: 'listItemClicked', values: { listItemPath: '/content/travel/en/News/visas-news/20201214_dept-of-state-meeting-with-aila' }, collect:  false, options: { obj: this }, componentPath: 'tsg-rwd/components/content/segmentMenu'})\" title=\"The Department of State Meeting with the American Immigration Lawyers Association (AILA)\">The Department of State Meeting with the American Immigration Lawyers Association (AILA)</a>\n",
       "</p>\n",
       "</li>\n",
       "<li>\n",
       "<p>\n",
       "<a href=\"/content/travel/en/News/visas-news/immigrant-visa-processing-update.html\" onclick=\"CQ_Analytics.record({event: 'listItemClicked', values: { listItemPath: '/content/travel/en/News/visas-news/immigrant-visa-processing-update' }, collect:  false, options: { obj: this }, componentPath: 'tsg-rwd/components/content/segmentMenu'})\" title=\"Immigrant Visa Processing Update\">Immigrant Visa Processing Update</a>\n",
       "</p>\n",
       "</li>\n",
       "<li>\n",
       "<p>\n",
       "<a href=\"/content/travel/en/News/visas-news/rescission-of-presidential-proclamations-9645-and-9983.html\" onclick=\"CQ_Analytics.record({event: 'listItemClicked', values: { listItemPath: '/content/travel/en/News/visas-news/rescission-of-presidential-proclamations-9645-and-9983' }, collect:  false, options: { obj: this }, componentPath: 'tsg-rwd/components/content/segmentMenu'})\" title=\"Rescission of Presidential Proclamations 9645 and 9983\">Rescission of Presidential Proclamations 9645 and 9983</a>\n",
       "</p>\n",
       "</li>\n",
       "<li>\n",
       "<p>\n",
       "<a href=\"/content/travel/en/News/visas-news/affidavit-of-support-fee-refund.html\" onclick=\"CQ_Analytics.record({event: 'listItemClicked', values: { listItemPath: '/content/travel/en/News/visas-news/affidavit-of-support-fee-refund' }, collect:  false, options: { obj: this }, componentPath: 'tsg-rwd/components/content/segmentMenu'})\" title=\"Affidavit of Support Fee Refund\">Affidavit of Support Fee Refund</a>\n",
       "</p>\n",
       "</li>\n",
       "<li>\n",
       "<p>\n",
       "<a href=\"/content/travel/en/News/visas-news/national-interest-exception-for-certain-h-2-travelers-from-south-africa.html\" onclick=\"CQ_Analytics.record({event: 'listItemClicked', values: { listItemPath: '/content/travel/en/News/visas-news/national-interest-exception-for-certain-h-2-travelers-from-south-africa' }, collect:  false, options: { obj: this }, componentPath: 'tsg-rwd/components/content/segmentMenu'})\" title=\"National Interest Exception for Certain H-2 travelers from South Africa\">National Interest Exception for Certain H-2 travelers from South Africa</a>\n",
       "</p>\n",
       "</li>\n",
       "<li>\n",
       "<p>\n",
       "<a href=\"/content/travel/en/News/visas-news/rescission-of-presidential-proclamation-10014.html\" onclick=\"CQ_Analytics.record({event: 'listItemClicked', values: { listItemPath: '/content/travel/en/News/visas-news/rescission-of-presidential-proclamation-10014' }, collect:  false, options: { obj: this }, componentPath: 'tsg-rwd/components/content/segmentMenu'})\" title=\"Rescission of Presidential Proclamation 10014\">Rescission of Presidential Proclamation 10014</a>\n",
       "</p>\n",
       "</li>\n",
       "<li>\n",
       "<p>\n",
       "<a href=\"/content/travel/en/News/visas-news/update-on-presidential-proclamation-10052.html\" onclick=\"CQ_Analytics.record({event: 'listItemClicked', values: { listItemPath: '/content/travel/en/News/visas-news/update-on-presidential-proclamation-10052' }, collect:  false, options: { obj: this }, componentPath: 'tsg-rwd/components/content/segmentMenu'})\" title=\"Update on Presidential Proclamation 10052\">Update on Presidential Proclamation 10052</a>\n",
       "</p>\n",
       "</li>\n",
       "<li>\n",
       "<p>\n",
       "<a href=\"/content/travel/en/News/visas-news/visa-services-operating-status-update.html\" onclick=\"CQ_Analytics.record({event: 'listItemClicked', values: { listItemPath: '/content/travel/en/News/visas-news/visa-services-operating-status-update' }, collect:  false, options: { obj: this }, componentPath: 'tsg-rwd/components/content/segmentMenu'})\" title=\"Visa Services Operating Status Update\">Visa Services Operating Status Update</a>\n",
       "</p>\n",
       "</li>\n",
       "<li>\n",
       "<p>\n",
       "<a href=\"/content/travel/en/News/visas-news/updates-to-national-interest-exceptions-for-regional-covid-proclamations.html\" onclick=\"CQ_Analytics.record({event: 'listItemClicked', values: { listItemPath: '/content/travel/en/News/visas-news/updates-to-national-interest-exceptions-for-regional-covid-proclamations' }, collect:  false, options: { obj: this }, componentPath: 'tsg-rwd/components/content/segmentMenu'})\" title=\"Updates to National Interest Exceptions for Regional COVID Proclamations\">Updates to National Interest Exceptions for Regional COVID Proclamations</a>\n",
       "</p>\n",
       "</li>\n",
       "<li>\n",
       "<p>\n",
       "<a href=\"/content/travel/en/News/visas-news/national-visa-center-meeting-with-aila.html\" onclick=\"CQ_Analytics.record({event: 'listItemClicked', values: { listItemPath: '/content/travel/en/News/visas-news/national-visa-center-meeting-with-aila' }, collect:  false, options: { obj: this }, componentPath: 'tsg-rwd/components/content/segmentMenu'})\" title=\"National Visa Center Meeting with AILA on February 17,2021\">National Visa Center Meeting with AILA on February 17,2021</a>\n",
       "</p>\n",
       "</li>\n",
       "<li>\n",
       "<p>\n",
       "<a href=\"/content/travel/en/News/visas-news/national-interest-exceptions-for-certain-travelers-from-china-Iran-brazil-south-africa-schengen-area-united-kingdom-and-ireland.html\" onclick=\"CQ_Analytics.record({event: 'listItemClicked', values: { listItemPath: '/content/travel/en/News/visas-news/national-interest-exceptions-for-certain-travelers-from-china-Iran-brazil-south-africa-schengen-area-united-kingdom-and-ireland' }, collect:  false, options: { obj: this }, componentPath: 'tsg-rwd/components/content/segmentMenu'})\" title=\"National Interest Exceptions for Certain Travelers from China, Iran, Brazil, South Africa, Schengen Area, United Kingdom, and Ireland\">National Interest Exceptions for Certain Travelers from China, Iran, Brazil, South Africa, Schengen Area, United Kingdom, and Ireland</a>\n",
       "</p>\n",
       "</li>\n",
       "<li>\n",
       "<p>\n",
       "<a href=\"/content/travel/en/News/visas-news/immigrant-visa-prioritization.html\" onclick=\"CQ_Analytics.record({event: 'listItemClicked', values: { listItemPath: '/content/travel/en/News/visas-news/immigrant-visa-prioritization' }, collect:  false, options: { obj: this }, componentPath: 'tsg-rwd/components/content/segmentMenu'})\" title=\"Immigrant Visa Prioritization\">Immigrant Visa Prioritization</a>\n",
       "</p>\n",
       "</li>\n",
       "<li>\n",
       "<p>\n",
       "<a href=\"/content/travel/en/News/visas-news/presidential-proclamation-on-the-suspension-of-entry-as-nonimmigrants-of-certain-additional-persons-who-pose-a-risk-of-transmitting-coronavirus-disease-2019.html\" onclick=\"CQ_Analytics.record({event: 'listItemClicked', values: { listItemPath: '/content/travel/en/News/visas-news/presidential-proclamation-on-the-suspension-of-entry-as-nonimmigrants-of-certain-additional-persons-who-pose-a-risk-of-transmitting-coronavirus-disease-2019' }, collect:  false, options: { obj: this }, componentPath: 'tsg-rwd/components/content/segmentMenu'})\" title=\"Presidential Proclamation on the Suspension of Entry as Nonimmigrants of Certain Additional Persons Who Pose a Risk of Transmitting Coronavirus Disease 2019\">Presidential Proclamation on the Suspension of Entry as Nonimmigrants of Certain Additional Persons Who Pose a Risk of Transmitting Coronavirus Disease 2019</a>\n",
       "</p>\n",
       "</li></ul>\n",
       "</div>\n",
       "<div class=\"section\"><div class=\"new\"></div>\n",
       "</div><div class=\"iparys_inherited\"><div class=\"tsg-rwd-side-menu-iparsys iparsys parsys\">\n",
       "</div>\n",
       "</div>\n",
       "</div>"
      ]
     },
     "execution_count": 10,
     "metadata": {},
     "output_type": "execute_result"
    }
   ],
   "source": [
    "news"
   ]
  },
  {
   "cell_type": "code",
   "execution_count": 11,
   "metadata": {},
   "outputs": [],
   "source": [
    "rows  = news.find_all('a')"
   ]
  },
  {
   "cell_type": "code",
   "execution_count": 12,
   "metadata": {},
   "outputs": [],
   "source": [
    "import re"
   ]
  },
  {
   "cell_type": "code",
   "execution_count": 13,
   "metadata": {},
   "outputs": [],
   "source": [
    "news_title = {}\n",
    "for row in rows:\n",
    "    title = row.get('title')\n",
    "    link = \"https://travel.state.gov\" + row.get('href')\n",
    "    news_title[title] = link"
   ]
  },
  {
   "cell_type": "code",
   "execution_count": 14,
   "metadata": {},
   "outputs": [
    {
     "data": {
      "text/plain": [
       "{'June 26 Supreme Court Decision on Presidential Proclamation 9645': 'https://travel.state.gov/content/travel/en/News/visas-news/june_26_supreme_court_decision_on_presidential_proclamation9645.html',\n",
       " 'Birth Tourism Update': 'https://travel.state.gov/content/travel/en/News/visas-news/20200123_birth-tourism-update.html',\n",
       " 'Presidential Proclamation 9945': 'https://travel.state.gov/content/travel/en/News/visas-news/20191004_presidential-proclamation-9945.html',\n",
       " 'The Department of State Meeting with the American Immigration Lawyers Association (AILA)': 'https://travel.state.gov/content/travel/en/News/visas-news/20201214_dept-of-state-meeting-with-aila.html',\n",
       " 'Twenty-Fifth Anniversary of National Visa Center': 'https://travel.state.gov/content/travel/en/News/visas-news/20190726-twenty-fifth-anniversary-of-national-visa-center.html',\n",
       " 'Collection of Social Media Identifiers from U.S. Visa Applicants': 'https://travel.state.gov/content/travel/en/News/visas-news/20190604_collection-of-social-media-identifiers-from-U.-S.-visa-applicants.html',\n",
       " 'U.S. Embassy in Tunis Begins Processing Libyan Immigrant Visas': 'https://travel.state.gov/content/travel/en/News/visas-news/20190304_us-embassy-in-tunis-begins-processing-libyan-immigrant-visas.html',\n",
       " 'U.S. Embassy in Bogota Begins Processing Venezuelan Immigrant Visas': 'https://travel.state.gov/content/travel/en/News/visas-news/20190226_us-embassy-in-bogota-processing-venezuelan-immigrant-visas.html',\n",
       " 'Routine Visa Services Suspended in Caracas': 'https://travel.state.gov/content/travel/en/News/visas-news/20190125_routine-visa-services-suspended-in-caracas.html',\n",
       " 'Processing EB-5 Petitions at NVC': 'https://travel.state.gov/content/travel/en/News/visas-news/20180621_processing-eb-5-petitions-at-nvc.html',\n",
       " 'Mission India Immigrant Visa Processing Consolidation': 'https://travel.state.gov/content/travel/en/News/visas-news/20180401_mission-india-immigrant-visa-processing-consolidation.html',\n",
       " 'National Visa Center Meeting with American Immigration Lawyers Association (AILA)': 'https://travel.state.gov/content/travel/en/News/visas-news/20171128_national-visa-center-meeting-with-american-immigration-lawyers-association-AILA.html',\n",
       " 'Meeting between the American Immigration Lawyers Association (AILA) Department of State Liaison Committee and the Visa Office of the U.S. Department of State, Bureau of Consular Affairs': 'https://travel.state.gov/content/travel/en/News/visas-news/20171019_meeting-between-the-american-immigration-lawyers-association-aila-and-dos-liaison-committee-and-the-visa-office-of-dos-bureau-of-consular-affairs.html',\n",
       " 'Presidential Proclamation on Visas': 'https://travel.state.gov/content/travel/en/News/visas-news/20170924_presidential_proclamation_Enhancing_Vetting_Capabilities_and_Processes_for_Detecting_Attempted_Entry_into_the_United_States_by_Terrorists_or_other_Public-Safety_Threats.html',\n",
       " 'Visa Waiver Travel for Polish Nationals': 'https://travel.state.gov/content/travel/en/News/visas-news/Visa-waiver-travel-for-Polish-nationals.html',\n",
       " 'Update to Family-Based Immigrant Visa Web Pages': 'https://travel.state.gov/content/travel/en/News/visas-news/update-to-family-based-immigrant-visa-web-pages.html',\n",
       " 'Visas: CEAC Case Status Change': 'https://travel.state.gov/content/travel/en/News/visas-news/visas-ceac-case-status-change.html',\n",
       " 'Suspension of Routine Visa Services': 'https://travel.state.gov/content/travel/en/News/visas-news/suspension-of-routine-visa-services.html',\n",
       " 'Important Announcement on H2 Visas': 'https://travel.state.gov/content/travel/en/News/visas-news/important-announcement-on-h2-visas.html',\n",
       " 'Update on Visas for Medical Professionals': 'https://travel.state.gov/content/travel/en/News/visas-news/update-on-h-and-j-visas-for-medical-professionals.html',\n",
       " 'Presidential Proclamations on Novel Coronavirus': 'https://travel.state.gov/content/travel/en/News/visas-news/presidential-proclamation-coronavirus.html',\n",
       " 'DV-2021 Entrant Status Check Announcement': 'https://travel.state.gov/content/travel/en/News/visas-news/dv2021-entrant-status-check-announcement.html',\n",
       " 'NVC Correspondence Update': 'https://travel.state.gov/content/travel/en/News/visas-news/nvc-correspondence-update.html',\n",
       " 'One Month Extension of Immigrant Visa Medical Examinations': 'https://travel.state.gov/content/travel/en/News/visas-news/one-month-extension-of-immigrant-visa-medical-examinations.html',\n",
       " 'SEVP Online Course Guidance for F and M Students for Fall 2020': 'https://travel.state.gov/content/travel/en/News/visas-news/sevp-online-course-guidance-for-f-and-m-students-for-fall-2020.html',\n",
       " 'Update on Public Charge': 'https://travel.state.gov/content/travel/en/News/visas-news/update-on-public-charge.html',\n",
       " 'Expansion of Interview Waiver Eligibility': 'https://travel.state.gov/content/travel/en/News/visas-news/expansion-of-interview-waiver-eligibility.html',\n",
       " 'Important Notice for K visa applicants affected by COVID-19': 'https://travel.state.gov/content/travel/en/News/visas-news/important-notice-for-k-visa-applicants-affected-by-covid-19.html',\n",
       " 'Diversity Visa (DV-2020) Update': 'https://travel.state.gov/content/travel/en/News/visas-news/diversity-visa-DV-2020-update.html',\n",
       " 'K Visa Processing Update': 'https://travel.state.gov/content/travel/en/News/visas-news/k-visa-processing-update.html',\n",
       " 'Immigrant Visa Processing Update': 'https://travel.state.gov/content/travel/en/News/visas-news/immigrant-visa-processing-update.html',\n",
       " 'Rescission of Presidential Proclamations 9645 and 9983': 'https://travel.state.gov/content/travel/en/News/visas-news/rescission-of-presidential-proclamations-9645-and-9983.html',\n",
       " 'Affidavit of Support Fee Refund': 'https://travel.state.gov/content/travel/en/News/visas-news/affidavit-of-support-fee-refund.html',\n",
       " 'National Interest Exception for Certain H-2 travelers from South Africa': 'https://travel.state.gov/content/travel/en/News/visas-news/national-interest-exception-for-certain-h-2-travelers-from-south-africa.html',\n",
       " 'Rescission of Presidential Proclamation 10014': 'https://travel.state.gov/content/travel/en/News/visas-news/rescission-of-presidential-proclamation-10014.html',\n",
       " 'Update on Presidential Proclamation 10052': 'https://travel.state.gov/content/travel/en/News/visas-news/update-on-presidential-proclamation-10052.html',\n",
       " 'Visa Services Operating Status Update': 'https://travel.state.gov/content/travel/en/News/visas-news/visa-services-operating-status-update.html',\n",
       " 'Updates to National Interest Exceptions for Regional COVID Proclamations': 'https://travel.state.gov/content/travel/en/News/visas-news/updates-to-national-interest-exceptions-for-regional-covid-proclamations.html',\n",
       " 'National Visa Center Meeting with AILA on February 17,2021': 'https://travel.state.gov/content/travel/en/News/visas-news/national-visa-center-meeting-with-aila.html',\n",
       " 'National Interest Exceptions for Certain Travelers from China, Iran, Brazil, South Africa, Schengen Area, United Kingdom, and Ireland': 'https://travel.state.gov/content/travel/en/News/visas-news/national-interest-exceptions-for-certain-travelers-from-china-Iran-brazil-south-africa-schengen-area-united-kingdom-and-ireland.html',\n",
       " 'Immigrant Visa Prioritization': 'https://travel.state.gov/content/travel/en/News/visas-news/immigrant-visa-prioritization.html',\n",
       " 'Presidential Proclamation on the Suspension of Entry as Nonimmigrants of Certain Additional Persons Who Pose a Risk of Transmitting Coronavirus Disease 2019': 'https://travel.state.gov/content/travel/en/News/visas-news/presidential-proclamation-on-the-suspension-of-entry-as-nonimmigrants-of-certain-additional-persons-who-pose-a-risk-of-transmitting-coronavirus-disease-2019.html'}"
      ]
     },
     "execution_count": 14,
     "metadata": {},
     "output_type": "execute_result"
    }
   ],
   "source": [
    "news_title"
   ]
  },
  {
   "cell_type": "code",
   "execution_count": 15,
   "metadata": {},
   "outputs": [],
   "source": [
    "rectify_title = {}\n",
    "words = ['F1', 'Student', 'OPT', 'CPT', 'COVID', 'Nonimmigrants']\n",
    "for title in news_title:\n",
    "    flag = False \n",
    "    for word in words:\n",
    "        if word in title:\n",
    "            flag = True\n",
    "            rectify_title[title] = news_title[title]\n",
    "            break;\n",
    "    "
   ]
  },
  {
   "cell_type": "code",
   "execution_count": 16,
   "metadata": {},
   "outputs": [
    {
     "data": {
      "text/plain": [
       "{'SEVP Online Course Guidance for F and M Students for Fall 2020': 'https://travel.state.gov/content/travel/en/News/visas-news/sevp-online-course-guidance-for-f-and-m-students-for-fall-2020.html',\n",
       " 'Important Notice for K visa applicants affected by COVID-19': 'https://travel.state.gov/content/travel/en/News/visas-news/important-notice-for-k-visa-applicants-affected-by-covid-19.html',\n",
       " 'Updates to National Interest Exceptions for Regional COVID Proclamations': 'https://travel.state.gov/content/travel/en/News/visas-news/updates-to-national-interest-exceptions-for-regional-covid-proclamations.html',\n",
       " 'Presidential Proclamation on the Suspension of Entry as Nonimmigrants of Certain Additional Persons Who Pose a Risk of Transmitting Coronavirus Disease 2019': 'https://travel.state.gov/content/travel/en/News/visas-news/presidential-proclamation-on-the-suspension-of-entry-as-nonimmigrants-of-certain-additional-persons-who-pose-a-risk-of-transmitting-coronavirus-disease-2019.html'}"
      ]
     },
     "execution_count": 16,
     "metadata": {},
     "output_type": "execute_result"
    }
   ],
   "source": [
    "rectify_title"
   ]
  }
 ],
 "metadata": {
  "kernelspec": {
   "display_name": "Python 3",
   "language": "python",
   "name": "python3"
  },
  "language_info": {
   "codemirror_mode": {
    "name": "ipython",
    "version": 3
   },
   "file_extension": ".py",
   "mimetype": "text/x-python",
   "name": "python",
   "nbconvert_exporter": "python",
   "pygments_lexer": "ipython3",
   "version": "3.8.5"
  }
 },
 "nbformat": 4,
 "nbformat_minor": 4
}
